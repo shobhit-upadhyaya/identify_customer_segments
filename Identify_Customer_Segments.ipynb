{
 "cells": [
  {
   "cell_type": "markdown",
   "metadata": {},
   "source": [
    "# Project: Identify Customer Segments\n",
    "\n",
    "In this project, you will apply unsupervised learning techniques to identify segments of the population that form the core customer base for a mail-order sales company in Germany. These segments can then be used to direct marketing campaigns towards audiences that will have the highest expected rate of returns. The data that you will use has been provided by our partners at Bertelsmann Arvato Analytics, and represents a real-life data science task.\n",
    "\n",
    "This notebook will help you complete this task by providing a framework within which you will perform your analysis steps. In each step of the project, you will see some text describing the subtask that you will perform, followed by one or more code cells for you to complete your work. **Feel free to add additional code and markdown cells as you go along so that you can explore everything in precise chunks.** The code cells provided in the base template will outline only the major tasks, and will usually not be enough to cover all of the minor tasks that comprise it.\n",
    "\n",
    "It should be noted that while there will be precise guidelines on how you should handle certain tasks in the project, there will also be places where an exact specification is not provided. **There will be times in the project where you will need to make and justify your own decisions on how to treat the data.** These are places where there may not be only one way to handle the data. In real-life tasks, there may be many valid ways to approach an analysis task. One of the most important things you can do is clearly document your approach so that other scientists can understand the decisions you've made.\n",
    "\n",
    "At the end of most sections, there will be a Markdown cell labeled **Discussion**. In these cells, you will report your findings for the completed section, as well as document the decisions that you made in your approach to each subtask. **Your project will be evaluated not just on the code used to complete the tasks outlined, but also your communication about your observations and conclusions at each stage.**"
   ]
  },
  {
   "cell_type": "code",
   "execution_count": 1,
   "metadata": {},
   "outputs": [],
   "source": [
    "# import libraries here; add more as necessary\n",
    "import numpy as np\n",
    "import pandas as pd\n",
    "import matplotlib.pyplot as plt\n",
    "import seaborn as sns\n",
    "import ast\n",
    "import random\n",
    "from sklearn.preprocessing import StandardScaler\n",
    "from sklearn.decomposition import PCA\n",
    "from sklearn.cluster import KMeans\n",
    "from sklearn.preprocessing.imputation import Imputer\n",
    "\n",
    "# magic word for producing visualizations in notebook\n",
    "%matplotlib inline\n",
    "sns.set(style=\"darkgrid\")"
   ]
  },
  {
   "cell_type": "code",
   "execution_count": 2,
   "metadata": {},
   "outputs": [
    {
     "data": {
      "text/plain": [
       "'0.19.1'"
      ]
     },
     "execution_count": 2,
     "metadata": {},
     "output_type": "execute_result"
    }
   ],
   "source": [
    "import sklearn\n",
    "sklearn.__version__"
   ]
  },
  {
   "cell_type": "markdown",
   "metadata": {},
   "source": [
    "### Step 0: Load the Data\n",
    "\n",
    "There are four files associated with this project (not including this one):\n",
    "\n",
    "- `Udacity_AZDIAS_Subset.csv`: Demographics data for the general population of Germany; 891211 persons (rows) x 85 features (columns).\n",
    "- `Udacity_CUSTOMERS_Subset.csv`: Demographics data for customers of a mail-order company; 191652 persons (rows) x 85 features (columns).\n",
    "- `Data_Dictionary.md`: Detailed information file about the features in the provided datasets.\n",
    "- `AZDIAS_Feature_Summary.csv`: Summary of feature attributes for demographics data; 85 features (rows) x 4 columns\n",
    "\n",
    "Each row of the demographics files represents a single person, but also includes information outside of individuals, including information about their household, building, and neighborhood. You will use this information to cluster the general population into groups with similar demographic properties. Then, you will see how the people in the customers dataset fit into those created clusters. The hope here is that certain clusters are over-represented in the customers data, as compared to the general population; those over-represented clusters will be assumed to be part of the core userbase. This information can then be used for further applications, such as targeting for a marketing campaign.\n",
    "\n",
    "To start off with, load in the demographics data for the general population into a pandas DataFrame, and do the same for the feature attributes summary. Note for all of the `.csv` data files in this project: they're semicolon (`;`) delimited, so you'll need an additional argument in your [`read_csv()`](https://pandas.pydata.org/pandas-docs/stable/generated/pandas.read_csv.html) call to read in the data properly. Also, considering the size of the main dataset, it may take some time for it to load completely.\n",
    "\n",
    "Once the dataset is loaded, it's recommended that you take a little bit of time just browsing the general structure of the dataset and feature summary file. You'll be getting deep into the innards of the cleaning in the first major step of the project, so gaining some general familiarity can help you get your bearings."
   ]
  },
  {
   "cell_type": "code",
   "execution_count": 3,
   "metadata": {},
   "outputs": [],
   "source": [
    "# Load in the general demographics data.\n",
    "azdias = pd.read_csv(\"Udacity_AZDIAS_Subset.csv\", sep=';')\n",
    "\n",
    "# Load in the feature summary file.\n",
    "feat_info = pd.read_csv(\"AZDIAS_Feature_Summary.csv\", sep=';')"
   ]
  },
  {
   "cell_type": "code",
   "execution_count": 4,
   "metadata": {},
   "outputs": [
    {
     "name": "stdout",
     "output_type": "stream",
     "text": [
      "General Demographics data has 891221 rows and 85 columns\n",
      "Feature Summary information has 85 rows and 4 columns\n"
     ]
    }
   ],
   "source": [
    "# Check the structure of the data after it's loaded (e.g. print the number of\n",
    "# rows and columns, print the first few rows).\n",
    "\n",
    "print(\"General Demographics data has {0} rows and {1} columns\".format(azdias.shape[0], azdias.shape[1]))\n",
    "print(\"Feature Summary information has {0} rows and {1} columns\".format(feat_info.shape[0], feat_info.shape[1]))\n"
   ]
  },
  {
   "cell_type": "code",
   "execution_count": 5,
   "metadata": {
    "scrolled": true
   },
   "outputs": [
    {
     "data": {
      "text/html": [
       "<div>\n",
       "<style>\n",
       "    .dataframe thead tr:only-child th {\n",
       "        text-align: right;\n",
       "    }\n",
       "\n",
       "    .dataframe thead th {\n",
       "        text-align: left;\n",
       "    }\n",
       "\n",
       "    .dataframe tbody tr th {\n",
       "        vertical-align: top;\n",
       "    }\n",
       "</style>\n",
       "<table border=\"1\" class=\"dataframe\">\n",
       "  <thead>\n",
       "    <tr style=\"text-align: right;\">\n",
       "      <th></th>\n",
       "      <th>AGER_TYP</th>\n",
       "      <th>ALTERSKATEGORIE_GROB</th>\n",
       "      <th>ANREDE_KZ</th>\n",
       "      <th>CJT_GESAMTTYP</th>\n",
       "      <th>FINANZ_MINIMALIST</th>\n",
       "      <th>FINANZ_SPARER</th>\n",
       "      <th>FINANZ_VORSORGER</th>\n",
       "      <th>FINANZ_ANLEGER</th>\n",
       "      <th>FINANZ_UNAUFFAELLIGER</th>\n",
       "      <th>FINANZ_HAUSBAUER</th>\n",
       "      <th>...</th>\n",
       "      <th>PLZ8_ANTG1</th>\n",
       "      <th>PLZ8_ANTG2</th>\n",
       "      <th>PLZ8_ANTG3</th>\n",
       "      <th>PLZ8_ANTG4</th>\n",
       "      <th>PLZ8_BAUMAX</th>\n",
       "      <th>PLZ8_HHZ</th>\n",
       "      <th>PLZ8_GBZ</th>\n",
       "      <th>ARBEIT</th>\n",
       "      <th>ORTSGR_KLS9</th>\n",
       "      <th>RELAT_AB</th>\n",
       "    </tr>\n",
       "  </thead>\n",
       "  <tbody>\n",
       "    <tr>\n",
       "      <th>0</th>\n",
       "      <td>-1</td>\n",
       "      <td>2</td>\n",
       "      <td>1</td>\n",
       "      <td>2.0</td>\n",
       "      <td>3</td>\n",
       "      <td>4</td>\n",
       "      <td>3</td>\n",
       "      <td>5</td>\n",
       "      <td>5</td>\n",
       "      <td>3</td>\n",
       "      <td>...</td>\n",
       "      <td>NaN</td>\n",
       "      <td>NaN</td>\n",
       "      <td>NaN</td>\n",
       "      <td>NaN</td>\n",
       "      <td>NaN</td>\n",
       "      <td>NaN</td>\n",
       "      <td>NaN</td>\n",
       "      <td>NaN</td>\n",
       "      <td>NaN</td>\n",
       "      <td>NaN</td>\n",
       "    </tr>\n",
       "    <tr>\n",
       "      <th>1</th>\n",
       "      <td>-1</td>\n",
       "      <td>1</td>\n",
       "      <td>2</td>\n",
       "      <td>5.0</td>\n",
       "      <td>1</td>\n",
       "      <td>5</td>\n",
       "      <td>2</td>\n",
       "      <td>5</td>\n",
       "      <td>4</td>\n",
       "      <td>5</td>\n",
       "      <td>...</td>\n",
       "      <td>2.0</td>\n",
       "      <td>3.0</td>\n",
       "      <td>2.0</td>\n",
       "      <td>1.0</td>\n",
       "      <td>1.0</td>\n",
       "      <td>5.0</td>\n",
       "      <td>4.0</td>\n",
       "      <td>3.0</td>\n",
       "      <td>5.0</td>\n",
       "      <td>4.0</td>\n",
       "    </tr>\n",
       "    <tr>\n",
       "      <th>2</th>\n",
       "      <td>-1</td>\n",
       "      <td>3</td>\n",
       "      <td>2</td>\n",
       "      <td>3.0</td>\n",
       "      <td>1</td>\n",
       "      <td>4</td>\n",
       "      <td>1</td>\n",
       "      <td>2</td>\n",
       "      <td>3</td>\n",
       "      <td>5</td>\n",
       "      <td>...</td>\n",
       "      <td>3.0</td>\n",
       "      <td>3.0</td>\n",
       "      <td>1.0</td>\n",
       "      <td>0.0</td>\n",
       "      <td>1.0</td>\n",
       "      <td>4.0</td>\n",
       "      <td>4.0</td>\n",
       "      <td>3.0</td>\n",
       "      <td>5.0</td>\n",
       "      <td>2.0</td>\n",
       "    </tr>\n",
       "    <tr>\n",
       "      <th>3</th>\n",
       "      <td>2</td>\n",
       "      <td>4</td>\n",
       "      <td>2</td>\n",
       "      <td>2.0</td>\n",
       "      <td>4</td>\n",
       "      <td>2</td>\n",
       "      <td>5</td>\n",
       "      <td>2</td>\n",
       "      <td>1</td>\n",
       "      <td>2</td>\n",
       "      <td>...</td>\n",
       "      <td>2.0</td>\n",
       "      <td>2.0</td>\n",
       "      <td>2.0</td>\n",
       "      <td>0.0</td>\n",
       "      <td>1.0</td>\n",
       "      <td>3.0</td>\n",
       "      <td>4.0</td>\n",
       "      <td>2.0</td>\n",
       "      <td>3.0</td>\n",
       "      <td>3.0</td>\n",
       "    </tr>\n",
       "    <tr>\n",
       "      <th>4</th>\n",
       "      <td>-1</td>\n",
       "      <td>3</td>\n",
       "      <td>1</td>\n",
       "      <td>5.0</td>\n",
       "      <td>4</td>\n",
       "      <td>3</td>\n",
       "      <td>4</td>\n",
       "      <td>1</td>\n",
       "      <td>3</td>\n",
       "      <td>2</td>\n",
       "      <td>...</td>\n",
       "      <td>2.0</td>\n",
       "      <td>4.0</td>\n",
       "      <td>2.0</td>\n",
       "      <td>1.0</td>\n",
       "      <td>2.0</td>\n",
       "      <td>3.0</td>\n",
       "      <td>3.0</td>\n",
       "      <td>4.0</td>\n",
       "      <td>6.0</td>\n",
       "      <td>5.0</td>\n",
       "    </tr>\n",
       "  </tbody>\n",
       "</table>\n",
       "<p>5 rows × 85 columns</p>\n",
       "</div>"
      ],
      "text/plain": [
       "   AGER_TYP  ALTERSKATEGORIE_GROB  ANREDE_KZ  CJT_GESAMTTYP  \\\n",
       "0        -1                     2          1            2.0   \n",
       "1        -1                     1          2            5.0   \n",
       "2        -1                     3          2            3.0   \n",
       "3         2                     4          2            2.0   \n",
       "4        -1                     3          1            5.0   \n",
       "\n",
       "   FINANZ_MINIMALIST  FINANZ_SPARER  FINANZ_VORSORGER  FINANZ_ANLEGER  \\\n",
       "0                  3              4                 3               5   \n",
       "1                  1              5                 2               5   \n",
       "2                  1              4                 1               2   \n",
       "3                  4              2                 5               2   \n",
       "4                  4              3                 4               1   \n",
       "\n",
       "   FINANZ_UNAUFFAELLIGER  FINANZ_HAUSBAUER    ...     PLZ8_ANTG1  PLZ8_ANTG2  \\\n",
       "0                      5                 3    ...            NaN         NaN   \n",
       "1                      4                 5    ...            2.0         3.0   \n",
       "2                      3                 5    ...            3.0         3.0   \n",
       "3                      1                 2    ...            2.0         2.0   \n",
       "4                      3                 2    ...            2.0         4.0   \n",
       "\n",
       "   PLZ8_ANTG3  PLZ8_ANTG4  PLZ8_BAUMAX  PLZ8_HHZ  PLZ8_GBZ  ARBEIT  \\\n",
       "0         NaN         NaN          NaN       NaN       NaN     NaN   \n",
       "1         2.0         1.0          1.0       5.0       4.0     3.0   \n",
       "2         1.0         0.0          1.0       4.0       4.0     3.0   \n",
       "3         2.0         0.0          1.0       3.0       4.0     2.0   \n",
       "4         2.0         1.0          2.0       3.0       3.0     4.0   \n",
       "\n",
       "   ORTSGR_KLS9  RELAT_AB  \n",
       "0          NaN       NaN  \n",
       "1          5.0       4.0  \n",
       "2          5.0       2.0  \n",
       "3          3.0       3.0  \n",
       "4          6.0       5.0  \n",
       "\n",
       "[5 rows x 85 columns]"
      ]
     },
     "execution_count": 5,
     "metadata": {},
     "output_type": "execute_result"
    }
   ],
   "source": [
    "azdias.head()"
   ]
  },
  {
   "cell_type": "code",
   "execution_count": 6,
   "metadata": {},
   "outputs": [
    {
     "name": "stdout",
     "output_type": "stream",
     "text": [
      "<class 'pandas.core.frame.DataFrame'>\n",
      "RangeIndex: 891221 entries, 0 to 891220\n",
      "Data columns (total 85 columns):\n",
      "AGER_TYP                 891221 non-null int64\n",
      "ALTERSKATEGORIE_GROB     891221 non-null int64\n",
      "ANREDE_KZ                891221 non-null int64\n",
      "CJT_GESAMTTYP            886367 non-null float64\n",
      "FINANZ_MINIMALIST        891221 non-null int64\n",
      "FINANZ_SPARER            891221 non-null int64\n",
      "FINANZ_VORSORGER         891221 non-null int64\n",
      "FINANZ_ANLEGER           891221 non-null int64\n",
      "FINANZ_UNAUFFAELLIGER    891221 non-null int64\n",
      "FINANZ_HAUSBAUER         891221 non-null int64\n",
      "FINANZTYP                891221 non-null int64\n",
      "GEBURTSJAHR              891221 non-null int64\n",
      "GFK_URLAUBERTYP          886367 non-null float64\n",
      "GREEN_AVANTGARDE         891221 non-null int64\n",
      "HEALTH_TYP               891221 non-null int64\n",
      "LP_LEBENSPHASE_FEIN      886367 non-null float64\n",
      "LP_LEBENSPHASE_GROB      886367 non-null float64\n",
      "LP_FAMILIE_FEIN          886367 non-null float64\n",
      "LP_FAMILIE_GROB          886367 non-null float64\n",
      "LP_STATUS_FEIN           886367 non-null float64\n",
      "LP_STATUS_GROB           886367 non-null float64\n",
      "NATIONALITAET_KZ         891221 non-null int64\n",
      "PRAEGENDE_JUGENDJAHRE    891221 non-null int64\n",
      "RETOURTYP_BK_S           886367 non-null float64\n",
      "SEMIO_SOZ                891221 non-null int64\n",
      "SEMIO_FAM                891221 non-null int64\n",
      "SEMIO_REL                891221 non-null int64\n",
      "SEMIO_MAT                891221 non-null int64\n",
      "SEMIO_VERT               891221 non-null int64\n",
      "SEMIO_LUST               891221 non-null int64\n",
      "SEMIO_ERL                891221 non-null int64\n",
      "SEMIO_KULT               891221 non-null int64\n",
      "SEMIO_RAT                891221 non-null int64\n",
      "SEMIO_KRIT               891221 non-null int64\n",
      "SEMIO_DOM                891221 non-null int64\n",
      "SEMIO_KAEM               891221 non-null int64\n",
      "SEMIO_PFLICHT            891221 non-null int64\n",
      "SEMIO_TRADV              891221 non-null int64\n",
      "SHOPPER_TYP              891221 non-null int64\n",
      "SOHO_KZ                  817722 non-null float64\n",
      "TITEL_KZ                 817722 non-null float64\n",
      "VERS_TYP                 891221 non-null int64\n",
      "ZABEOTYP                 891221 non-null int64\n",
      "ALTER_HH                 817722 non-null float64\n",
      "ANZ_PERSONEN             817722 non-null float64\n",
      "ANZ_TITEL                817722 non-null float64\n",
      "HH_EINKOMMEN_SCORE       872873 non-null float64\n",
      "KK_KUNDENTYP             306609 non-null float64\n",
      "W_KEIT_KIND_HH           783619 non-null float64\n",
      "WOHNDAUER_2008           817722 non-null float64\n",
      "ANZ_HAUSHALTE_AKTIV      798073 non-null float64\n",
      "ANZ_HH_TITEL             794213 non-null float64\n",
      "GEBAEUDETYP              798073 non-null float64\n",
      "KONSUMNAEHE              817252 non-null float64\n",
      "MIN_GEBAEUDEJAHR         798073 non-null float64\n",
      "OST_WEST_KZ              798073 non-null object\n",
      "WOHNLAGE                 798073 non-null float64\n",
      "CAMEO_DEUG_2015          792242 non-null object\n",
      "CAMEO_DEU_2015           792242 non-null object\n",
      "CAMEO_INTL_2015          792242 non-null object\n",
      "KBA05_ANTG1              757897 non-null float64\n",
      "KBA05_ANTG2              757897 non-null float64\n",
      "KBA05_ANTG3              757897 non-null float64\n",
      "KBA05_ANTG4              757897 non-null float64\n",
      "KBA05_BAUMAX             757897 non-null float64\n",
      "KBA05_GBZ                757897 non-null float64\n",
      "BALLRAUM                 797481 non-null float64\n",
      "EWDICHTE                 797481 non-null float64\n",
      "INNENSTADT               797481 non-null float64\n",
      "GEBAEUDETYP_RASTER       798066 non-null float64\n",
      "KKK                      770025 non-null float64\n",
      "MOBI_REGIO               757897 non-null float64\n",
      "ONLINE_AFFINITAET        886367 non-null float64\n",
      "REGIOTYP                 770025 non-null float64\n",
      "KBA13_ANZAHL_PKW         785421 non-null float64\n",
      "PLZ8_ANTG1               774706 non-null float64\n",
      "PLZ8_ANTG2               774706 non-null float64\n",
      "PLZ8_ANTG3               774706 non-null float64\n",
      "PLZ8_ANTG4               774706 non-null float64\n",
      "PLZ8_BAUMAX              774706 non-null float64\n",
      "PLZ8_HHZ                 774706 non-null float64\n",
      "PLZ8_GBZ                 774706 non-null float64\n",
      "ARBEIT                   794005 non-null float64\n",
      "ORTSGR_KLS9              794005 non-null float64\n",
      "RELAT_AB                 794005 non-null float64\n",
      "dtypes: float64(49), int64(32), object(4)\n",
      "memory usage: 578.0+ MB\n"
     ]
    }
   ],
   "source": [
    "azdias.info()"
   ]
  },
  {
   "cell_type": "markdown",
   "metadata": {},
   "source": [
    "# Check null values"
   ]
  },
  {
   "cell_type": "code",
   "execution_count": 7,
   "metadata": {},
   "outputs": [
    {
     "data": {
      "text/plain": [
       "AGER_TYP                      0\n",
       "ALTERSKATEGORIE_GROB          0\n",
       "ANREDE_KZ                     0\n",
       "CJT_GESAMTTYP              4854\n",
       "FINANZ_MINIMALIST             0\n",
       "FINANZ_SPARER                 0\n",
       "FINANZ_VORSORGER              0\n",
       "FINANZ_ANLEGER                0\n",
       "FINANZ_UNAUFFAELLIGER         0\n",
       "FINANZ_HAUSBAUER              0\n",
       "FINANZTYP                     0\n",
       "GEBURTSJAHR                   0\n",
       "GFK_URLAUBERTYP            4854\n",
       "GREEN_AVANTGARDE              0\n",
       "HEALTH_TYP                    0\n",
       "LP_LEBENSPHASE_FEIN        4854\n",
       "LP_LEBENSPHASE_GROB        4854\n",
       "LP_FAMILIE_FEIN            4854\n",
       "LP_FAMILIE_GROB            4854\n",
       "LP_STATUS_FEIN             4854\n",
       "LP_STATUS_GROB             4854\n",
       "NATIONALITAET_KZ              0\n",
       "PRAEGENDE_JUGENDJAHRE         0\n",
       "RETOURTYP_BK_S             4854\n",
       "SEMIO_SOZ                     0\n",
       "SEMIO_FAM                     0\n",
       "SEMIO_REL                     0\n",
       "SEMIO_MAT                     0\n",
       "SEMIO_VERT                    0\n",
       "SEMIO_LUST                    0\n",
       "                          ...  \n",
       "OST_WEST_KZ               93148\n",
       "WOHNLAGE                  93148\n",
       "CAMEO_DEUG_2015           98979\n",
       "CAMEO_DEU_2015            98979\n",
       "CAMEO_INTL_2015           98979\n",
       "KBA05_ANTG1              133324\n",
       "KBA05_ANTG2              133324\n",
       "KBA05_ANTG3              133324\n",
       "KBA05_ANTG4              133324\n",
       "KBA05_BAUMAX             133324\n",
       "KBA05_GBZ                133324\n",
       "BALLRAUM                  93740\n",
       "EWDICHTE                  93740\n",
       "INNENSTADT                93740\n",
       "GEBAEUDETYP_RASTER        93155\n",
       "KKK                      121196\n",
       "MOBI_REGIO               133324\n",
       "ONLINE_AFFINITAET          4854\n",
       "REGIOTYP                 121196\n",
       "KBA13_ANZAHL_PKW         105800\n",
       "PLZ8_ANTG1               116515\n",
       "PLZ8_ANTG2               116515\n",
       "PLZ8_ANTG3               116515\n",
       "PLZ8_ANTG4               116515\n",
       "PLZ8_BAUMAX              116515\n",
       "PLZ8_HHZ                 116515\n",
       "PLZ8_GBZ                 116515\n",
       "ARBEIT                    97216\n",
       "ORTSGR_KLS9               97216\n",
       "RELAT_AB                  97216\n",
       "Length: 85, dtype: int64"
      ]
     },
     "execution_count": 7,
     "metadata": {},
     "output_type": "execute_result"
    }
   ],
   "source": [
    "azdias.isnull().sum()"
   ]
  },
  {
   "cell_type": "code",
   "execution_count": 8,
   "metadata": {},
   "outputs": [
    {
     "data": {
      "text/html": [
       "<div>\n",
       "<style>\n",
       "    .dataframe thead tr:only-child th {\n",
       "        text-align: right;\n",
       "    }\n",
       "\n",
       "    .dataframe thead th {\n",
       "        text-align: left;\n",
       "    }\n",
       "\n",
       "    .dataframe tbody tr th {\n",
       "        vertical-align: top;\n",
       "    }\n",
       "</style>\n",
       "<table border=\"1\" class=\"dataframe\">\n",
       "  <thead>\n",
       "    <tr style=\"text-align: right;\">\n",
       "      <th></th>\n",
       "      <th>AGER_TYP</th>\n",
       "      <th>ALTERSKATEGORIE_GROB</th>\n",
       "      <th>ANREDE_KZ</th>\n",
       "      <th>CJT_GESAMTTYP</th>\n",
       "      <th>FINANZ_MINIMALIST</th>\n",
       "      <th>FINANZ_SPARER</th>\n",
       "      <th>FINANZ_VORSORGER</th>\n",
       "      <th>FINANZ_ANLEGER</th>\n",
       "      <th>FINANZ_UNAUFFAELLIGER</th>\n",
       "      <th>FINANZ_HAUSBAUER</th>\n",
       "      <th>...</th>\n",
       "      <th>PLZ8_ANTG1</th>\n",
       "      <th>PLZ8_ANTG2</th>\n",
       "      <th>PLZ8_ANTG3</th>\n",
       "      <th>PLZ8_ANTG4</th>\n",
       "      <th>PLZ8_BAUMAX</th>\n",
       "      <th>PLZ8_HHZ</th>\n",
       "      <th>PLZ8_GBZ</th>\n",
       "      <th>ARBEIT</th>\n",
       "      <th>ORTSGR_KLS9</th>\n",
       "      <th>RELAT_AB</th>\n",
       "    </tr>\n",
       "  </thead>\n",
       "  <tbody>\n",
       "    <tr>\n",
       "      <th>count</th>\n",
       "      <td>891221.000000</td>\n",
       "      <td>891221.000000</td>\n",
       "      <td>891221.000000</td>\n",
       "      <td>886367.000000</td>\n",
       "      <td>891221.000000</td>\n",
       "      <td>891221.000000</td>\n",
       "      <td>891221.000000</td>\n",
       "      <td>891221.000000</td>\n",
       "      <td>891221.000000</td>\n",
       "      <td>891221.000000</td>\n",
       "      <td>...</td>\n",
       "      <td>774706.000000</td>\n",
       "      <td>774706.000000</td>\n",
       "      <td>774706.000000</td>\n",
       "      <td>774706.000000</td>\n",
       "      <td>774706.000000</td>\n",
       "      <td>774706.000000</td>\n",
       "      <td>774706.000000</td>\n",
       "      <td>794005.000000</td>\n",
       "      <td>794005.000000</td>\n",
       "      <td>794005.00000</td>\n",
       "    </tr>\n",
       "    <tr>\n",
       "      <th>mean</th>\n",
       "      <td>-0.358435</td>\n",
       "      <td>2.777398</td>\n",
       "      <td>1.522098</td>\n",
       "      <td>3.632838</td>\n",
       "      <td>3.074528</td>\n",
       "      <td>2.821039</td>\n",
       "      <td>3.401106</td>\n",
       "      <td>3.033328</td>\n",
       "      <td>2.874167</td>\n",
       "      <td>3.075121</td>\n",
       "      <td>...</td>\n",
       "      <td>2.253330</td>\n",
       "      <td>2.801858</td>\n",
       "      <td>1.595426</td>\n",
       "      <td>0.699166</td>\n",
       "      <td>1.943913</td>\n",
       "      <td>3.612821</td>\n",
       "      <td>3.381087</td>\n",
       "      <td>3.167854</td>\n",
       "      <td>5.293002</td>\n",
       "      <td>3.07222</td>\n",
       "    </tr>\n",
       "    <tr>\n",
       "      <th>std</th>\n",
       "      <td>1.198724</td>\n",
       "      <td>1.068775</td>\n",
       "      <td>0.499512</td>\n",
       "      <td>1.595021</td>\n",
       "      <td>1.321055</td>\n",
       "      <td>1.464749</td>\n",
       "      <td>1.322134</td>\n",
       "      <td>1.529603</td>\n",
       "      <td>1.486731</td>\n",
       "      <td>1.353248</td>\n",
       "      <td>...</td>\n",
       "      <td>0.972008</td>\n",
       "      <td>0.920309</td>\n",
       "      <td>0.986736</td>\n",
       "      <td>0.727137</td>\n",
       "      <td>1.459654</td>\n",
       "      <td>0.973967</td>\n",
       "      <td>1.111598</td>\n",
       "      <td>1.002376</td>\n",
       "      <td>2.303739</td>\n",
       "      <td>1.36298</td>\n",
       "    </tr>\n",
       "    <tr>\n",
       "      <th>min</th>\n",
       "      <td>-1.000000</td>\n",
       "      <td>1.000000</td>\n",
       "      <td>1.000000</td>\n",
       "      <td>1.000000</td>\n",
       "      <td>1.000000</td>\n",
       "      <td>1.000000</td>\n",
       "      <td>1.000000</td>\n",
       "      <td>1.000000</td>\n",
       "      <td>1.000000</td>\n",
       "      <td>1.000000</td>\n",
       "      <td>...</td>\n",
       "      <td>0.000000</td>\n",
       "      <td>0.000000</td>\n",
       "      <td>0.000000</td>\n",
       "      <td>0.000000</td>\n",
       "      <td>1.000000</td>\n",
       "      <td>1.000000</td>\n",
       "      <td>1.000000</td>\n",
       "      <td>1.000000</td>\n",
       "      <td>0.000000</td>\n",
       "      <td>1.00000</td>\n",
       "    </tr>\n",
       "    <tr>\n",
       "      <th>25%</th>\n",
       "      <td>-1.000000</td>\n",
       "      <td>2.000000</td>\n",
       "      <td>1.000000</td>\n",
       "      <td>2.000000</td>\n",
       "      <td>2.000000</td>\n",
       "      <td>1.000000</td>\n",
       "      <td>3.000000</td>\n",
       "      <td>2.000000</td>\n",
       "      <td>2.000000</td>\n",
       "      <td>2.000000</td>\n",
       "      <td>...</td>\n",
       "      <td>1.000000</td>\n",
       "      <td>2.000000</td>\n",
       "      <td>1.000000</td>\n",
       "      <td>0.000000</td>\n",
       "      <td>1.000000</td>\n",
       "      <td>3.000000</td>\n",
       "      <td>3.000000</td>\n",
       "      <td>3.000000</td>\n",
       "      <td>4.000000</td>\n",
       "      <td>2.00000</td>\n",
       "    </tr>\n",
       "    <tr>\n",
       "      <th>50%</th>\n",
       "      <td>-1.000000</td>\n",
       "      <td>3.000000</td>\n",
       "      <td>2.000000</td>\n",
       "      <td>4.000000</td>\n",
       "      <td>3.000000</td>\n",
       "      <td>3.000000</td>\n",
       "      <td>3.000000</td>\n",
       "      <td>3.000000</td>\n",
       "      <td>3.000000</td>\n",
       "      <td>3.000000</td>\n",
       "      <td>...</td>\n",
       "      <td>2.000000</td>\n",
       "      <td>3.000000</td>\n",
       "      <td>2.000000</td>\n",
       "      <td>1.000000</td>\n",
       "      <td>1.000000</td>\n",
       "      <td>4.000000</td>\n",
       "      <td>3.000000</td>\n",
       "      <td>3.000000</td>\n",
       "      <td>5.000000</td>\n",
       "      <td>3.00000</td>\n",
       "    </tr>\n",
       "    <tr>\n",
       "      <th>75%</th>\n",
       "      <td>-1.000000</td>\n",
       "      <td>4.000000</td>\n",
       "      <td>2.000000</td>\n",
       "      <td>5.000000</td>\n",
       "      <td>4.000000</td>\n",
       "      <td>4.000000</td>\n",
       "      <td>5.000000</td>\n",
       "      <td>5.000000</td>\n",
       "      <td>4.000000</td>\n",
       "      <td>4.000000</td>\n",
       "      <td>...</td>\n",
       "      <td>3.000000</td>\n",
       "      <td>3.000000</td>\n",
       "      <td>2.000000</td>\n",
       "      <td>1.000000</td>\n",
       "      <td>3.000000</td>\n",
       "      <td>4.000000</td>\n",
       "      <td>4.000000</td>\n",
       "      <td>4.000000</td>\n",
       "      <td>7.000000</td>\n",
       "      <td>4.00000</td>\n",
       "    </tr>\n",
       "    <tr>\n",
       "      <th>max</th>\n",
       "      <td>3.000000</td>\n",
       "      <td>9.000000</td>\n",
       "      <td>2.000000</td>\n",
       "      <td>6.000000</td>\n",
       "      <td>5.000000</td>\n",
       "      <td>5.000000</td>\n",
       "      <td>5.000000</td>\n",
       "      <td>5.000000</td>\n",
       "      <td>5.000000</td>\n",
       "      <td>5.000000</td>\n",
       "      <td>...</td>\n",
       "      <td>4.000000</td>\n",
       "      <td>4.000000</td>\n",
       "      <td>3.000000</td>\n",
       "      <td>2.000000</td>\n",
       "      <td>5.000000</td>\n",
       "      <td>5.000000</td>\n",
       "      <td>5.000000</td>\n",
       "      <td>9.000000</td>\n",
       "      <td>9.000000</td>\n",
       "      <td>9.00000</td>\n",
       "    </tr>\n",
       "  </tbody>\n",
       "</table>\n",
       "<p>8 rows × 81 columns</p>\n",
       "</div>"
      ],
      "text/plain": [
       "            AGER_TYP  ALTERSKATEGORIE_GROB      ANREDE_KZ  CJT_GESAMTTYP  \\\n",
       "count  891221.000000         891221.000000  891221.000000  886367.000000   \n",
       "mean       -0.358435              2.777398       1.522098       3.632838   \n",
       "std         1.198724              1.068775       0.499512       1.595021   \n",
       "min        -1.000000              1.000000       1.000000       1.000000   \n",
       "25%        -1.000000              2.000000       1.000000       2.000000   \n",
       "50%        -1.000000              3.000000       2.000000       4.000000   \n",
       "75%        -1.000000              4.000000       2.000000       5.000000   \n",
       "max         3.000000              9.000000       2.000000       6.000000   \n",
       "\n",
       "       FINANZ_MINIMALIST  FINANZ_SPARER  FINANZ_VORSORGER  FINANZ_ANLEGER  \\\n",
       "count      891221.000000  891221.000000     891221.000000   891221.000000   \n",
       "mean            3.074528       2.821039          3.401106        3.033328   \n",
       "std             1.321055       1.464749          1.322134        1.529603   \n",
       "min             1.000000       1.000000          1.000000        1.000000   \n",
       "25%             2.000000       1.000000          3.000000        2.000000   \n",
       "50%             3.000000       3.000000          3.000000        3.000000   \n",
       "75%             4.000000       4.000000          5.000000        5.000000   \n",
       "max             5.000000       5.000000          5.000000        5.000000   \n",
       "\n",
       "       FINANZ_UNAUFFAELLIGER  FINANZ_HAUSBAUER      ...          PLZ8_ANTG1  \\\n",
       "count          891221.000000     891221.000000      ...       774706.000000   \n",
       "mean                2.874167          3.075121      ...            2.253330   \n",
       "std                 1.486731          1.353248      ...            0.972008   \n",
       "min                 1.000000          1.000000      ...            0.000000   \n",
       "25%                 2.000000          2.000000      ...            1.000000   \n",
       "50%                 3.000000          3.000000      ...            2.000000   \n",
       "75%                 4.000000          4.000000      ...            3.000000   \n",
       "max                 5.000000          5.000000      ...            4.000000   \n",
       "\n",
       "          PLZ8_ANTG2     PLZ8_ANTG3     PLZ8_ANTG4    PLZ8_BAUMAX  \\\n",
       "count  774706.000000  774706.000000  774706.000000  774706.000000   \n",
       "mean        2.801858       1.595426       0.699166       1.943913   \n",
       "std         0.920309       0.986736       0.727137       1.459654   \n",
       "min         0.000000       0.000000       0.000000       1.000000   \n",
       "25%         2.000000       1.000000       0.000000       1.000000   \n",
       "50%         3.000000       2.000000       1.000000       1.000000   \n",
       "75%         3.000000       2.000000       1.000000       3.000000   \n",
       "max         4.000000       3.000000       2.000000       5.000000   \n",
       "\n",
       "            PLZ8_HHZ       PLZ8_GBZ         ARBEIT    ORTSGR_KLS9  \\\n",
       "count  774706.000000  774706.000000  794005.000000  794005.000000   \n",
       "mean        3.612821       3.381087       3.167854       5.293002   \n",
       "std         0.973967       1.111598       1.002376       2.303739   \n",
       "min         1.000000       1.000000       1.000000       0.000000   \n",
       "25%         3.000000       3.000000       3.000000       4.000000   \n",
       "50%         4.000000       3.000000       3.000000       5.000000   \n",
       "75%         4.000000       4.000000       4.000000       7.000000   \n",
       "max         5.000000       5.000000       9.000000       9.000000   \n",
       "\n",
       "           RELAT_AB  \n",
       "count  794005.00000  \n",
       "mean        3.07222  \n",
       "std         1.36298  \n",
       "min         1.00000  \n",
       "25%         2.00000  \n",
       "50%         3.00000  \n",
       "75%         4.00000  \n",
       "max         9.00000  \n",
       "\n",
       "[8 rows x 81 columns]"
      ]
     },
     "execution_count": 8,
     "metadata": {},
     "output_type": "execute_result"
    }
   ],
   "source": [
    "azdias.describe()"
   ]
  },
  {
   "cell_type": "code",
   "execution_count": null,
   "metadata": {},
   "outputs": [],
   "source": []
  },
  {
   "cell_type": "code",
   "execution_count": 9,
   "metadata": {},
   "outputs": [
    {
     "name": "stdout",
     "output_type": "stream",
     "text": [
      "<class 'pandas.core.frame.DataFrame'>\n",
      "RangeIndex: 85 entries, 0 to 84\n",
      "Data columns (total 4 columns):\n",
      "attribute             85 non-null object\n",
      "information_level     85 non-null object\n",
      "type                  85 non-null object\n",
      "missing_or_unknown    85 non-null object\n",
      "dtypes: object(4)\n",
      "memory usage: 2.7+ KB\n"
     ]
    }
   ],
   "source": [
    "feat_info.info()"
   ]
  },
  {
   "cell_type": "code",
   "execution_count": 10,
   "metadata": {},
   "outputs": [
    {
     "data": {
      "text/html": [
       "<div>\n",
       "<style>\n",
       "    .dataframe thead tr:only-child th {\n",
       "        text-align: right;\n",
       "    }\n",
       "\n",
       "    .dataframe thead th {\n",
       "        text-align: left;\n",
       "    }\n",
       "\n",
       "    .dataframe tbody tr th {\n",
       "        vertical-align: top;\n",
       "    }\n",
       "</style>\n",
       "<table border=\"1\" class=\"dataframe\">\n",
       "  <thead>\n",
       "    <tr style=\"text-align: right;\">\n",
       "      <th></th>\n",
       "      <th>attribute</th>\n",
       "      <th>information_level</th>\n",
       "      <th>type</th>\n",
       "      <th>missing_or_unknown</th>\n",
       "    </tr>\n",
       "  </thead>\n",
       "  <tbody>\n",
       "    <tr>\n",
       "      <th>0</th>\n",
       "      <td>AGER_TYP</td>\n",
       "      <td>person</td>\n",
       "      <td>categorical</td>\n",
       "      <td>[-1,0]</td>\n",
       "    </tr>\n",
       "    <tr>\n",
       "      <th>1</th>\n",
       "      <td>ALTERSKATEGORIE_GROB</td>\n",
       "      <td>person</td>\n",
       "      <td>ordinal</td>\n",
       "      <td>[-1,0,9]</td>\n",
       "    </tr>\n",
       "    <tr>\n",
       "      <th>2</th>\n",
       "      <td>ANREDE_KZ</td>\n",
       "      <td>person</td>\n",
       "      <td>categorical</td>\n",
       "      <td>[-1,0]</td>\n",
       "    </tr>\n",
       "    <tr>\n",
       "      <th>3</th>\n",
       "      <td>CJT_GESAMTTYP</td>\n",
       "      <td>person</td>\n",
       "      <td>categorical</td>\n",
       "      <td>[0]</td>\n",
       "    </tr>\n",
       "    <tr>\n",
       "      <th>4</th>\n",
       "      <td>FINANZ_MINIMALIST</td>\n",
       "      <td>person</td>\n",
       "      <td>ordinal</td>\n",
       "      <td>[-1]</td>\n",
       "    </tr>\n",
       "    <tr>\n",
       "      <th>5</th>\n",
       "      <td>FINANZ_SPARER</td>\n",
       "      <td>person</td>\n",
       "      <td>ordinal</td>\n",
       "      <td>[-1]</td>\n",
       "    </tr>\n",
       "    <tr>\n",
       "      <th>6</th>\n",
       "      <td>FINANZ_VORSORGER</td>\n",
       "      <td>person</td>\n",
       "      <td>ordinal</td>\n",
       "      <td>[-1]</td>\n",
       "    </tr>\n",
       "    <tr>\n",
       "      <th>7</th>\n",
       "      <td>FINANZ_ANLEGER</td>\n",
       "      <td>person</td>\n",
       "      <td>ordinal</td>\n",
       "      <td>[-1]</td>\n",
       "    </tr>\n",
       "    <tr>\n",
       "      <th>8</th>\n",
       "      <td>FINANZ_UNAUFFAELLIGER</td>\n",
       "      <td>person</td>\n",
       "      <td>ordinal</td>\n",
       "      <td>[-1]</td>\n",
       "    </tr>\n",
       "    <tr>\n",
       "      <th>9</th>\n",
       "      <td>FINANZ_HAUSBAUER</td>\n",
       "      <td>person</td>\n",
       "      <td>ordinal</td>\n",
       "      <td>[-1]</td>\n",
       "    </tr>\n",
       "    <tr>\n",
       "      <th>10</th>\n",
       "      <td>FINANZTYP</td>\n",
       "      <td>person</td>\n",
       "      <td>categorical</td>\n",
       "      <td>[-1]</td>\n",
       "    </tr>\n",
       "    <tr>\n",
       "      <th>11</th>\n",
       "      <td>GEBURTSJAHR</td>\n",
       "      <td>person</td>\n",
       "      <td>numeric</td>\n",
       "      <td>[0]</td>\n",
       "    </tr>\n",
       "    <tr>\n",
       "      <th>12</th>\n",
       "      <td>GFK_URLAUBERTYP</td>\n",
       "      <td>person</td>\n",
       "      <td>categorical</td>\n",
       "      <td>[]</td>\n",
       "    </tr>\n",
       "    <tr>\n",
       "      <th>13</th>\n",
       "      <td>GREEN_AVANTGARDE</td>\n",
       "      <td>person</td>\n",
       "      <td>categorical</td>\n",
       "      <td>[]</td>\n",
       "    </tr>\n",
       "    <tr>\n",
       "      <th>14</th>\n",
       "      <td>HEALTH_TYP</td>\n",
       "      <td>person</td>\n",
       "      <td>ordinal</td>\n",
       "      <td>[-1,0]</td>\n",
       "    </tr>\n",
       "    <tr>\n",
       "      <th>15</th>\n",
       "      <td>LP_LEBENSPHASE_FEIN</td>\n",
       "      <td>person</td>\n",
       "      <td>mixed</td>\n",
       "      <td>[0]</td>\n",
       "    </tr>\n",
       "    <tr>\n",
       "      <th>16</th>\n",
       "      <td>LP_LEBENSPHASE_GROB</td>\n",
       "      <td>person</td>\n",
       "      <td>mixed</td>\n",
       "      <td>[0]</td>\n",
       "    </tr>\n",
       "    <tr>\n",
       "      <th>17</th>\n",
       "      <td>LP_FAMILIE_FEIN</td>\n",
       "      <td>person</td>\n",
       "      <td>categorical</td>\n",
       "      <td>[0]</td>\n",
       "    </tr>\n",
       "    <tr>\n",
       "      <th>18</th>\n",
       "      <td>LP_FAMILIE_GROB</td>\n",
       "      <td>person</td>\n",
       "      <td>categorical</td>\n",
       "      <td>[0]</td>\n",
       "    </tr>\n",
       "    <tr>\n",
       "      <th>19</th>\n",
       "      <td>LP_STATUS_FEIN</td>\n",
       "      <td>person</td>\n",
       "      <td>categorical</td>\n",
       "      <td>[0]</td>\n",
       "    </tr>\n",
       "    <tr>\n",
       "      <th>20</th>\n",
       "      <td>LP_STATUS_GROB</td>\n",
       "      <td>person</td>\n",
       "      <td>categorical</td>\n",
       "      <td>[0]</td>\n",
       "    </tr>\n",
       "    <tr>\n",
       "      <th>21</th>\n",
       "      <td>NATIONALITAET_KZ</td>\n",
       "      <td>person</td>\n",
       "      <td>categorical</td>\n",
       "      <td>[-1,0]</td>\n",
       "    </tr>\n",
       "    <tr>\n",
       "      <th>22</th>\n",
       "      <td>PRAEGENDE_JUGENDJAHRE</td>\n",
       "      <td>person</td>\n",
       "      <td>mixed</td>\n",
       "      <td>[-1,0]</td>\n",
       "    </tr>\n",
       "    <tr>\n",
       "      <th>23</th>\n",
       "      <td>RETOURTYP_BK_S</td>\n",
       "      <td>person</td>\n",
       "      <td>ordinal</td>\n",
       "      <td>[0]</td>\n",
       "    </tr>\n",
       "    <tr>\n",
       "      <th>24</th>\n",
       "      <td>SEMIO_SOZ</td>\n",
       "      <td>person</td>\n",
       "      <td>ordinal</td>\n",
       "      <td>[-1,9]</td>\n",
       "    </tr>\n",
       "    <tr>\n",
       "      <th>25</th>\n",
       "      <td>SEMIO_FAM</td>\n",
       "      <td>person</td>\n",
       "      <td>ordinal</td>\n",
       "      <td>[-1,9]</td>\n",
       "    </tr>\n",
       "    <tr>\n",
       "      <th>26</th>\n",
       "      <td>SEMIO_REL</td>\n",
       "      <td>person</td>\n",
       "      <td>ordinal</td>\n",
       "      <td>[-1,9]</td>\n",
       "    </tr>\n",
       "    <tr>\n",
       "      <th>27</th>\n",
       "      <td>SEMIO_MAT</td>\n",
       "      <td>person</td>\n",
       "      <td>ordinal</td>\n",
       "      <td>[-1,9]</td>\n",
       "    </tr>\n",
       "    <tr>\n",
       "      <th>28</th>\n",
       "      <td>SEMIO_VERT</td>\n",
       "      <td>person</td>\n",
       "      <td>ordinal</td>\n",
       "      <td>[-1,9]</td>\n",
       "    </tr>\n",
       "    <tr>\n",
       "      <th>29</th>\n",
       "      <td>SEMIO_LUST</td>\n",
       "      <td>person</td>\n",
       "      <td>ordinal</td>\n",
       "      <td>[-1,9]</td>\n",
       "    </tr>\n",
       "    <tr>\n",
       "      <th>...</th>\n",
       "      <td>...</td>\n",
       "      <td>...</td>\n",
       "      <td>...</td>\n",
       "      <td>...</td>\n",
       "    </tr>\n",
       "    <tr>\n",
       "      <th>55</th>\n",
       "      <td>OST_WEST_KZ</td>\n",
       "      <td>building</td>\n",
       "      <td>categorical</td>\n",
       "      <td>[-1]</td>\n",
       "    </tr>\n",
       "    <tr>\n",
       "      <th>56</th>\n",
       "      <td>WOHNLAGE</td>\n",
       "      <td>building</td>\n",
       "      <td>mixed</td>\n",
       "      <td>[-1]</td>\n",
       "    </tr>\n",
       "    <tr>\n",
       "      <th>57</th>\n",
       "      <td>CAMEO_DEUG_2015</td>\n",
       "      <td>microcell_rr4</td>\n",
       "      <td>categorical</td>\n",
       "      <td>[-1,X]</td>\n",
       "    </tr>\n",
       "    <tr>\n",
       "      <th>58</th>\n",
       "      <td>CAMEO_DEU_2015</td>\n",
       "      <td>microcell_rr4</td>\n",
       "      <td>categorical</td>\n",
       "      <td>[XX]</td>\n",
       "    </tr>\n",
       "    <tr>\n",
       "      <th>59</th>\n",
       "      <td>CAMEO_INTL_2015</td>\n",
       "      <td>microcell_rr4</td>\n",
       "      <td>mixed</td>\n",
       "      <td>[-1,XX]</td>\n",
       "    </tr>\n",
       "    <tr>\n",
       "      <th>60</th>\n",
       "      <td>KBA05_ANTG1</td>\n",
       "      <td>microcell_rr3</td>\n",
       "      <td>ordinal</td>\n",
       "      <td>[-1]</td>\n",
       "    </tr>\n",
       "    <tr>\n",
       "      <th>61</th>\n",
       "      <td>KBA05_ANTG2</td>\n",
       "      <td>microcell_rr3</td>\n",
       "      <td>ordinal</td>\n",
       "      <td>[-1]</td>\n",
       "    </tr>\n",
       "    <tr>\n",
       "      <th>62</th>\n",
       "      <td>KBA05_ANTG3</td>\n",
       "      <td>microcell_rr3</td>\n",
       "      <td>ordinal</td>\n",
       "      <td>[-1]</td>\n",
       "    </tr>\n",
       "    <tr>\n",
       "      <th>63</th>\n",
       "      <td>KBA05_ANTG4</td>\n",
       "      <td>microcell_rr3</td>\n",
       "      <td>ordinal</td>\n",
       "      <td>[-1]</td>\n",
       "    </tr>\n",
       "    <tr>\n",
       "      <th>64</th>\n",
       "      <td>KBA05_BAUMAX</td>\n",
       "      <td>microcell_rr3</td>\n",
       "      <td>mixed</td>\n",
       "      <td>[-1,0]</td>\n",
       "    </tr>\n",
       "    <tr>\n",
       "      <th>65</th>\n",
       "      <td>KBA05_GBZ</td>\n",
       "      <td>microcell_rr3</td>\n",
       "      <td>ordinal</td>\n",
       "      <td>[-1,0]</td>\n",
       "    </tr>\n",
       "    <tr>\n",
       "      <th>66</th>\n",
       "      <td>BALLRAUM</td>\n",
       "      <td>postcode</td>\n",
       "      <td>ordinal</td>\n",
       "      <td>[-1]</td>\n",
       "    </tr>\n",
       "    <tr>\n",
       "      <th>67</th>\n",
       "      <td>EWDICHTE</td>\n",
       "      <td>postcode</td>\n",
       "      <td>ordinal</td>\n",
       "      <td>[-1]</td>\n",
       "    </tr>\n",
       "    <tr>\n",
       "      <th>68</th>\n",
       "      <td>INNENSTADT</td>\n",
       "      <td>postcode</td>\n",
       "      <td>ordinal</td>\n",
       "      <td>[-1]</td>\n",
       "    </tr>\n",
       "    <tr>\n",
       "      <th>69</th>\n",
       "      <td>GEBAEUDETYP_RASTER</td>\n",
       "      <td>region_rr1</td>\n",
       "      <td>ordinal</td>\n",
       "      <td>[]</td>\n",
       "    </tr>\n",
       "    <tr>\n",
       "      <th>70</th>\n",
       "      <td>KKK</td>\n",
       "      <td>region_rr1</td>\n",
       "      <td>ordinal</td>\n",
       "      <td>[-1,0]</td>\n",
       "    </tr>\n",
       "    <tr>\n",
       "      <th>71</th>\n",
       "      <td>MOBI_REGIO</td>\n",
       "      <td>region_rr1</td>\n",
       "      <td>ordinal</td>\n",
       "      <td>[]</td>\n",
       "    </tr>\n",
       "    <tr>\n",
       "      <th>72</th>\n",
       "      <td>ONLINE_AFFINITAET</td>\n",
       "      <td>region_rr1</td>\n",
       "      <td>ordinal</td>\n",
       "      <td>[]</td>\n",
       "    </tr>\n",
       "    <tr>\n",
       "      <th>73</th>\n",
       "      <td>REGIOTYP</td>\n",
       "      <td>region_rr1</td>\n",
       "      <td>ordinal</td>\n",
       "      <td>[-1,0]</td>\n",
       "    </tr>\n",
       "    <tr>\n",
       "      <th>74</th>\n",
       "      <td>KBA13_ANZAHL_PKW</td>\n",
       "      <td>macrocell_plz8</td>\n",
       "      <td>numeric</td>\n",
       "      <td>[]</td>\n",
       "    </tr>\n",
       "    <tr>\n",
       "      <th>75</th>\n",
       "      <td>PLZ8_ANTG1</td>\n",
       "      <td>macrocell_plz8</td>\n",
       "      <td>ordinal</td>\n",
       "      <td>[-1]</td>\n",
       "    </tr>\n",
       "    <tr>\n",
       "      <th>76</th>\n",
       "      <td>PLZ8_ANTG2</td>\n",
       "      <td>macrocell_plz8</td>\n",
       "      <td>ordinal</td>\n",
       "      <td>[-1]</td>\n",
       "    </tr>\n",
       "    <tr>\n",
       "      <th>77</th>\n",
       "      <td>PLZ8_ANTG3</td>\n",
       "      <td>macrocell_plz8</td>\n",
       "      <td>ordinal</td>\n",
       "      <td>[-1]</td>\n",
       "    </tr>\n",
       "    <tr>\n",
       "      <th>78</th>\n",
       "      <td>PLZ8_ANTG4</td>\n",
       "      <td>macrocell_plz8</td>\n",
       "      <td>ordinal</td>\n",
       "      <td>[-1]</td>\n",
       "    </tr>\n",
       "    <tr>\n",
       "      <th>79</th>\n",
       "      <td>PLZ8_BAUMAX</td>\n",
       "      <td>macrocell_plz8</td>\n",
       "      <td>mixed</td>\n",
       "      <td>[-1,0]</td>\n",
       "    </tr>\n",
       "    <tr>\n",
       "      <th>80</th>\n",
       "      <td>PLZ8_HHZ</td>\n",
       "      <td>macrocell_plz8</td>\n",
       "      <td>ordinal</td>\n",
       "      <td>[-1]</td>\n",
       "    </tr>\n",
       "    <tr>\n",
       "      <th>81</th>\n",
       "      <td>PLZ8_GBZ</td>\n",
       "      <td>macrocell_plz8</td>\n",
       "      <td>ordinal</td>\n",
       "      <td>[-1]</td>\n",
       "    </tr>\n",
       "    <tr>\n",
       "      <th>82</th>\n",
       "      <td>ARBEIT</td>\n",
       "      <td>community</td>\n",
       "      <td>ordinal</td>\n",
       "      <td>[-1,9]</td>\n",
       "    </tr>\n",
       "    <tr>\n",
       "      <th>83</th>\n",
       "      <td>ORTSGR_KLS9</td>\n",
       "      <td>community</td>\n",
       "      <td>ordinal</td>\n",
       "      <td>[-1,0]</td>\n",
       "    </tr>\n",
       "    <tr>\n",
       "      <th>84</th>\n",
       "      <td>RELAT_AB</td>\n",
       "      <td>community</td>\n",
       "      <td>ordinal</td>\n",
       "      <td>[-1,9]</td>\n",
       "    </tr>\n",
       "  </tbody>\n",
       "</table>\n",
       "<p>85 rows × 4 columns</p>\n",
       "</div>"
      ],
      "text/plain": [
       "                attribute information_level         type missing_or_unknown\n",
       "0                AGER_TYP            person  categorical             [-1,0]\n",
       "1    ALTERSKATEGORIE_GROB            person      ordinal           [-1,0,9]\n",
       "2               ANREDE_KZ            person  categorical             [-1,0]\n",
       "3           CJT_GESAMTTYP            person  categorical                [0]\n",
       "4       FINANZ_MINIMALIST            person      ordinal               [-1]\n",
       "5           FINANZ_SPARER            person      ordinal               [-1]\n",
       "6        FINANZ_VORSORGER            person      ordinal               [-1]\n",
       "7          FINANZ_ANLEGER            person      ordinal               [-1]\n",
       "8   FINANZ_UNAUFFAELLIGER            person      ordinal               [-1]\n",
       "9        FINANZ_HAUSBAUER            person      ordinal               [-1]\n",
       "10              FINANZTYP            person  categorical               [-1]\n",
       "11            GEBURTSJAHR            person      numeric                [0]\n",
       "12        GFK_URLAUBERTYP            person  categorical                 []\n",
       "13       GREEN_AVANTGARDE            person  categorical                 []\n",
       "14             HEALTH_TYP            person      ordinal             [-1,0]\n",
       "15    LP_LEBENSPHASE_FEIN            person        mixed                [0]\n",
       "16    LP_LEBENSPHASE_GROB            person        mixed                [0]\n",
       "17        LP_FAMILIE_FEIN            person  categorical                [0]\n",
       "18        LP_FAMILIE_GROB            person  categorical                [0]\n",
       "19         LP_STATUS_FEIN            person  categorical                [0]\n",
       "20         LP_STATUS_GROB            person  categorical                [0]\n",
       "21       NATIONALITAET_KZ            person  categorical             [-1,0]\n",
       "22  PRAEGENDE_JUGENDJAHRE            person        mixed             [-1,0]\n",
       "23         RETOURTYP_BK_S            person      ordinal                [0]\n",
       "24              SEMIO_SOZ            person      ordinal             [-1,9]\n",
       "25              SEMIO_FAM            person      ordinal             [-1,9]\n",
       "26              SEMIO_REL            person      ordinal             [-1,9]\n",
       "27              SEMIO_MAT            person      ordinal             [-1,9]\n",
       "28             SEMIO_VERT            person      ordinal             [-1,9]\n",
       "29             SEMIO_LUST            person      ordinal             [-1,9]\n",
       "..                    ...               ...          ...                ...\n",
       "55            OST_WEST_KZ          building  categorical               [-1]\n",
       "56               WOHNLAGE          building        mixed               [-1]\n",
       "57        CAMEO_DEUG_2015     microcell_rr4  categorical             [-1,X]\n",
       "58         CAMEO_DEU_2015     microcell_rr4  categorical               [XX]\n",
       "59        CAMEO_INTL_2015     microcell_rr4        mixed            [-1,XX]\n",
       "60            KBA05_ANTG1     microcell_rr3      ordinal               [-1]\n",
       "61            KBA05_ANTG2     microcell_rr3      ordinal               [-1]\n",
       "62            KBA05_ANTG3     microcell_rr3      ordinal               [-1]\n",
       "63            KBA05_ANTG4     microcell_rr3      ordinal               [-1]\n",
       "64           KBA05_BAUMAX     microcell_rr3        mixed             [-1,0]\n",
       "65              KBA05_GBZ     microcell_rr3      ordinal             [-1,0]\n",
       "66               BALLRAUM          postcode      ordinal               [-1]\n",
       "67               EWDICHTE          postcode      ordinal               [-1]\n",
       "68             INNENSTADT          postcode      ordinal               [-1]\n",
       "69     GEBAEUDETYP_RASTER        region_rr1      ordinal                 []\n",
       "70                    KKK        region_rr1      ordinal             [-1,0]\n",
       "71             MOBI_REGIO        region_rr1      ordinal                 []\n",
       "72      ONLINE_AFFINITAET        region_rr1      ordinal                 []\n",
       "73               REGIOTYP        region_rr1      ordinal             [-1,0]\n",
       "74       KBA13_ANZAHL_PKW    macrocell_plz8      numeric                 []\n",
       "75             PLZ8_ANTG1    macrocell_plz8      ordinal               [-1]\n",
       "76             PLZ8_ANTG2    macrocell_plz8      ordinal               [-1]\n",
       "77             PLZ8_ANTG3    macrocell_plz8      ordinal               [-1]\n",
       "78             PLZ8_ANTG4    macrocell_plz8      ordinal               [-1]\n",
       "79            PLZ8_BAUMAX    macrocell_plz8        mixed             [-1,0]\n",
       "80               PLZ8_HHZ    macrocell_plz8      ordinal               [-1]\n",
       "81               PLZ8_GBZ    macrocell_plz8      ordinal               [-1]\n",
       "82                 ARBEIT         community      ordinal             [-1,9]\n",
       "83            ORTSGR_KLS9         community      ordinal             [-1,0]\n",
       "84               RELAT_AB         community      ordinal             [-1,9]\n",
       "\n",
       "[85 rows x 4 columns]"
      ]
     },
     "execution_count": 10,
     "metadata": {},
     "output_type": "execute_result"
    }
   ],
   "source": [
    "feat_info"
   ]
  },
  {
   "cell_type": "code",
   "execution_count": 11,
   "metadata": {},
   "outputs": [
    {
     "data": {
      "text/plain": [
       "attribute             0\n",
       "information_level     0\n",
       "type                  0\n",
       "missing_or_unknown    0\n",
       "dtype: int64"
      ]
     },
     "execution_count": 11,
     "metadata": {},
     "output_type": "execute_result"
    }
   ],
   "source": [
    "feat_info.isnull().sum()"
   ]
  },
  {
   "cell_type": "markdown",
   "metadata": {},
   "source": [
    "> **Tip**: Add additional cells to keep everything in reasonably-sized chunks! Keyboard shortcut `esc --> a` (press escape to enter command mode, then press the 'A' key) adds a new cell before the active cell, and `esc --> b` adds a new cell after the active cell. If you need to convert an active cell to a markdown cell, use `esc --> m` and to convert to a code cell, use `esc --> y`. \n",
    "\n",
    "## Step 1: Preprocessing\n",
    "\n",
    "### Step 1.1: Assess Missing Data\n",
    "\n",
    "The feature summary file contains a summary of properties for each demographics data column. You will use this file to help you make cleaning decisions during this stage of the project. First of all, you should assess the demographics data in terms of missing data. Pay attention to the following points as you perform your analysis, and take notes on what you observe. Make sure that you fill in the **Discussion** cell with your findings and decisions at the end of each step that has one!\n",
    "\n",
    "#### Step 1.1.1: Convert Missing Value Codes to NaNs\n",
    "The fourth column of the feature attributes summary (loaded in above as `feat_info`) documents the codes from the data dictionary that indicate missing or unknown data. While the file encodes this as a list (e.g. `[-1,0]`), this will get read in as a string object. You'll need to do a little bit of parsing to make use of it to identify and clean the data. Convert data that matches a 'missing' or 'unknown' value code into a numpy NaN value. You might want to see how much data takes on a 'missing' or 'unknown' code, and how much data is naturally missing, as a point of interest.\n",
    "\n",
    "**As one more reminder, you are encouraged to add additional cells to break up your analysis into manageable chunks.**"
   ]
  },
  {
   "cell_type": "code",
   "execution_count": 12,
   "metadata": {},
   "outputs": [],
   "source": [
    "# Identify missing or unknown data values and convert them to NaNs.\n",
    "missing_df = pd.DataFrame(columns=['attribute',\n",
    "                                   'missing_or_unknown_count',\n",
    "                                   'natural_missing_count', \n",
    "                                   'total_missing_count'])"
   ]
  },
  {
   "cell_type": "code",
   "execution_count": 13,
   "metadata": {},
   "outputs": [],
   "source": [
    "missing_df.attribute = feat_info.attribute"
   ]
  },
  {
   "cell_type": "code",
   "execution_count": 14,
   "metadata": {},
   "outputs": [],
   "source": [
    "def get_missing_value_codes(df):\n",
    "    '''\n",
    "       Convert the string representation of list missing codes to list.\n",
    "    '''\n",
    "    attribute = df['attribute']\n",
    "    str_list = df['missing_or_unknown']\n",
    "    if len(str_list.strip(\"][\")):\n",
    "        tmp = [ data.strip('][') for data in str_list.split(\",\")]\n",
    "        missing_codes = [ int(data) if data[0]=='-' or data.isdigit() else data for data in tmp]\n",
    "    else:\n",
    "        missing_codes = []\n",
    "    return (attribute, missing_codes)\n"
   ]
  },
  {
   "cell_type": "code",
   "execution_count": 15,
   "metadata": {},
   "outputs": [],
   "source": [
    "missing_value_codes = feat_info.apply(get_missing_value_codes, axis=1)"
   ]
  },
  {
   "cell_type": "code",
   "execution_count": 16,
   "metadata": {},
   "outputs": [],
   "source": [
    "def transform_missing_codes_to_nan(df, missing_value_codes):\n",
    "    '''\n",
    "       Transforms missing codes to NaN. \n",
    "       It also counts how many natural missing and also counts how many missing by codes.\n",
    "       Input: dataframe, list of tuple(attribut, missing_code)\n",
    "       Output: Returns transformerd_dataframe, list of nautral missing counts, list of missing code counts\n",
    "    '''\n",
    "    natural_missing_counts = []\n",
    "    missing_code_counts = []\n",
    "\n",
    "    for attr, code in missing_value_codes:\n",
    "        \n",
    "        #Find natural missing \n",
    "        natural_missing = df[attr].isnull().sum()\n",
    "        natural_missing_counts.append(natural_missing)\n",
    "\n",
    "        for curr_code in code:\n",
    "            tmp = df[attr].value_counts()\n",
    "            if curr_code in tmp.index:\n",
    "                df[attr] = df[attr].replace(curr_code, np.nan)\n",
    "    \n",
    "        #Find missing by codes\n",
    "        missing_code_count = df[attr].isnull().sum() - natural_missing\n",
    "        missing_code_counts.append(missing_code_count)\n",
    "\n",
    "        #total = natural_missing + missing_code_count\n",
    "        #print(attr, natural_missing, missing_code_count, total )\n",
    "        \n",
    "        \n",
    "    return df, natural_missing_counts, missing_code_counts"
   ]
  },
  {
   "cell_type": "code",
   "execution_count": 17,
   "metadata": {},
   "outputs": [],
   "source": [
    "azdias_transformed, natural_missing_counts , missing_code_counts = \\\n",
    "                                                            transform_missing_codes_to_nan(azdias, missing_value_codes)"
   ]
  },
  {
   "cell_type": "code",
   "execution_count": 18,
   "metadata": {},
   "outputs": [],
   "source": [
    "missing_df.missing_or_unknown_count = missing_code_counts\n",
    "missing_df.natural_missing_count = natural_missing_counts"
   ]
  },
  {
   "cell_type": "code",
   "execution_count": 19,
   "metadata": {},
   "outputs": [],
   "source": [
    "missing_df.total_missing_count = missing_df.missing_or_unknown_count + missing_df.natural_missing_count"
   ]
  },
  {
   "cell_type": "code",
   "execution_count": 20,
   "metadata": {},
   "outputs": [
    {
     "data": {
      "text/html": [
       "<div>\n",
       "<style>\n",
       "    .dataframe thead tr:only-child th {\n",
       "        text-align: right;\n",
       "    }\n",
       "\n",
       "    .dataframe thead th {\n",
       "        text-align: left;\n",
       "    }\n",
       "\n",
       "    .dataframe tbody tr th {\n",
       "        vertical-align: top;\n",
       "    }\n",
       "</style>\n",
       "<table border=\"1\" class=\"dataframe\">\n",
       "  <thead>\n",
       "    <tr style=\"text-align: right;\">\n",
       "      <th></th>\n",
       "      <th>attribute</th>\n",
       "      <th>missing_or_unknown_count</th>\n",
       "      <th>natural_missing_count</th>\n",
       "      <th>total_missing_count</th>\n",
       "    </tr>\n",
       "  </thead>\n",
       "  <tbody>\n",
       "    <tr>\n",
       "      <th>0</th>\n",
       "      <td>AGER_TYP</td>\n",
       "      <td>685843</td>\n",
       "      <td>0</td>\n",
       "      <td>685843</td>\n",
       "    </tr>\n",
       "    <tr>\n",
       "      <th>1</th>\n",
       "      <td>ALTERSKATEGORIE_GROB</td>\n",
       "      <td>2881</td>\n",
       "      <td>0</td>\n",
       "      <td>2881</td>\n",
       "    </tr>\n",
       "    <tr>\n",
       "      <th>2</th>\n",
       "      <td>ANREDE_KZ</td>\n",
       "      <td>0</td>\n",
       "      <td>0</td>\n",
       "      <td>0</td>\n",
       "    </tr>\n",
       "    <tr>\n",
       "      <th>3</th>\n",
       "      <td>CJT_GESAMTTYP</td>\n",
       "      <td>0</td>\n",
       "      <td>4854</td>\n",
       "      <td>4854</td>\n",
       "    </tr>\n",
       "    <tr>\n",
       "      <th>4</th>\n",
       "      <td>FINANZ_MINIMALIST</td>\n",
       "      <td>0</td>\n",
       "      <td>0</td>\n",
       "      <td>0</td>\n",
       "    </tr>\n",
       "    <tr>\n",
       "      <th>5</th>\n",
       "      <td>FINANZ_SPARER</td>\n",
       "      <td>0</td>\n",
       "      <td>0</td>\n",
       "      <td>0</td>\n",
       "    </tr>\n",
       "    <tr>\n",
       "      <th>6</th>\n",
       "      <td>FINANZ_VORSORGER</td>\n",
       "      <td>0</td>\n",
       "      <td>0</td>\n",
       "      <td>0</td>\n",
       "    </tr>\n",
       "    <tr>\n",
       "      <th>7</th>\n",
       "      <td>FINANZ_ANLEGER</td>\n",
       "      <td>0</td>\n",
       "      <td>0</td>\n",
       "      <td>0</td>\n",
       "    </tr>\n",
       "    <tr>\n",
       "      <th>8</th>\n",
       "      <td>FINANZ_UNAUFFAELLIGER</td>\n",
       "      <td>0</td>\n",
       "      <td>0</td>\n",
       "      <td>0</td>\n",
       "    </tr>\n",
       "    <tr>\n",
       "      <th>9</th>\n",
       "      <td>FINANZ_HAUSBAUER</td>\n",
       "      <td>0</td>\n",
       "      <td>0</td>\n",
       "      <td>0</td>\n",
       "    </tr>\n",
       "    <tr>\n",
       "      <th>10</th>\n",
       "      <td>FINANZTYP</td>\n",
       "      <td>0</td>\n",
       "      <td>0</td>\n",
       "      <td>0</td>\n",
       "    </tr>\n",
       "    <tr>\n",
       "      <th>11</th>\n",
       "      <td>GEBURTSJAHR</td>\n",
       "      <td>392318</td>\n",
       "      <td>0</td>\n",
       "      <td>392318</td>\n",
       "    </tr>\n",
       "    <tr>\n",
       "      <th>12</th>\n",
       "      <td>GFK_URLAUBERTYP</td>\n",
       "      <td>0</td>\n",
       "      <td>4854</td>\n",
       "      <td>4854</td>\n",
       "    </tr>\n",
       "    <tr>\n",
       "      <th>13</th>\n",
       "      <td>GREEN_AVANTGARDE</td>\n",
       "      <td>0</td>\n",
       "      <td>0</td>\n",
       "      <td>0</td>\n",
       "    </tr>\n",
       "    <tr>\n",
       "      <th>14</th>\n",
       "      <td>HEALTH_TYP</td>\n",
       "      <td>111196</td>\n",
       "      <td>0</td>\n",
       "      <td>111196</td>\n",
       "    </tr>\n",
       "    <tr>\n",
       "      <th>15</th>\n",
       "      <td>LP_LEBENSPHASE_FEIN</td>\n",
       "      <td>92778</td>\n",
       "      <td>4854</td>\n",
       "      <td>97632</td>\n",
       "    </tr>\n",
       "    <tr>\n",
       "      <th>16</th>\n",
       "      <td>LP_LEBENSPHASE_GROB</td>\n",
       "      <td>89718</td>\n",
       "      <td>4854</td>\n",
       "      <td>94572</td>\n",
       "    </tr>\n",
       "    <tr>\n",
       "      <th>17</th>\n",
       "      <td>LP_FAMILIE_FEIN</td>\n",
       "      <td>72938</td>\n",
       "      <td>4854</td>\n",
       "      <td>77792</td>\n",
       "    </tr>\n",
       "    <tr>\n",
       "      <th>18</th>\n",
       "      <td>LP_FAMILIE_GROB</td>\n",
       "      <td>72938</td>\n",
       "      <td>4854</td>\n",
       "      <td>77792</td>\n",
       "    </tr>\n",
       "    <tr>\n",
       "      <th>19</th>\n",
       "      <td>LP_STATUS_FEIN</td>\n",
       "      <td>0</td>\n",
       "      <td>4854</td>\n",
       "      <td>4854</td>\n",
       "    </tr>\n",
       "    <tr>\n",
       "      <th>20</th>\n",
       "      <td>LP_STATUS_GROB</td>\n",
       "      <td>0</td>\n",
       "      <td>4854</td>\n",
       "      <td>4854</td>\n",
       "    </tr>\n",
       "    <tr>\n",
       "      <th>21</th>\n",
       "      <td>NATIONALITAET_KZ</td>\n",
       "      <td>108315</td>\n",
       "      <td>0</td>\n",
       "      <td>108315</td>\n",
       "    </tr>\n",
       "    <tr>\n",
       "      <th>22</th>\n",
       "      <td>PRAEGENDE_JUGENDJAHRE</td>\n",
       "      <td>108164</td>\n",
       "      <td>0</td>\n",
       "      <td>108164</td>\n",
       "    </tr>\n",
       "    <tr>\n",
       "      <th>23</th>\n",
       "      <td>RETOURTYP_BK_S</td>\n",
       "      <td>0</td>\n",
       "      <td>4854</td>\n",
       "      <td>4854</td>\n",
       "    </tr>\n",
       "    <tr>\n",
       "      <th>24</th>\n",
       "      <td>SEMIO_SOZ</td>\n",
       "      <td>0</td>\n",
       "      <td>0</td>\n",
       "      <td>0</td>\n",
       "    </tr>\n",
       "    <tr>\n",
       "      <th>25</th>\n",
       "      <td>SEMIO_FAM</td>\n",
       "      <td>0</td>\n",
       "      <td>0</td>\n",
       "      <td>0</td>\n",
       "    </tr>\n",
       "    <tr>\n",
       "      <th>26</th>\n",
       "      <td>SEMIO_REL</td>\n",
       "      <td>0</td>\n",
       "      <td>0</td>\n",
       "      <td>0</td>\n",
       "    </tr>\n",
       "    <tr>\n",
       "      <th>27</th>\n",
       "      <td>SEMIO_MAT</td>\n",
       "      <td>0</td>\n",
       "      <td>0</td>\n",
       "      <td>0</td>\n",
       "    </tr>\n",
       "    <tr>\n",
       "      <th>28</th>\n",
       "      <td>SEMIO_VERT</td>\n",
       "      <td>0</td>\n",
       "      <td>0</td>\n",
       "      <td>0</td>\n",
       "    </tr>\n",
       "    <tr>\n",
       "      <th>29</th>\n",
       "      <td>SEMIO_LUST</td>\n",
       "      <td>0</td>\n",
       "      <td>0</td>\n",
       "      <td>0</td>\n",
       "    </tr>\n",
       "    <tr>\n",
       "      <th>...</th>\n",
       "      <td>...</td>\n",
       "      <td>...</td>\n",
       "      <td>...</td>\n",
       "      <td>...</td>\n",
       "    </tr>\n",
       "    <tr>\n",
       "      <th>55</th>\n",
       "      <td>OST_WEST_KZ</td>\n",
       "      <td>0</td>\n",
       "      <td>93148</td>\n",
       "      <td>93148</td>\n",
       "    </tr>\n",
       "    <tr>\n",
       "      <th>56</th>\n",
       "      <td>WOHNLAGE</td>\n",
       "      <td>0</td>\n",
       "      <td>93148</td>\n",
       "      <td>93148</td>\n",
       "    </tr>\n",
       "    <tr>\n",
       "      <th>57</th>\n",
       "      <td>CAMEO_DEUG_2015</td>\n",
       "      <td>373</td>\n",
       "      <td>98979</td>\n",
       "      <td>99352</td>\n",
       "    </tr>\n",
       "    <tr>\n",
       "      <th>58</th>\n",
       "      <td>CAMEO_DEU_2015</td>\n",
       "      <td>373</td>\n",
       "      <td>98979</td>\n",
       "      <td>99352</td>\n",
       "    </tr>\n",
       "    <tr>\n",
       "      <th>59</th>\n",
       "      <td>CAMEO_INTL_2015</td>\n",
       "      <td>373</td>\n",
       "      <td>98979</td>\n",
       "      <td>99352</td>\n",
       "    </tr>\n",
       "    <tr>\n",
       "      <th>60</th>\n",
       "      <td>KBA05_ANTG1</td>\n",
       "      <td>0</td>\n",
       "      <td>133324</td>\n",
       "      <td>133324</td>\n",
       "    </tr>\n",
       "    <tr>\n",
       "      <th>61</th>\n",
       "      <td>KBA05_ANTG2</td>\n",
       "      <td>0</td>\n",
       "      <td>133324</td>\n",
       "      <td>133324</td>\n",
       "    </tr>\n",
       "    <tr>\n",
       "      <th>62</th>\n",
       "      <td>KBA05_ANTG3</td>\n",
       "      <td>0</td>\n",
       "      <td>133324</td>\n",
       "      <td>133324</td>\n",
       "    </tr>\n",
       "    <tr>\n",
       "      <th>63</th>\n",
       "      <td>KBA05_ANTG4</td>\n",
       "      <td>0</td>\n",
       "      <td>133324</td>\n",
       "      <td>133324</td>\n",
       "    </tr>\n",
       "    <tr>\n",
       "      <th>64</th>\n",
       "      <td>KBA05_BAUMAX</td>\n",
       "      <td>343200</td>\n",
       "      <td>133324</td>\n",
       "      <td>476524</td>\n",
       "    </tr>\n",
       "    <tr>\n",
       "      <th>65</th>\n",
       "      <td>KBA05_GBZ</td>\n",
       "      <td>0</td>\n",
       "      <td>133324</td>\n",
       "      <td>133324</td>\n",
       "    </tr>\n",
       "    <tr>\n",
       "      <th>66</th>\n",
       "      <td>BALLRAUM</td>\n",
       "      <td>0</td>\n",
       "      <td>93740</td>\n",
       "      <td>93740</td>\n",
       "    </tr>\n",
       "    <tr>\n",
       "      <th>67</th>\n",
       "      <td>EWDICHTE</td>\n",
       "      <td>0</td>\n",
       "      <td>93740</td>\n",
       "      <td>93740</td>\n",
       "    </tr>\n",
       "    <tr>\n",
       "      <th>68</th>\n",
       "      <td>INNENSTADT</td>\n",
       "      <td>0</td>\n",
       "      <td>93740</td>\n",
       "      <td>93740</td>\n",
       "    </tr>\n",
       "    <tr>\n",
       "      <th>69</th>\n",
       "      <td>GEBAEUDETYP_RASTER</td>\n",
       "      <td>0</td>\n",
       "      <td>93155</td>\n",
       "      <td>93155</td>\n",
       "    </tr>\n",
       "    <tr>\n",
       "      <th>70</th>\n",
       "      <td>KKK</td>\n",
       "      <td>36868</td>\n",
       "      <td>121196</td>\n",
       "      <td>158064</td>\n",
       "    </tr>\n",
       "    <tr>\n",
       "      <th>71</th>\n",
       "      <td>MOBI_REGIO</td>\n",
       "      <td>0</td>\n",
       "      <td>133324</td>\n",
       "      <td>133324</td>\n",
       "    </tr>\n",
       "    <tr>\n",
       "      <th>72</th>\n",
       "      <td>ONLINE_AFFINITAET</td>\n",
       "      <td>0</td>\n",
       "      <td>4854</td>\n",
       "      <td>4854</td>\n",
       "    </tr>\n",
       "    <tr>\n",
       "      <th>73</th>\n",
       "      <td>REGIOTYP</td>\n",
       "      <td>36868</td>\n",
       "      <td>121196</td>\n",
       "      <td>158064</td>\n",
       "    </tr>\n",
       "    <tr>\n",
       "      <th>74</th>\n",
       "      <td>KBA13_ANZAHL_PKW</td>\n",
       "      <td>0</td>\n",
       "      <td>105800</td>\n",
       "      <td>105800</td>\n",
       "    </tr>\n",
       "    <tr>\n",
       "      <th>75</th>\n",
       "      <td>PLZ8_ANTG1</td>\n",
       "      <td>0</td>\n",
       "      <td>116515</td>\n",
       "      <td>116515</td>\n",
       "    </tr>\n",
       "    <tr>\n",
       "      <th>76</th>\n",
       "      <td>PLZ8_ANTG2</td>\n",
       "      <td>0</td>\n",
       "      <td>116515</td>\n",
       "      <td>116515</td>\n",
       "    </tr>\n",
       "    <tr>\n",
       "      <th>77</th>\n",
       "      <td>PLZ8_ANTG3</td>\n",
       "      <td>0</td>\n",
       "      <td>116515</td>\n",
       "      <td>116515</td>\n",
       "    </tr>\n",
       "    <tr>\n",
       "      <th>78</th>\n",
       "      <td>PLZ8_ANTG4</td>\n",
       "      <td>0</td>\n",
       "      <td>116515</td>\n",
       "      <td>116515</td>\n",
       "    </tr>\n",
       "    <tr>\n",
       "      <th>79</th>\n",
       "      <td>PLZ8_BAUMAX</td>\n",
       "      <td>0</td>\n",
       "      <td>116515</td>\n",
       "      <td>116515</td>\n",
       "    </tr>\n",
       "    <tr>\n",
       "      <th>80</th>\n",
       "      <td>PLZ8_HHZ</td>\n",
       "      <td>0</td>\n",
       "      <td>116515</td>\n",
       "      <td>116515</td>\n",
       "    </tr>\n",
       "    <tr>\n",
       "      <th>81</th>\n",
       "      <td>PLZ8_GBZ</td>\n",
       "      <td>0</td>\n",
       "      <td>116515</td>\n",
       "      <td>116515</td>\n",
       "    </tr>\n",
       "    <tr>\n",
       "      <th>82</th>\n",
       "      <td>ARBEIT</td>\n",
       "      <td>159</td>\n",
       "      <td>97216</td>\n",
       "      <td>97375</td>\n",
       "    </tr>\n",
       "    <tr>\n",
       "      <th>83</th>\n",
       "      <td>ORTSGR_KLS9</td>\n",
       "      <td>58</td>\n",
       "      <td>97216</td>\n",
       "      <td>97274</td>\n",
       "    </tr>\n",
       "    <tr>\n",
       "      <th>84</th>\n",
       "      <td>RELAT_AB</td>\n",
       "      <td>159</td>\n",
       "      <td>97216</td>\n",
       "      <td>97375</td>\n",
       "    </tr>\n",
       "  </tbody>\n",
       "</table>\n",
       "<p>85 rows × 4 columns</p>\n",
       "</div>"
      ],
      "text/plain": [
       "                attribute  missing_or_unknown_count  natural_missing_count  \\\n",
       "0                AGER_TYP                    685843                      0   \n",
       "1    ALTERSKATEGORIE_GROB                      2881                      0   \n",
       "2               ANREDE_KZ                         0                      0   \n",
       "3           CJT_GESAMTTYP                         0                   4854   \n",
       "4       FINANZ_MINIMALIST                         0                      0   \n",
       "5           FINANZ_SPARER                         0                      0   \n",
       "6        FINANZ_VORSORGER                         0                      0   \n",
       "7          FINANZ_ANLEGER                         0                      0   \n",
       "8   FINANZ_UNAUFFAELLIGER                         0                      0   \n",
       "9        FINANZ_HAUSBAUER                         0                      0   \n",
       "10              FINANZTYP                         0                      0   \n",
       "11            GEBURTSJAHR                    392318                      0   \n",
       "12        GFK_URLAUBERTYP                         0                   4854   \n",
       "13       GREEN_AVANTGARDE                         0                      0   \n",
       "14             HEALTH_TYP                    111196                      0   \n",
       "15    LP_LEBENSPHASE_FEIN                     92778                   4854   \n",
       "16    LP_LEBENSPHASE_GROB                     89718                   4854   \n",
       "17        LP_FAMILIE_FEIN                     72938                   4854   \n",
       "18        LP_FAMILIE_GROB                     72938                   4854   \n",
       "19         LP_STATUS_FEIN                         0                   4854   \n",
       "20         LP_STATUS_GROB                         0                   4854   \n",
       "21       NATIONALITAET_KZ                    108315                      0   \n",
       "22  PRAEGENDE_JUGENDJAHRE                    108164                      0   \n",
       "23         RETOURTYP_BK_S                         0                   4854   \n",
       "24              SEMIO_SOZ                         0                      0   \n",
       "25              SEMIO_FAM                         0                      0   \n",
       "26              SEMIO_REL                         0                      0   \n",
       "27              SEMIO_MAT                         0                      0   \n",
       "28             SEMIO_VERT                         0                      0   \n",
       "29             SEMIO_LUST                         0                      0   \n",
       "..                    ...                       ...                    ...   \n",
       "55            OST_WEST_KZ                         0                  93148   \n",
       "56               WOHNLAGE                         0                  93148   \n",
       "57        CAMEO_DEUG_2015                       373                  98979   \n",
       "58         CAMEO_DEU_2015                       373                  98979   \n",
       "59        CAMEO_INTL_2015                       373                  98979   \n",
       "60            KBA05_ANTG1                         0                 133324   \n",
       "61            KBA05_ANTG2                         0                 133324   \n",
       "62            KBA05_ANTG3                         0                 133324   \n",
       "63            KBA05_ANTG4                         0                 133324   \n",
       "64           KBA05_BAUMAX                    343200                 133324   \n",
       "65              KBA05_GBZ                         0                 133324   \n",
       "66               BALLRAUM                         0                  93740   \n",
       "67               EWDICHTE                         0                  93740   \n",
       "68             INNENSTADT                         0                  93740   \n",
       "69     GEBAEUDETYP_RASTER                         0                  93155   \n",
       "70                    KKK                     36868                 121196   \n",
       "71             MOBI_REGIO                         0                 133324   \n",
       "72      ONLINE_AFFINITAET                         0                   4854   \n",
       "73               REGIOTYP                     36868                 121196   \n",
       "74       KBA13_ANZAHL_PKW                         0                 105800   \n",
       "75             PLZ8_ANTG1                         0                 116515   \n",
       "76             PLZ8_ANTG2                         0                 116515   \n",
       "77             PLZ8_ANTG3                         0                 116515   \n",
       "78             PLZ8_ANTG4                         0                 116515   \n",
       "79            PLZ8_BAUMAX                         0                 116515   \n",
       "80               PLZ8_HHZ                         0                 116515   \n",
       "81               PLZ8_GBZ                         0                 116515   \n",
       "82                 ARBEIT                       159                  97216   \n",
       "83            ORTSGR_KLS9                        58                  97216   \n",
       "84               RELAT_AB                       159                  97216   \n",
       "\n",
       "    total_missing_count  \n",
       "0                685843  \n",
       "1                  2881  \n",
       "2                     0  \n",
       "3                  4854  \n",
       "4                     0  \n",
       "5                     0  \n",
       "6                     0  \n",
       "7                     0  \n",
       "8                     0  \n",
       "9                     0  \n",
       "10                    0  \n",
       "11               392318  \n",
       "12                 4854  \n",
       "13                    0  \n",
       "14               111196  \n",
       "15                97632  \n",
       "16                94572  \n",
       "17                77792  \n",
       "18                77792  \n",
       "19                 4854  \n",
       "20                 4854  \n",
       "21               108315  \n",
       "22               108164  \n",
       "23                 4854  \n",
       "24                    0  \n",
       "25                    0  \n",
       "26                    0  \n",
       "27                    0  \n",
       "28                    0  \n",
       "29                    0  \n",
       "..                  ...  \n",
       "55                93148  \n",
       "56                93148  \n",
       "57                99352  \n",
       "58                99352  \n",
       "59                99352  \n",
       "60               133324  \n",
       "61               133324  \n",
       "62               133324  \n",
       "63               133324  \n",
       "64               476524  \n",
       "65               133324  \n",
       "66                93740  \n",
       "67                93740  \n",
       "68                93740  \n",
       "69                93155  \n",
       "70               158064  \n",
       "71               133324  \n",
       "72                 4854  \n",
       "73               158064  \n",
       "74               105800  \n",
       "75               116515  \n",
       "76               116515  \n",
       "77               116515  \n",
       "78               116515  \n",
       "79               116515  \n",
       "80               116515  \n",
       "81               116515  \n",
       "82                97375  \n",
       "83                97274  \n",
       "84                97375  \n",
       "\n",
       "[85 rows x 4 columns]"
      ]
     },
     "execution_count": 20,
     "metadata": {},
     "output_type": "execute_result"
    }
   ],
   "source": [
    "missing_df"
   ]
  },
  {
   "cell_type": "code",
   "execution_count": 21,
   "metadata": {},
   "outputs": [
    {
     "name": "stdout",
     "output_type": "stream",
     "text": [
      "Total missing data counts by missing_or_unknown codes : 3477091\n",
      "Total natural missing data : 4896838\n"
     ]
    }
   ],
   "source": [
    "print(\"Total missing data counts by missing_or_unknown codes : {}\"\n",
    "                                                          .format(missing_df.missing_or_unknown_count.sum()))\n",
    "\n",
    "\n",
    "print(\"Total natural missing data : {}\" .format(missing_df.natural_missing_count.sum()))\n",
    "\n"
   ]
  },
  {
   "cell_type": "code",
   "execution_count": null,
   "metadata": {},
   "outputs": [],
   "source": []
  },
  {
   "cell_type": "markdown",
   "metadata": {},
   "source": [
    "#### Step 1.1.2: Assess Missing Data in Each Column\n",
    "\n",
    "How much missing data is present in each column? There are a few columns that are outliers in terms of the proportion of values that are missing. You will want to use matplotlib's [`hist()`](https://matplotlib.org/api/_as_gen/matplotlib.pyplot.hist.html) function to visualize the distribution of missing value counts to find these columns. Identify and document these columns. While some of these columns might have justifications for keeping or re-encoding the data, for this project you should just remove them from the dataframe. (Feel free to make remarks about these outlier columns in the discussion, however!)\n",
    "\n",
    "For the remaining features, are there any patterns in which columns have, or share, missing data?"
   ]
  },
  {
   "cell_type": "code",
   "execution_count": 22,
   "metadata": {},
   "outputs": [
    {
     "data": {
      "image/png": "[encoded data removed]",
      "text/plain": [
       "<matplotlib.figure.Figure at 0x7ff23c6e4748>"
      ]
     },
     "metadata": {
      "needs_background": "light"
     },
     "output_type": "display_data"
    }
   ],
   "source": [
    "# Perform an assessment of how much missing data there is in each column of the\n",
    "# dataset.\n",
    "plt.title(\"Histogram of missing data in % (percentage)\")\n",
    "_ = plt.hist(azdias_transformed.isnull().sum() / azdias_transformed.shape[0])\n"
   ]
  },
  {
   "cell_type": "code",
   "execution_count": 23,
   "metadata": {},
   "outputs": [
    {
     "data": {
      "text/plain": [
       "AGER_TYP                 685843\n",
       "ALTERSKATEGORIE_GROB       2881\n",
       "ANREDE_KZ                     0\n",
       "CJT_GESAMTTYP              4854\n",
       "FINANZ_MINIMALIST             0\n",
       "FINANZ_SPARER                 0\n",
       "FINANZ_VORSORGER              0\n",
       "FINANZ_ANLEGER                0\n",
       "FINANZ_UNAUFFAELLIGER         0\n",
       "FINANZ_HAUSBAUER              0\n",
       "FINANZTYP                     0\n",
       "GEBURTSJAHR              392318\n",
       "GFK_URLAUBERTYP            4854\n",
       "GREEN_AVANTGARDE              0\n",
       "HEALTH_TYP               111196\n",
       "LP_LEBENSPHASE_FEIN       97632\n",
       "LP_LEBENSPHASE_GROB       94572\n",
       "LP_FAMILIE_FEIN           77792\n",
       "LP_FAMILIE_GROB           77792\n",
       "LP_STATUS_FEIN             4854\n",
       "LP_STATUS_GROB             4854\n",
       "NATIONALITAET_KZ         108315\n",
       "PRAEGENDE_JUGENDJAHRE    108164\n",
       "RETOURTYP_BK_S             4854\n",
       "SEMIO_SOZ                     0\n",
       "SEMIO_FAM                     0\n",
       "SEMIO_REL                     0\n",
       "SEMIO_MAT                     0\n",
       "SEMIO_VERT                    0\n",
       "SEMIO_LUST                    0\n",
       "                          ...  \n",
       "OST_WEST_KZ               93148\n",
       "WOHNLAGE                  93148\n",
       "CAMEO_DEUG_2015           99352\n",
       "CAMEO_DEU_2015            99352\n",
       "CAMEO_INTL_2015           99352\n",
       "KBA05_ANTG1              133324\n",
       "KBA05_ANTG2              133324\n",
       "KBA05_ANTG3              133324\n",
       "KBA05_ANTG4              133324\n",
       "KBA05_BAUMAX             476524\n",
       "KBA05_GBZ                133324\n",
       "BALLRAUM                  93740\n",
       "EWDICHTE                  93740\n",
       "INNENSTADT                93740\n",
       "GEBAEUDETYP_RASTER        93155\n",
       "KKK                      158064\n",
       "MOBI_REGIO               133324\n",
       "ONLINE_AFFINITAET          4854\n",
       "REGIOTYP                 158064\n",
       "KBA13_ANZAHL_PKW         105800\n",
       "PLZ8_ANTG1               116515\n",
       "PLZ8_ANTG2               116515\n",
       "PLZ8_ANTG3               116515\n",
       "PLZ8_ANTG4               116515\n",
       "PLZ8_BAUMAX              116515\n",
       "PLZ8_HHZ                 116515\n",
       "PLZ8_GBZ                 116515\n",
       "ARBEIT                    97375\n",
       "ORTSGR_KLS9               97274\n",
       "RELAT_AB                  97375\n",
       "Length: 85, dtype: int64"
      ]
     },
     "execution_count": 23,
     "metadata": {},
     "output_type": "execute_result"
    }
   ],
   "source": [
    "# Investigate patterns in the amount of missing data in each column.\n",
    "azdias_transformed.isnull().sum()"
   ]
  },
  {
   "cell_type": "markdown",
   "metadata": {},
   "source": [
    "# How many times same amount of null values present ?"
   ]
  },
  {
   "cell_type": "code",
   "execution_count": 24,
   "metadata": {},
   "outputs": [
    {
     "data": {
      "text/plain": [
       "AGER_TYP                 0.769554\n",
       "ALTERSKATEGORIE_GROB     0.003233\n",
       "ANREDE_KZ                0.000000\n",
       "CJT_GESAMTTYP            0.005446\n",
       "FINANZ_MINIMALIST        0.000000\n",
       "FINANZ_SPARER            0.000000\n",
       "FINANZ_VORSORGER         0.000000\n",
       "FINANZ_ANLEGER           0.000000\n",
       "FINANZ_UNAUFFAELLIGER    0.000000\n",
       "FINANZ_HAUSBAUER         0.000000\n",
       "FINANZTYP                0.000000\n",
       "GEBURTSJAHR              0.440203\n",
       "GFK_URLAUBERTYP          0.005446\n",
       "GREEN_AVANTGARDE         0.000000\n",
       "HEALTH_TYP               0.124768\n",
       "LP_LEBENSPHASE_FEIN      0.109549\n",
       "LP_LEBENSPHASE_GROB      0.106115\n",
       "LP_FAMILIE_FEIN          0.087287\n",
       "LP_FAMILIE_GROB          0.087287\n",
       "LP_STATUS_FEIN           0.005446\n",
       "LP_STATUS_GROB           0.005446\n",
       "NATIONALITAET_KZ         0.121536\n",
       "PRAEGENDE_JUGENDJAHRE    0.121366\n",
       "RETOURTYP_BK_S           0.005446\n",
       "SEMIO_SOZ                0.000000\n",
       "SEMIO_FAM                0.000000\n",
       "SEMIO_REL                0.000000\n",
       "SEMIO_MAT                0.000000\n",
       "SEMIO_VERT               0.000000\n",
       "SEMIO_LUST               0.000000\n",
       "                           ...   \n",
       "OST_WEST_KZ              0.104517\n",
       "WOHNLAGE                 0.104517\n",
       "CAMEO_DEUG_2015          0.111479\n",
       "CAMEO_DEU_2015           0.111479\n",
       "CAMEO_INTL_2015          0.111479\n",
       "KBA05_ANTG1              0.149597\n",
       "KBA05_ANTG2              0.149597\n",
       "KBA05_ANTG3              0.149597\n",
       "KBA05_ANTG4              0.149597\n",
       "KBA05_BAUMAX             0.534687\n",
       "KBA05_GBZ                0.149597\n",
       "BALLRAUM                 0.105182\n",
       "EWDICHTE                 0.105182\n",
       "INNENSTADT               0.105182\n",
       "GEBAEUDETYP_RASTER       0.104525\n",
       "KKK                      0.177357\n",
       "MOBI_REGIO               0.149597\n",
       "ONLINE_AFFINITAET        0.005446\n",
       "REGIOTYP                 0.177357\n",
       "KBA13_ANZAHL_PKW         0.118714\n",
       "PLZ8_ANTG1               0.130736\n",
       "PLZ8_ANTG2               0.130736\n",
       "PLZ8_ANTG3               0.130736\n",
       "PLZ8_ANTG4               0.130736\n",
       "PLZ8_BAUMAX              0.130736\n",
       "PLZ8_HHZ                 0.130736\n",
       "PLZ8_GBZ                 0.130736\n",
       "ARBEIT                   0.109260\n",
       "ORTSGR_KLS9              0.109147\n",
       "RELAT_AB                 0.109260\n",
       "Length: 85, dtype: float64"
      ]
     },
     "execution_count": 24,
     "metadata": {},
     "output_type": "execute_result"
    }
   ],
   "source": [
    "(azdias_transformed.isnull().sum()/azdias_transformed.shape[0])#.value_counts()"
   ]
  },
  {
   "cell_type": "code",
   "execution_count": 25,
   "metadata": {},
   "outputs": [
    {
     "data": {
      "text/plain": [
       "0         24\n",
       "116515     7\n",
       "4854       6\n",
       "133324     6\n",
       "93148      4\n",
       "73499      4\n",
       "111196     3\n",
       "99352      3\n",
       "93740      3\n",
       "97375      2\n",
       "77792      2\n",
       "158064     2\n",
       "93155      1\n",
       "584612     1\n",
       "108164     1\n",
       "685843     1\n",
       "147988     1\n",
       "99611      1\n",
       "97274      1\n",
       "108315     1\n",
       "73969      1\n",
       "18348      1\n",
       "97632      1\n",
       "476524     1\n",
       "2881       1\n",
       "105800     1\n",
       "97008      1\n",
       "310267     1\n",
       "94572      1\n",
       "889061     1\n",
       "392318     1\n",
       "dtype: int64"
      ]
     },
     "execution_count": 25,
     "metadata": {},
     "output_type": "execute_result"
    }
   ],
   "source": [
    "(azdias_transformed.isnull().sum()).value_counts()"
   ]
  },
  {
   "cell_type": "code",
   "execution_count": 26,
   "metadata": {},
   "outputs": [],
   "source": [
    "# Remove the outlier columns from the dataset. (You'll perform other data\n",
    "# engineering tasks such as re-encoding and imputation later.)\n"
   ]
  },
  {
   "cell_type": "code",
   "execution_count": 27,
   "metadata": {},
   "outputs": [
    {
     "data": {
      "text/plain": [
       "<matplotlib.axes._subplots.AxesSubplot at 0x7ff23c5e40f0>"
      ]
     },
     "execution_count": 27,
     "metadata": {},
     "output_type": "execute_result"
    },
    {
     "data": {
      "image/png": "[encoded data removed]",
      "text/plain": [
       "<matplotlib.figure.Figure at 0x7ff23c6ef400>"
      ]
     },
     "metadata": {
      "needs_background": "light"
     },
     "output_type": "display_data"
    }
   ],
   "source": [
    "plt.title(\"Boxplot of missing values\")\n",
    "sns.boxplot(azdias_transformed.isnull().sum())"
   ]
  },
  {
   "cell_type": "code",
   "execution_count": null,
   "metadata": {},
   "outputs": [],
   "source": []
  },
  {
   "cell_type": "code",
   "execution_count": 28,
   "metadata": {},
   "outputs": [],
   "source": [
    "def drop_outlier_features(df):\n",
    "    '''\n",
    "        Drop outiler features that has large amount of missing values.\n",
    "        Input: dataframe\n",
    "        Output: dataframe (after outlier features removal) \n",
    "    '''\n",
    "    _ = df.isnull().sum()\n",
    "    IQ1 = np.percentile(_,25) # first Quartile\n",
    "    IQ3 = np.percentile(_,75) # third Quartile\n",
    "    IQR = IQ3 - IQ1 # Inter Quartile Range\n",
    "    outliers = _.index[~((_ >= IQ1 - (IQR * 1.5)) & (_ <= IQ3 + (IQR * 1.5)))]\n",
    "    print(outliers)\n",
    "    return df.drop(outliers, axis=1)\n"
   ]
  },
  {
   "cell_type": "code",
   "execution_count": 29,
   "metadata": {},
   "outputs": [
    {
     "name": "stdout",
     "output_type": "stream",
     "text": [
      "Index(['AGER_TYP', 'GEBURTSJAHR', 'TITEL_KZ', 'ALTER_HH', 'KK_KUNDENTYP',\n",
      "       'KBA05_BAUMAX'],\n",
      "      dtype='object')\n"
     ]
    }
   ],
   "source": [
    "azdias_transformed = drop_outlier_features(azdias_transformed)"
   ]
  },
  {
   "cell_type": "markdown",
   "metadata": {},
   "source": [
    "#### Discussion 1.1.2: Assess Missing Data in Each Column\n",
    "\n",
    " > **Amount of missing data ?**\n",
    " \n",
    "         Total missing data counts by missing_or_unknown codes : 3477091\n",
    "         Total natural missing data : 4896838\n",
    "\n",
    " > **Pattern in missing values ?**\n",
    "\n",
    "        Definitely we can see a pattern in missing data.\n",
    "        For examples: \n",
    "        \n",
    "        All PLZ8 region related features has same amount of missing data\n",
    "            PLZ8_ANTG1               116515\n",
    "            PLZ8_ANTG2               116515\n",
    "            PLZ8_ANTG3               116515\n",
    "            PLZ8_ANTG4               116515\n",
    "            PLZ8_BAUMAX              116515\n",
    "            PLZ8_HHZ                 116515\n",
    "            PLZ8_GBZ                 116515\n",
    "            \n",
    "       KBA05 micro-cell features also has same amount of missing data\n",
    "            KBA05_ANTG1              133324\n",
    "            KBA05_ANTG2              133324\n",
    "            KBA05_ANTG3              133324\n",
    "            KBA05_ANTG4              133324\n",
    "            KBA05_GBZ                133324\n",
    "       \n",
    " > **Outliers ?**\n",
    " \n",
    "         We have identified 6 features as an outliers in terms of missing data. \n",
    "         With the help of boxplot drawn above it is very easy to identify the outliers. \n",
    "         They have more than 200000 missing data per features. \n",
    "         Identified outlier features are as follows:-\n",
    "         AGER_TYP\n",
    "         GEBURTSJAHR\n",
    "         TITEL_KZ\n",
    "         ALTER_HH\n",
    "         KK_KUNDENTYP\n",
    "         KBA05_BAUMAX\n"
   ]
  },
  {
   "cell_type": "markdown",
   "metadata": {},
   "source": [
    "#### Step 1.1.3: Assess Missing Data in Each Row\n",
    "\n",
    "Now, you'll perform a similar assessment for the rows of the dataset. How much data is missing in each row? As with the columns, you should see some groups of points that have a very different numbers of missing values. Divide the data into two subsets: one for data points that are above some threshold for missing values, and a second subset for points below that threshold.\n",
    "\n",
    "In order to know what to do with the outlier rows, we should see if the distribution of data values on columns that are not missing data (or are missing very little data) are similar or different between the two groups. Select at least five of these columns and compare the distribution of values.\n",
    "- You can use seaborn's [`countplot()`](https://seaborn.pydata.org/generated/seaborn.countplot.html) function to create a bar chart of code frequencies and matplotlib's [`subplot()`](https://matplotlib.org/api/_as_gen/matplotlib.pyplot.subplot.html) function to put bar charts for the two subplots side by side.\n",
    "- To reduce repeated code, you might want to write a function that can perform this comparison, taking as one of its arguments a column to be compared.\n",
    "\n",
    "Depending on what you observe in your comparison, this will have implications on how you approach your conclusions later in the analysis. If the distributions of non-missing features look similar between the data with many missing values and the data with few or no missing values, then we could argue that simply dropping those points from the analysis won't present a major issue. On the other hand, if the data with many missing values looks very different from the data with few or no missing values, then we should make a note on those data as special. We'll revisit these data later on. **Either way, you should continue your analysis for now using just the subset of the data with few or no missing values.**"
   ]
  },
  {
   "cell_type": "code",
   "execution_count": null,
   "metadata": {},
   "outputs": [],
   "source": []
  },
  {
   "cell_type": "code",
   "execution_count": 30,
   "metadata": {},
   "outputs": [
    {
     "data": {
      "text/plain": [
       "<matplotlib.axes._subplots.AxesSubplot at 0x7ff23c5f9f28>"
      ]
     },
     "execution_count": 30,
     "metadata": {},
     "output_type": "execute_result"
    },
    {
     "data": {
      "image/png": "[encoded data removed]",
      "text/plain": [
       "<matplotlib.figure.Figure at 0x7ff23c5f91d0>"
      ]
     },
     "metadata": {
      "needs_background": "light"
     },
     "output_type": "display_data"
    }
   ],
   "source": [
    "# How much data is missing in each row of the dataset?\n",
    "plt.figure(figsize=(15,7))\n",
    "plt.title(\"How much data missing in each ROW ?\")\n",
    "plt.ylim(0, 50000)\n",
    "sns.countplot(azdias_transformed.isnull().sum(axis=1).values)"
   ]
  },
  {
   "cell_type": "code",
   "execution_count": 31,
   "metadata": {},
   "outputs": [],
   "source": [
    "# Write code to divide the data into two subsets based on the number of missing\n",
    "# values in each row.\n",
    "\n",
    "def divide_data_by_missing_threshold(df, threshold):\n",
    "    '''\n",
    "        Divide data in two parts with the help of threshold.\n",
    "        Input: dataframe , threshold\n",
    "        Output: dataframe_part1, dataframe_part2\n",
    "    '''\n",
    "    mask = df.isnull().sum(axis=1) > threshold\n",
    "    df_lower = df[~mask]\n",
    "    df_higher = df[mask]\n",
    "    return df_lower, df_higher\n"
   ]
  },
  {
   "cell_type": "code",
   "execution_count": 63,
   "metadata": {},
   "outputs": [
    {
     "name": "stdout",
     "output_type": "stream",
     "text": [
      "(797077, 79)\n",
      "(94144, 79)\n"
     ]
    }
   ],
   "source": [
    "df_until_threshold, df_with_greater_than_threshold = divide_data_by_missing_threshold(azdias_transformed, 19)\n",
    "print(df_until_threshold.shape)\n",
    "print(df_with_greater_than_threshold.shape)"
   ]
  },
  {
   "cell_type": "code",
   "execution_count": 44,
   "metadata": {},
   "outputs": [],
   "source": [
    "random.seed(10)"
   ]
  },
  {
   "cell_type": "code",
   "execution_count": 34,
   "metadata": {},
   "outputs": [],
   "source": [
    "# Compare the distribution of values for at least five columns where there are\n",
    "# no or few missing values, between the two subsets.\n",
    "\n",
    "def compare_datasets(df1, df2, max_features):\n",
    "    '''\n",
    "        Compare datasets by drawing counplot for different features.\n",
    "        Input: dataframe_1, dataframe_2, max_features\n",
    "            max_features: how many features to use for comparasion.\n",
    "        Return: None\n",
    "    '''\n",
    "    missing_values_columns = sorted(list(set(df1.columns[df1.isnull().sum() > 0]) | set(df2.columns[df2.isnull().sum() > 0])))\n",
    "    print(len(missing_values_columns))\n",
    "    features = [missing_values_columns[random.randrange(0,len(missing_values_columns))] for i in range(max_features)]\n",
    "    \n",
    "    for feature in features:\n",
    "        fig, (ax1, ax2) = plt.subplots(ncols=2, sharey=True)\n",
    "\n",
    "        sns.countplot(df1[feature], ax=ax1)\n",
    "        sns.countplot(df2[feature], ax=ax2)\n"
   ]
  },
  {
   "cell_type": "code",
   "execution_count": 35,
   "metadata": {
    "scrolled": false
   },
   "outputs": [
    {
     "name": "stdout",
     "output_type": "stream",
     "text": [
      "55\n"
     ]
    },
    {
     "data": {
      "image/png": "[encoded data removed]",
      "text/plain": [
       "<matplotlib.figure.Figure at 0x7ff23a3d99e8>"
      ]
     },
     "metadata": {
      "needs_background": "light"
     },
     "output_type": "display_data"
    },
    {
     "data": {
      "image/png": "[encoded data removed]",
      "text/plain": [
       "<matplotlib.figure.Figure at 0x7ff23a3a1e80>"
      ]
     },
     "metadata": {
      "needs_background": "light"
     },
     "output_type": "display_data"
    },
    {
     "data": {
      "image/png": "[encoded data removed]",
      "text/plain": [
       "<matplotlib.figure.Figure at 0x7ff23a2e5208>"
      ]
     },
     "metadata": {
      "needs_background": "light"
     },
     "output_type": "display_data"
    },
    {
     "data": {
      "image/png": "[encoded data removed]",
      "text/plain": [
       "<matplotlib.figure.Figure at 0x7ff23a26ee48>"
      ]
     },
     "metadata": {
      "needs_background": "light"
     },
     "output_type": "display_data"
    },
    {
     "data": {
      "image/png": "[encoded data removed]",
      "text/plain": [
       "<matplotlib.figure.Figure at 0x7ff23a1b0ac8>"
      ]
     },
     "metadata": {
      "needs_background": "light"
     },
     "output_type": "display_data"
    },
    {
     "data": {
      "image/png": "[encoded data removed]",
      "text/plain": [
       "<matplotlib.figure.Figure at 0x7ff23a055630>"
      ]
     },
     "metadata": {
      "needs_background": "light"
     },
     "output_type": "display_data"
    },
    {
     "data": {
      "image/png": "[encoded data removed]",
      "text/plain": [
       "<matplotlib.figure.Figure at 0x7ff239fe3cc0>"
      ]
     },
     "metadata": {
      "needs_background": "light"
     },
     "output_type": "display_data"
    },
    {
     "data": {
      "image/png": "[encoded data removed]",
      "text/plain": [
       "<matplotlib.figure.Figure at 0x7ff239f87dd8>"
      ]
     },
     "metadata": {
      "needs_background": "light"
     },
     "output_type": "display_data"
    },
    {
     "data": {
      "image/png": "[encoded data removed]",
      "text/plain": [
       "<matplotlib.figure.Figure at 0x7ff239eb8780>"
      ]
     },
     "metadata": {
      "needs_background": "light"
     },
     "output_type": "display_data"
    },
    {
     "data": {
      "image/png": "[encoded data removed]",
      "text/plain": [
       "<matplotlib.figure.Figure at 0x7ff239df6860>"
      ]
     },
     "metadata": {
      "needs_background": "light"
     },
     "output_type": "display_data"
    }
   ],
   "source": [
    "compare_datasets(df_until_threshold, \n",
    "                 df_with_greater_than_threshold, \n",
    "                 10)"
   ]
  },
  {
   "cell_type": "markdown",
   "metadata": {},
   "source": [
    "#### Discussion 1.1.3: Assess Missing Data in Each Row\n",
    "\n",
    " > **Are the data with lots of missing values are qualitativerly different from data with few or no missing values ?**\n",
    " \n",
    "     Out of 10 plots drawn above, most featues has different data distribution in comparision with few_missing_values and missing_values dataset. For example:\n",
    "     \n",
    "        ALTERSKATEGORIE_GROB\n",
    "\n",
    "        GEBAEUDETYP_RASTER\n",
    "\n",
    "        WOHNDAUER_2008\n",
    "\n",
    "        ANZ_HH_TITEL\n",
    "        \n",
    "        LP_STATUS_FEIN"
   ]
  },
  {
   "cell_type": "markdown",
   "metadata": {},
   "source": [
    "# Impute missing values"
   ]
  },
  {
   "cell_type": "code",
   "execution_count": 64,
   "metadata": {},
   "outputs": [
    {
     "name": "stdout",
     "output_type": "stream",
     "text": [
      "46\n"
     ]
    },
    {
     "name": "stderr",
     "output_type": "stream",
     "text": [
      "/opt/conda/lib/python3.6/site-packages/ipykernel_launcher.py:6: SettingWithCopyWarning: \n",
      "A value is trying to be set on a copy of a slice from a DataFrame.\n",
      "Try using .loc[row_indexer,col_indexer] = value instead\n",
      "\n",
      "See the caveats in the documentation: http://pandas.pydata.org/pandas-docs/stable/indexing.html#indexing-view-versus-copy\n",
      "  \n"
     ]
    }
   ],
   "source": [
    "missing_columns = df_until_threshold.columns[ df_until_threshold.isnull().sum() > 0]\n",
    "print(len(missing_columns))\n",
    "\n",
    "for col in missing_columns:\n",
    "    most_freq = df_until_threshold[col].mode()[0]\n",
    "    df_until_threshold[col] = df_until_threshold[col].fillna(most_freq)"
   ]
  },
  {
   "cell_type": "code",
   "execution_count": 65,
   "metadata": {},
   "outputs": [
    {
     "data": {
      "text/plain": [
       "ALTERSKATEGORIE_GROB     0\n",
       "ANREDE_KZ                0\n",
       "CJT_GESAMTTYP            0\n",
       "FINANZ_MINIMALIST        0\n",
       "FINANZ_SPARER            0\n",
       "FINANZ_VORSORGER         0\n",
       "FINANZ_ANLEGER           0\n",
       "FINANZ_UNAUFFAELLIGER    0\n",
       "FINANZ_HAUSBAUER         0\n",
       "FINANZTYP                0\n",
       "GFK_URLAUBERTYP          0\n",
       "GREEN_AVANTGARDE         0\n",
       "HEALTH_TYP               0\n",
       "LP_LEBENSPHASE_FEIN      0\n",
       "LP_LEBENSPHASE_GROB      0\n",
       "LP_FAMILIE_FEIN          0\n",
       "LP_FAMILIE_GROB          0\n",
       "LP_STATUS_FEIN           0\n",
       "LP_STATUS_GROB           0\n",
       "NATIONALITAET_KZ         0\n",
       "PRAEGENDE_JUGENDJAHRE    0\n",
       "RETOURTYP_BK_S           0\n",
       "SEMIO_SOZ                0\n",
       "SEMIO_FAM                0\n",
       "SEMIO_REL                0\n",
       "SEMIO_MAT                0\n",
       "SEMIO_VERT               0\n",
       "SEMIO_LUST               0\n",
       "SEMIO_ERL                0\n",
       "SEMIO_KULT               0\n",
       "                        ..\n",
       "MIN_GEBAEUDEJAHR         0\n",
       "OST_WEST_KZ              0\n",
       "WOHNLAGE                 0\n",
       "CAMEO_DEUG_2015          0\n",
       "CAMEO_DEU_2015           0\n",
       "CAMEO_INTL_2015          0\n",
       "KBA05_ANTG1              0\n",
       "KBA05_ANTG2              0\n",
       "KBA05_ANTG3              0\n",
       "KBA05_ANTG4              0\n",
       "KBA05_GBZ                0\n",
       "BALLRAUM                 0\n",
       "EWDICHTE                 0\n",
       "INNENSTADT               0\n",
       "GEBAEUDETYP_RASTER       0\n",
       "KKK                      0\n",
       "MOBI_REGIO               0\n",
       "ONLINE_AFFINITAET        0\n",
       "REGIOTYP                 0\n",
       "KBA13_ANZAHL_PKW         0\n",
       "PLZ8_ANTG1               0\n",
       "PLZ8_ANTG2               0\n",
       "PLZ8_ANTG3               0\n",
       "PLZ8_ANTG4               0\n",
       "PLZ8_BAUMAX              0\n",
       "PLZ8_HHZ                 0\n",
       "PLZ8_GBZ                 0\n",
       "ARBEIT                   0\n",
       "ORTSGR_KLS9              0\n",
       "RELAT_AB                 0\n",
       "Length: 79, dtype: int64"
      ]
     },
     "execution_count": 65,
     "metadata": {},
     "output_type": "execute_result"
    }
   ],
   "source": [
    "df_until_threshold.isnull().sum()"
   ]
  },
  {
   "cell_type": "markdown",
   "metadata": {},
   "source": [
    "### Step 1.2: Select and Re-Encode Features\n",
    "\n",
    "Checking for missing data isn't the only way in which you can prepare a dataset for analysis. Since the unsupervised learning techniques to be used will only work on data that is encoded numerically, you need to make a few encoding changes or additional assumptions to be able to make progress. In addition, while almost all of the values in the dataset are encoded using numbers, not all of them represent numeric values. Check the third column of the feature summary (`feat_info`) for a summary of types of measurement.\n",
    "- For numeric and interval data, these features can be kept without changes.\n",
    "- Most of the variables in the dataset are ordinal in nature. While ordinal values may technically be non-linear in spacing, make the simplifying assumption that the ordinal variables can be treated as being interval in nature (that is, kept without any changes).\n",
    "- Special handling may be necessary for the remaining two variable types: categorical, and 'mixed'.\n",
    "\n",
    "In the first two parts of this sub-step, you will perform an investigation of the categorical and mixed-type features and make a decision on each of them, whether you will keep, drop, or re-encode each. Then, in the last part, you will create a new data frame with only the selected and engineered columns.\n",
    "\n",
    "Data wrangling is often the trickiest part of the data analysis process, and there's a lot of it to be done here. But stick with it: once you're done with this step, you'll be ready to get to the machine learning parts of the project!"
   ]
  },
  {
   "cell_type": "code",
   "execution_count": 66,
   "metadata": {},
   "outputs": [
    {
     "data": {
      "text/plain": [
       "ordinal        49\n",
       "categorical    21\n",
       "mixed           7\n",
       "numeric         7\n",
       "interval        1\n",
       "Name: type, dtype: int64"
      ]
     },
     "execution_count": 66,
     "metadata": {},
     "output_type": "execute_result"
    }
   ],
   "source": [
    "# How many features are there of each data type?\n",
    "feat_info.type.value_counts()"
   ]
  },
  {
   "cell_type": "code",
   "execution_count": 67,
   "metadata": {},
   "outputs": [
    {
     "name": "stdout",
     "output_type": "stream",
     "text": [
      "azdias dataframe has 49 ordinal, 21 categorical, 7 mixed, 7 numeric and 1 interval type features\n"
     ]
    }
   ],
   "source": [
    "print(\"azdias dataframe has 49 ordinal, 21 categorical, 7 mixed, 7 numeric and 1 interval type features\")"
   ]
  },
  {
   "cell_type": "markdown",
   "metadata": {},
   "source": [
    "#### Step 1.2.1: Re-Encode Categorical Features\n",
    "\n",
    "For categorical data, you would ordinarily need to encode the levels as dummy variables. Depending on the number of categories, perform one of the following:\n",
    "- For binary (two-level) categoricals that take numeric values, you can keep them without needing to do anything.\n",
    "- There is one binary variable that takes on non-numeric values. For this one, you need to re-encode the values as numbers or create a dummy variable.\n",
    "- For multi-level categoricals (three or more values), you can choose to encode the values using multiple dummy variables (e.g. via [OneHotEncoder](http://scikit-learn.org/stable/modules/generated/sklearn.preprocessing.OneHotEncoder.html)), or (to keep things straightforward) just drop them from the analysis. As always, document your choices in the Discussion section."
   ]
  },
  {
   "cell_type": "code",
   "execution_count": 68,
   "metadata": {},
   "outputs": [],
   "source": [
    "# Assess categorical variables: which are binary, which are multi-level, and\n",
    "# which one needs to be re-encoded?\n",
    "\n",
    "def assess_categorical_features(df):\n",
    "    '''\n",
    "        Assess Categorical Features function finds binary and multi-level categorical variables.\n",
    "        It also finds which one required encoding or not.\n",
    "    '''\n",
    "    categorical_features = feat_info[feat_info.type == 'categorical']['attribute']\n",
    "    binary_categorical_numeric_encoded = []\n",
    "    binary_categorical_required_encoding = []\n",
    "    multi_level_required_encoding = []\n",
    "\n",
    "    for feature in categorical_features:\n",
    "        #print(feature)\n",
    "\n",
    "        #This check is requried because we have dropped few high missing values features \n",
    "        if feature in df.columns:\n",
    "            if len(df[feature].unique()) == 2:\n",
    "                if df[feature].dtype == 'object':\n",
    "                    binary_categorical_required_encoding.append(feature)\n",
    "                else:\n",
    "                    binary_categorical_numeric_encoded.append(feature)\n",
    "            else:\n",
    "                multi_level_required_encoding.append(feature)\n",
    "                \n",
    "    return binary_categorical_numeric_encoded, binary_categorical_required_encoding, multi_level_required_encoding\n"
   ]
  },
  {
   "cell_type": "code",
   "execution_count": 69,
   "metadata": {},
   "outputs": [],
   "source": [
    "binary_categorical_numeric_encoded, binary_categorical_required_encoding, multi_level_required_encoding = \\\n",
    "                                                                        assess_categorical_features(df_until_threshold)"
   ]
  },
  {
   "cell_type": "code",
   "execution_count": 70,
   "metadata": {},
   "outputs": [
    {
     "name": "stdout",
     "output_type": "stream",
     "text": [
      "We have 4 Binary Categorical features : already numerical encoded \n",
      "['ANREDE_KZ', 'GREEN_AVANTGARDE', 'SOHO_KZ', 'VERS_TYP']\n",
      "\n",
      "We have 1 Binary Categorical features: required numerical encoding \n",
      "['OST_WEST_KZ']\n",
      "\n",
      "We have 13 Multi-level Categorical fetures: required numerical encoding \n",
      "['CJT_GESAMTTYP', 'FINANZTYP', 'GFK_URLAUBERTYP', 'LP_FAMILIE_FEIN', 'LP_FAMILIE_GROB', 'LP_STATUS_FEIN', 'LP_STATUS_GROB', 'NATIONALITAET_KZ', 'SHOPPER_TYP', 'ZABEOTYP', 'GEBAEUDETYP', 'CAMEO_DEUG_2015', 'CAMEO_DEU_2015']\n"
     ]
    }
   ],
   "source": [
    "print(\"We have {} Binary Categorical features : already numerical encoded \"\n",
    "      .format(len(binary_categorical_numeric_encoded)))\n",
    "print(binary_categorical_numeric_encoded)\n",
    "\n",
    "print(\"\\nWe have {} Binary Categorical features: required numerical encoding \"\n",
    "      .format(len(binary_categorical_required_encoding)))\n",
    "print(binary_categorical_required_encoding)\n",
    "\n",
    "print(\"\\nWe have {} Multi-level Categorical fetures: required numerical encoding \"\n",
    "      .format(len(multi_level_required_encoding)))\n",
    "print(multi_level_required_encoding)"
   ]
  },
  {
   "cell_type": "code",
   "execution_count": null,
   "metadata": {},
   "outputs": [],
   "source": []
  },
  {
   "cell_type": "code",
   "execution_count": 71,
   "metadata": {},
   "outputs": [],
   "source": [
    "# Re-encode categorical variable(s) to be kept in the analysis.\n",
    "\n",
    "df_until_threshold = pd.get_dummies(data=df_until_threshold, columns=binary_categorical_required_encoding + multi_level_required_encoding)"
   ]
  },
  {
   "cell_type": "markdown",
   "metadata": {},
   "source": [
    "#### Discussion 1.2.1: Re-Encode Categorical Features\n",
    "\n",
    "  > Binary Categorical features:**Numerical Encoded**\n",
    "\n",
    "        There are four binary categorical features already numerical encoded present in the data.\n",
    "            'ANREDE_KZ'\n",
    "            'GREEN_AVANTGARDE'\n",
    "            'SOHO_KZ'\n",
    "            'VERS_TYP'\n",
    "            \n",
    "        There is one binary categorical feature requires numerical encoding.\n",
    "            OST_WEST_KZ\n",
    "            \n",
    "        There are 13 multi-level categorical features requires numerical encoding.\n",
    "            ['CJT_GESAMTTYP', \n",
    "            'FINANZTYP', \n",
    "            'GFK_URLAUBERTYP', \n",
    "            'LP_FAMILIE_FEIN', \n",
    "            'LP_FAMILIE_GROB', \n",
    "            'LP_STATUS_FEIN', \n",
    "            'LP_STATUS_GROB', \n",
    "            'NATIONALITAET_KZ', \n",
    "            'SHOPPER_TYP', \n",
    "            'ZABEOTYP', \n",
    "            'GEBAEUDETYP', \n",
    "            'CAMEO_DEUG_2015', \n",
    "            'CAMEO_DEU_2015']\n",
    "    \n",
    "    We are using pandas.get_dummies() function to convert categorical features to OneHotEncoding\n",
    "    "
   ]
  },
  {
   "cell_type": "markdown",
   "metadata": {},
   "source": [
    "#### Step 1.2.2: Engineer Mixed-Type Features\n",
    "\n",
    "There are a handful of features that are marked as \"mixed\" in the feature summary that require special treatment in order to be included in the analysis. There are two in particular that deserve attention; the handling of the rest are up to your own choices:\n",
    "- \"PRAEGENDE_JUGENDJAHRE\" combines information on three dimensions: generation by decade, movement (mainstream vs. avantgarde), and nation (east vs. west). While there aren't enough levels to disentangle east from west, you should create two new variables to capture the other two dimensions: an interval-type variable for decade, and a binary variable for movement.\n",
    "- \"CAMEO_INTL_2015\" combines information on two axes: wealth and life stage. Break up the two-digit codes by their 'tens'-place and 'ones'-place digits into two new ordinal variables (which, for the purposes of this project, is equivalent to just treating them as their raw numeric values).\n",
    "- If you decide to keep or engineer new features around the other mixed-type features, make sure you note your steps in the Discussion section.\n",
    "\n",
    "Be sure to check `Data_Dictionary.md` for the details needed to finish these tasks."
   ]
  },
  {
   "cell_type": "code",
   "execution_count": 72,
   "metadata": {},
   "outputs": [
    {
     "data": {
      "text/plain": [
       "<matplotlib.axes._subplots.AxesSubplot at 0x7ff239e287b8>"
      ]
     },
     "execution_count": 72,
     "metadata": {},
     "output_type": "execute_result"
    },
    {
     "data": {
      "image/png": "[encoded data removed]",
      "text/plain": [
       "<matplotlib.figure.Figure at 0x7ff23a554470>"
      ]
     },
     "metadata": {
      "needs_background": "light"
     },
     "output_type": "display_data"
    }
   ],
   "source": [
    "# Investigate \"PRAEGENDE_JUGENDJAHRE\" and engineer two new variables.\n",
    "sns.countplot(df_until_threshold['PRAEGENDE_JUGENDJAHRE'])"
   ]
  },
  {
   "cell_type": "code",
   "execution_count": 73,
   "metadata": {},
   "outputs": [],
   "source": [
    "def decade_feature(data):\n",
    "    if data in [-1, 0]:\n",
    "        return np.nan\n",
    "    elif data in [1, 2]:\n",
    "        return 40\n",
    "    elif data in [3, 4]:\n",
    "        return 50\n",
    "    elif data in [5, 6, 7]:\n",
    "        return 60\n",
    "    elif data in [8, 9]:\n",
    "        return 70\n",
    "    elif data in [10, 11, 12, 13]:\n",
    "        return 80\n",
    "    else: # [14, 15]\n",
    "        return 90"
   ]
  },
  {
   "cell_type": "code",
   "execution_count": 74,
   "metadata": {},
   "outputs": [],
   "source": [
    "def movement_feature(data):\n",
    "    if data in [-1, 0]:\n",
    "        return np.nan\n",
    "    \n",
    "    elif data in [1, 3, 5, 8, 10, 12, 14]:\n",
    "        # 0 for Mainstream\n",
    "        return 0 \n",
    "    else:\n",
    "        # 1 for Avantgarde\n",
    "        return 1"
   ]
  },
  {
   "cell_type": "code",
   "execution_count": 75,
   "metadata": {},
   "outputs": [],
   "source": [
    "df_until_threshold['PRAEGENDE_JUGENDJAHRE_DECADE'] = df_until_threshold.PRAEGENDE_JUGENDJAHRE.apply(decade_feature)\n",
    "\n",
    "df_until_threshold['PRAEGENDE_JUGENDJAHRE_MOVEMENT'] = df_until_threshold.PRAEGENDE_JUGENDJAHRE.apply(movement_feature)"
   ]
  },
  {
   "cell_type": "code",
   "execution_count": 76,
   "metadata": {},
   "outputs": [
    {
     "data": {
      "text/html": [
       "<div>\n",
       "<style>\n",
       "    .dataframe thead tr:only-child th {\n",
       "        text-align: right;\n",
       "    }\n",
       "\n",
       "    .dataframe thead th {\n",
       "        text-align: left;\n",
       "    }\n",
       "\n",
       "    .dataframe tbody tr th {\n",
       "        vertical-align: top;\n",
       "    }\n",
       "</style>\n",
       "<table border=\"1\" class=\"dataframe\">\n",
       "  <thead>\n",
       "    <tr style=\"text-align: right;\">\n",
       "      <th></th>\n",
       "      <th>PRAEGENDE_JUGENDJAHRE</th>\n",
       "      <th>PRAEGENDE_JUGENDJAHRE_DECADE</th>\n",
       "      <th>PRAEGENDE_JUGENDJAHRE_MOVEMENT</th>\n",
       "    </tr>\n",
       "  </thead>\n",
       "  <tbody>\n",
       "    <tr>\n",
       "      <th>1</th>\n",
       "      <td>14.0</td>\n",
       "      <td>90</td>\n",
       "      <td>0</td>\n",
       "    </tr>\n",
       "    <tr>\n",
       "      <th>2</th>\n",
       "      <td>15.0</td>\n",
       "      <td>90</td>\n",
       "      <td>1</td>\n",
       "    </tr>\n",
       "    <tr>\n",
       "      <th>3</th>\n",
       "      <td>8.0</td>\n",
       "      <td>70</td>\n",
       "      <td>0</td>\n",
       "    </tr>\n",
       "    <tr>\n",
       "      <th>4</th>\n",
       "      <td>8.0</td>\n",
       "      <td>70</td>\n",
       "      <td>0</td>\n",
       "    </tr>\n",
       "    <tr>\n",
       "      <th>5</th>\n",
       "      <td>3.0</td>\n",
       "      <td>50</td>\n",
       "      <td>0</td>\n",
       "    </tr>\n",
       "  </tbody>\n",
       "</table>\n",
       "</div>"
      ],
      "text/plain": [
       "   PRAEGENDE_JUGENDJAHRE  PRAEGENDE_JUGENDJAHRE_DECADE  \\\n",
       "1                   14.0                            90   \n",
       "2                   15.0                            90   \n",
       "3                    8.0                            70   \n",
       "4                    8.0                            70   \n",
       "5                    3.0                            50   \n",
       "\n",
       "   PRAEGENDE_JUGENDJAHRE_MOVEMENT  \n",
       "1                               0  \n",
       "2                               1  \n",
       "3                               0  \n",
       "4                               0  \n",
       "5                               0  "
      ]
     },
     "execution_count": 76,
     "metadata": {},
     "output_type": "execute_result"
    }
   ],
   "source": [
    "df_until_threshold[['PRAEGENDE_JUGENDJAHRE','PRAEGENDE_JUGENDJAHRE_DECADE', 'PRAEGENDE_JUGENDJAHRE_MOVEMENT' ]].head()"
   ]
  },
  {
   "cell_type": "code",
   "execution_count": 77,
   "metadata": {},
   "outputs": [
    {
     "data": {
      "text/plain": [
       "<matplotlib.axes._subplots.AxesSubplot at 0x7ff239defdd8>"
      ]
     },
     "execution_count": 77,
     "metadata": {},
     "output_type": "execute_result"
    },
    {
     "data": {
      "image/png": "[encoded data removed]",
      "text/plain": [
       "<matplotlib.figure.Figure at 0x7ff239b65a20>"
      ]
     },
     "metadata": {
      "needs_background": "light"
     },
     "output_type": "display_data"
    }
   ],
   "source": [
    "# Investigate \"CAMEO_INTL_2015\" and engineer two new variables.\n",
    "sns.countplot(df_until_threshold['CAMEO_INTL_2015'])"
   ]
  },
  {
   "cell_type": "code",
   "execution_count": 78,
   "metadata": {},
   "outputs": [],
   "source": [
    "df_until_threshold['CAMEO_INTL_2015'] = df_until_threshold['CAMEO_INTL_2015'].astype('int')\n",
    "df_until_threshold['CAMEO_INTL_2015_ONES'] = df_until_threshold['CAMEO_INTL_2015'].apply(lambda x: x%10)\n",
    "df_until_threshold['CAMEO_INTL_2015_TENS'] = df_until_threshold['CAMEO_INTL_2015'] - df_until_threshold['CAMEO_INTL_2015_ONES']\n"
   ]
  },
  {
   "cell_type": "code",
   "execution_count": 79,
   "metadata": {},
   "outputs": [
    {
     "data": {
      "text/html": [
       "<div>\n",
       "<style>\n",
       "    .dataframe thead tr:only-child th {\n",
       "        text-align: right;\n",
       "    }\n",
       "\n",
       "    .dataframe thead th {\n",
       "        text-align: left;\n",
       "    }\n",
       "\n",
       "    .dataframe tbody tr th {\n",
       "        vertical-align: top;\n",
       "    }\n",
       "</style>\n",
       "<table border=\"1\" class=\"dataframe\">\n",
       "  <thead>\n",
       "    <tr style=\"text-align: right;\">\n",
       "      <th></th>\n",
       "      <th>CAMEO_INTL_2015</th>\n",
       "      <th>CAMEO_INTL_2015_ONES</th>\n",
       "      <th>CAMEO_INTL_2015_TENS</th>\n",
       "    </tr>\n",
       "  </thead>\n",
       "  <tbody>\n",
       "    <tr>\n",
       "      <th>1</th>\n",
       "      <td>51</td>\n",
       "      <td>1</td>\n",
       "      <td>50</td>\n",
       "    </tr>\n",
       "    <tr>\n",
       "      <th>2</th>\n",
       "      <td>24</td>\n",
       "      <td>4</td>\n",
       "      <td>20</td>\n",
       "    </tr>\n",
       "    <tr>\n",
       "      <th>3</th>\n",
       "      <td>12</td>\n",
       "      <td>2</td>\n",
       "      <td>10</td>\n",
       "    </tr>\n",
       "    <tr>\n",
       "      <th>4</th>\n",
       "      <td>43</td>\n",
       "      <td>3</td>\n",
       "      <td>40</td>\n",
       "    </tr>\n",
       "    <tr>\n",
       "      <th>5</th>\n",
       "      <td>54</td>\n",
       "      <td>4</td>\n",
       "      <td>50</td>\n",
       "    </tr>\n",
       "  </tbody>\n",
       "</table>\n",
       "</div>"
      ],
      "text/plain": [
       "   CAMEO_INTL_2015  CAMEO_INTL_2015_ONES  CAMEO_INTL_2015_TENS\n",
       "1               51                     1                    50\n",
       "2               24                     4                    20\n",
       "3               12                     2                    10\n",
       "4               43                     3                    40\n",
       "5               54                     4                    50"
      ]
     },
     "execution_count": 79,
     "metadata": {},
     "output_type": "execute_result"
    }
   ],
   "source": [
    "df_until_threshold[['CAMEO_INTL_2015', 'CAMEO_INTL_2015_ONES', 'CAMEO_INTL_2015_TENS']].head()"
   ]
  },
  {
   "cell_type": "markdown",
   "metadata": {},
   "source": [
    "#### Discussion 1.2.2: Engineer Mixed-Type Features\n",
    "\n",
    " > **Engineering steps to handle Mixed-Type features ?**\n",
    "\n",
    "        PRAEGENDE_JUGENDJAHRE : Created two new features to capture the an interval-type variable for decade, and a binary variable for movement. \n",
    "        Written two different function decade_feature() and movement_feature() to achieve this. \n",
    "\n",
    "        CAMEO_INTL_2015 : Created two new features by break up the two-digit codes by their 'tens'-place and 'ones'-place digits into two new ordinal variables.\n",
    "        * First convert CAMEO_INTL_2015 from object to integer. \n",
    "        * Module by 10 to find the last digit ( Ones )\n",
    "        * Substract the original CAMEO_INTL_2015 with Ones to get the tens \n",
    "        \n",
    " > **Which ones to keep or drop ?**\n",
    " \n",
    "     In the current implementation, we are keeping all of the mixed-types features. Did not drop anyone except the PRAEGENDE_JUGENDJAHRE and CAMEO_INTL_2015, because we have created new features from these.\n",
    "     \n"
   ]
  },
  {
   "cell_type": "markdown",
   "metadata": {},
   "source": [
    "#### Step 1.2.3: Complete Feature Selection\n",
    "\n",
    "In order to finish this step up, you need to make sure that your data frame now only has the columns that you want to keep. To summarize, the dataframe should consist of the following:\n",
    "- All numeric, interval, and ordinal type columns from the original dataset.\n",
    "- Binary categorical features (all numerically-encoded).\n",
    "- Engineered features from other multi-level categorical features and mixed features.\n",
    "\n",
    "Make sure that for any new columns that you have engineered, that you've excluded the original columns from the final dataset. Otherwise, their values will interfere with the analysis later on the project. For example, you should not keep \"PRAEGENDE_JUGENDJAHRE\", since its values won't be useful for the algorithm: only the values derived from it in the engineered features you created should be retained. As a reminder, your data should only be from **the subset with few or no missing values**."
   ]
  },
  {
   "cell_type": "code",
   "execution_count": 80,
   "metadata": {},
   "outputs": [],
   "source": [
    "# If there are other re-engineering tasks you need to perform, make sure you\n",
    "# take care of them here. (Dealing with missing data will come in step 2.1.)\n",
    "\n"
   ]
  },
  {
   "cell_type": "code",
   "execution_count": 81,
   "metadata": {},
   "outputs": [],
   "source": [
    "# Do whatever you need to in order to ensure that the dataframe only contains\n",
    "# the columns that should be passed to the algorithm functions.\n",
    "\n",
    "df_until_threshold.drop(['PRAEGENDE_JUGENDJAHRE', 'CAMEO_INTL_2015'], \n",
    "                          axis=1,\n",
    "                          inplace=True)"
   ]
  },
  {
   "cell_type": "markdown",
   "metadata": {},
   "source": [
    "### Step 1.3: Create a Cleaning Function\n",
    "\n",
    "Even though you've finished cleaning up the general population demographics data, it's important to look ahead to the future and realize that you'll need to perform the same cleaning steps on the customer demographics data. In this substep, complete the function below to execute the main feature selection, encoding, and re-engineering steps you performed above. Then, when it comes to looking at the customer data in Step 3, you can just run this function on that DataFrame to get the trimmed dataset in a single step."
   ]
  },
  {
   "cell_type": "code",
   "execution_count": 82,
   "metadata": {},
   "outputs": [],
   "source": [
    "def clean_data(df):\n",
    "    \"\"\"\n",
    "    Perform feature trimming, re-encoding, and engineering for demographics\n",
    "    data\n",
    "    \n",
    "    INPUT: Demographics DataFrame\n",
    "    OUTPUT: Trimmed and cleaned demographics DataFrame\n",
    "    \"\"\"\n",
    "    \n",
    "    # Put in code here to execute all main cleaning steps:\n",
    "    # convert missing value codes into NaNs, ...\n",
    "    \n",
    "    #Get missing_value_codes from feat_info dataframe\n",
    "    missing_value_codes = feat_info.apply(get_missing_value_codes, axis=1)\n",
    "    \n",
    "    #convert missing_codes to NaN\n",
    "    df,_,_ = transform_missing_codes_to_nan(df, missing_value_codes)\n",
    "    \n",
    "    # remove selected columns and rows, ...\n",
    "    df = drop_outlier_features(df)\n",
    "    #print(\"Drop Outlier features: \",df.shape)\n",
    "    df_until_threshold, _ = divide_data_by_missing_threshold(df, 19)\n",
    "    #print(\"df_no_missing_values\",df_no_missing_values.shape)\n",
    "    \n",
    "    missing_columns = df_until_threshold.columns[ df_until_threshold.isnull().sum() > 0]\n",
    "    print(len(missing_columns))\n",
    "\n",
    "    for col in missing_columns:\n",
    "        most_freq = df_until_threshold[col].mode()[0]\n",
    "        df_until_threshold[col] = df_until_threshold[col].fillna(most_freq)\n",
    "    \n",
    "    # select, re-encode, and engineer column values.\n",
    "    _, binary_categorical_required_encoding, multi_level_required_encoding = assess_categorical_features(df_until_threshold)\n",
    "    df_until_threshold = pd.get_dummies(data=df_until_threshold, columns=binary_categorical_required_encoding + multi_level_required_encoding)\n",
    "    \n",
    "    \n",
    "    # Engineer columns\n",
    "    df_until_threshold['PRAEGENDE_JUGENDJAHRE_DECADE'] = df_until_threshold.PRAEGENDE_JUGENDJAHRE.apply(decade_feature)\n",
    "    df_until_threshold['PRAEGENDE_JUGENDJAHRE_MOVEMENT'] = df_until_threshold.PRAEGENDE_JUGENDJAHRE.apply(movement_feature)\n",
    "    \n",
    "    \n",
    "    df_until_threshold['CAMEO_INTL_2015'] = df_until_threshold['CAMEO_INTL_2015'].astype('int')\n",
    "    df_until_threshold['CAMEO_INTL_2015_ONES'] = df_until_threshold['CAMEO_INTL_2015'].apply(lambda x: x%10)\n",
    "    df_until_threshold['CAMEO_INTL_2015_TENS'] = df_until_threshold['CAMEO_INTL_2015'] - df_until_threshold['CAMEO_INTL_2015_ONES']\n",
    "\n",
    "    df_until_threshold.drop(['PRAEGENDE_JUGENDJAHRE', 'CAMEO_INTL_2015'], \n",
    "                          axis=1,\n",
    "                          inplace=True)\n",
    "    \n",
    "    # Return the cleaned dataframe.\n",
    "    return df_until_threshold\n",
    "    "
   ]
  },
  {
   "cell_type": "code",
   "execution_count": 83,
   "metadata": {},
   "outputs": [
    {
     "name": "stdout",
     "output_type": "stream",
     "text": [
      "Index(['AGER_TYP', 'GEBURTSJAHR', 'TITEL_KZ', 'ALTER_HH', 'KK_KUNDENTYP',\n",
      "       'KBA05_BAUMAX'],\n",
      "      dtype='object')\n",
      "46\n"
     ]
    },
    {
     "name": "stderr",
     "output_type": "stream",
     "text": [
      "/opt/conda/lib/python3.6/site-packages/ipykernel_launcher.py:30: SettingWithCopyWarning: \n",
      "A value is trying to be set on a copy of a slice from a DataFrame.\n",
      "Try using .loc[row_indexer,col_indexer] = value instead\n",
      "\n",
      "See the caveats in the documentation: http://pandas.pydata.org/pandas-docs/stable/indexing.html#indexing-view-versus-copy\n"
     ]
    }
   ],
   "source": [
    "df_transformed = clean_data(azdias)"
   ]
  },
  {
   "cell_type": "code",
   "execution_count": null,
   "metadata": {},
   "outputs": [],
   "source": []
  },
  {
   "cell_type": "code",
   "execution_count": null,
   "metadata": {},
   "outputs": [],
   "source": []
  },
  {
   "cell_type": "markdown",
   "metadata": {},
   "source": [
    "## Step 2: Feature Transformation\n",
    "\n",
    "### Step 2.1: Apply Feature Scaling\n",
    "\n",
    "Before we apply dimensionality reduction techniques to the data, we need to perform feature scaling so that the principal component vectors are not influenced by the natural differences in scale for features. Starting from this part of the project, you'll want to keep an eye on the [API reference page for sklearn](http://scikit-learn.org/stable/modules/classes.html) to help you navigate to all of the classes and functions that you'll need. In this substep, you'll need to check the following:\n",
    "\n",
    "- sklearn requires that data not have missing values in order for its estimators to work properly. So, before applying the scaler to your data, make sure that you've cleaned the DataFrame of the remaining missing values. This can be as simple as just removing all data points with missing data, or applying an [Imputer](http://scikit-learn.org/stable/modules/generated/sklearn.preprocessing.Imputer.html) to replace all missing values. You might also try a more complicated procedure where you temporarily remove missing values in order to compute the scaling parameters before re-introducing those missing values and applying imputation. Think about how much missing data you have and what possible effects each approach might have on your analysis, and justify your decision in the discussion section below.\n",
    "- For the actual scaling function, a [StandardScaler](http://scikit-learn.org/stable/modules/generated/sklearn.preprocessing.StandardScaler.html) instance is suggested, scaling each feature to mean 0 and standard deviation 1.\n",
    "- For these classes, you can make use of the `.fit_transform()` method to both fit a procedure to the data as well as apply the transformation to the data at the same time. Don't forget to keep the fit sklearn objects handy, since you'll be applying them to the customer demographics data towards the end of the project."
   ]
  },
  {
   "cell_type": "code",
   "execution_count": 84,
   "metadata": {},
   "outputs": [
    {
     "data": {
      "text/plain": [
       "ALTERSKATEGORIE_GROB              0\n",
       "ANREDE_KZ                         0\n",
       "FINANZ_MINIMALIST                 0\n",
       "FINANZ_SPARER                     0\n",
       "FINANZ_VORSORGER                  0\n",
       "FINANZ_ANLEGER                    0\n",
       "FINANZ_UNAUFFAELLIGER             0\n",
       "FINANZ_HAUSBAUER                  0\n",
       "GREEN_AVANTGARDE                  0\n",
       "HEALTH_TYP                        0\n",
       "LP_LEBENSPHASE_FEIN               0\n",
       "LP_LEBENSPHASE_GROB               0\n",
       "RETOURTYP_BK_S                    0\n",
       "SEMIO_SOZ                         0\n",
       "SEMIO_FAM                         0\n",
       "SEMIO_REL                         0\n",
       "SEMIO_MAT                         0\n",
       "SEMIO_VERT                        0\n",
       "SEMIO_LUST                        0\n",
       "SEMIO_ERL                         0\n",
       "SEMIO_KULT                        0\n",
       "SEMIO_RAT                         0\n",
       "SEMIO_KRIT                        0\n",
       "SEMIO_DOM                         0\n",
       "SEMIO_KAEM                        0\n",
       "SEMIO_PFLICHT                     0\n",
       "SEMIO_TRADV                       0\n",
       "SOHO_KZ                           0\n",
       "VERS_TYP                          0\n",
       "ANZ_PERSONEN                      0\n",
       "                                 ..\n",
       "CAMEO_DEU_2015_5A                 0\n",
       "CAMEO_DEU_2015_5B                 0\n",
       "CAMEO_DEU_2015_5C                 0\n",
       "CAMEO_DEU_2015_5D                 0\n",
       "CAMEO_DEU_2015_5E                 0\n",
       "CAMEO_DEU_2015_5F                 0\n",
       "CAMEO_DEU_2015_6A                 0\n",
       "CAMEO_DEU_2015_6B                 0\n",
       "CAMEO_DEU_2015_6C                 0\n",
       "CAMEO_DEU_2015_6D                 0\n",
       "CAMEO_DEU_2015_6E                 0\n",
       "CAMEO_DEU_2015_6F                 0\n",
       "CAMEO_DEU_2015_7A                 0\n",
       "CAMEO_DEU_2015_7B                 0\n",
       "CAMEO_DEU_2015_7C                 0\n",
       "CAMEO_DEU_2015_7D                 0\n",
       "CAMEO_DEU_2015_7E                 0\n",
       "CAMEO_DEU_2015_8A                 0\n",
       "CAMEO_DEU_2015_8B                 0\n",
       "CAMEO_DEU_2015_8C                 0\n",
       "CAMEO_DEU_2015_8D                 0\n",
       "CAMEO_DEU_2015_9A                 0\n",
       "CAMEO_DEU_2015_9B                 0\n",
       "CAMEO_DEU_2015_9C                 0\n",
       "CAMEO_DEU_2015_9D                 0\n",
       "CAMEO_DEU_2015_9E                 0\n",
       "PRAEGENDE_JUGENDJAHRE_DECADE      0\n",
       "PRAEGENDE_JUGENDJAHRE_MOVEMENT    0\n",
       "CAMEO_INTL_2015_ONES              0\n",
       "CAMEO_INTL_2015_TENS              0\n",
       "Length: 197, dtype: int64"
      ]
     },
     "execution_count": 84,
     "metadata": {},
     "output_type": "execute_result"
    }
   ],
   "source": [
    "# If you've not yet cleaned the dataset of all NaN values, then investigate and\n",
    "# do that now.\n",
    "\n",
    "df_transformed.isnull().sum()"
   ]
  },
  {
   "cell_type": "code",
   "execution_count": 85,
   "metadata": {},
   "outputs": [],
   "source": [
    "# Apply feature scaling to the general population demographics data.\n",
    "\n",
    "st = StandardScaler()\n",
    "df_scaled = st.fit_transform(df_transformed)"
   ]
  },
  {
   "cell_type": "code",
   "execution_count": 86,
   "metadata": {},
   "outputs": [
    {
     "data": {
      "text/plain": [
       "array([[-1.76617279,  0.95812115, -1.49446342, ..., -0.53065411,\n",
       "        -1.24936851,  1.17585671],\n",
       "       [ 0.20073336,  0.95812115, -1.49446342, ...,  1.88446671,\n",
       "         0.76669146, -0.86959024],\n",
       "       [ 1.18418644,  0.95812115,  0.68328531, ..., -0.53065411,\n",
       "        -0.57734852, -1.55140589],\n",
       "       ..., \n",
       "       [-0.78271971,  0.95812115, -0.76854718, ..., -0.53065411,\n",
       "         0.76669146, -0.86959024],\n",
       "       [-1.76617279, -1.04370935, -1.49446342, ..., -0.53065411,\n",
       "        -1.24936851,  1.17585671],\n",
       "       [ 1.18418644, -1.04370935,  0.68328531, ..., -0.53065411,\n",
       "         0.09467147,  0.49404106]])"
      ]
     },
     "execution_count": 86,
     "metadata": {},
     "output_type": "execute_result"
    }
   ],
   "source": [
    "df_scaled"
   ]
  },
  {
   "cell_type": "code",
   "execution_count": 90,
   "metadata": {},
   "outputs": [
    {
     "name": "stdout",
     "output_type": "stream",
     "text": [
      "Mean after standard scaling :  0.0\n",
      "Standard Deviation after standard scaling:  1.0\n"
     ]
    }
   ],
   "source": [
    "print(\"Mean after standard scaling : \", np.mean(df_scaled[:,1]).round(3))\n",
    "print(\"Standard Deviation after standard scaling: \",np.std(df_scaled[:,1]))"
   ]
  },
  {
   "cell_type": "markdown",
   "metadata": {},
   "source": [
    "### Discussion 2.1: Apply Feature Scaling\n",
    "\n",
    "### StandardScaler:\n",
    "        Standardize the features by removing the mean and scaling to unit variance.\n",
    "        \n",
    "        Steps:\n",
    "            * Get the clean dataset\n",
    "            * instantiate StandardScaler\n",
    "            * Fit and Transform the data\n",
    "        \n",
    "\n",
    "        As we can see from the df_scaled output above, StandardScaler changed the scale of the original dataframe.\n",
    "        The converted feature has 0 mean and 1 std as expected.\n",
    "        \n"
   ]
  },
  {
   "cell_type": "markdown",
   "metadata": {},
   "source": [
    "### Step 2.2: Perform Dimensionality Reduction\n",
    "\n",
    "On your scaled data, you are now ready to apply dimensionality reduction techniques.\n",
    "\n",
    "- Use sklearn's [PCA](http://scikit-learn.org/stable/modules/generated/sklearn.decomposition.PCA.html) class to apply principal component analysis on the data, thus finding the vectors of maximal variance in the data. To start, you should not set any parameters (so all components are computed) or set a number of components that is at least half the number of features (so there's enough features to see the general trend in variability).\n",
    "- Check out the ratio of variance explained by each principal component as well as the cumulative variance explained. Try plotting the cumulative or sequential values using matplotlib's [`plot()`](https://matplotlib.org/api/_as_gen/matplotlib.pyplot.plot.html) function. Based on what you find, select a value for the number of transformed features you'll retain for the clustering part of the project.\n",
    "- Once you've made a choice for the number of components to keep, make sure you re-fit a PCA instance to perform the decided-on transformation."
   ]
  },
  {
   "cell_type": "code",
   "execution_count": 91,
   "metadata": {},
   "outputs": [
    {
     "data": {
      "text/plain": [
       "PCA(copy=True, iterated_power='auto', n_components=None, random_state=None,\n",
       "  svd_solver='auto', tol=0.0, whiten=False)"
      ]
     },
     "execution_count": 91,
     "metadata": {},
     "output_type": "execute_result"
    }
   ],
   "source": [
    "# Apply PCA to the data.\n",
    "pca = PCA()\n",
    "pca.fit(df_scaled)"
   ]
  },
  {
   "cell_type": "code",
   "execution_count": null,
   "metadata": {},
   "outputs": [],
   "source": []
  },
  {
   "cell_type": "code",
   "execution_count": 92,
   "metadata": {},
   "outputs": [
    {
     "name": "stdout",
     "output_type": "stream",
     "text": [
      "(797077, 197)\n",
      "(197, 197)\n"
     ]
    }
   ],
   "source": [
    "print(df_scaled.shape)\n",
    "print(pca.components_.shape)\n"
   ]
  },
  {
   "cell_type": "code",
   "execution_count": 93,
   "metadata": {},
   "outputs": [],
   "source": [
    "pca_index = np.arange(0,len(pca.components_),1)"
   ]
  },
  {
   "cell_type": "code",
   "execution_count": 94,
   "metadata": {},
   "outputs": [
    {
     "data": {
      "text/plain": [
       "<matplotlib.legend.Legend at 0x7ff239e8b470>"
      ]
     },
     "execution_count": 94,
     "metadata": {},
     "output_type": "execute_result"
    },
    {
     "data": {
      "image/png": "[encoded data removed]",
      "text/plain": [
       "<matplotlib.figure.Figure at 0x7ff239b260b8>"
      ]
     },
     "metadata": {
      "needs_background": "light"
     },
     "output_type": "display_data"
    }
   ],
   "source": [
    "# Investigate the variance accounted for by each principal component.\n",
    "plt.figure(figsize=(15,7))\n",
    "plt.yticks(np.arange(0, 2, 0.1))\n",
    "plt.title(\"Explained Variance vs Principal Component\")\n",
    "plt.plot(pca.explained_variance_ratio_.cumsum(), label = 'explained_variance cumsum', color='red')\n",
    "plt.bar(pca_index, pca.explained_variance_ratio_, color = 'green', label='explained_variance')\n",
    "plt.legend(loc='upper left')"
   ]
  },
  {
   "cell_type": "code",
   "execution_count": 95,
   "metadata": {},
   "outputs": [
    {
     "data": {
      "text/plain": [
       "(797077, 197)"
      ]
     },
     "execution_count": 95,
     "metadata": {},
     "output_type": "execute_result"
    }
   ],
   "source": [
    "df_scaled.shape"
   ]
  },
  {
   "cell_type": "code",
   "execution_count": 96,
   "metadata": {},
   "outputs": [],
   "source": [
    "# Re-apply PCA to the data while selecting for number of components to retain.\n",
    "pca = PCA(n_components=25)\n",
    "X_pca = pca.fit_transform(df_scaled)"
   ]
  },
  {
   "cell_type": "markdown",
   "metadata": {},
   "source": [
    "### Discussion 2.2: Perform Dimensionality Reduction\n",
    "\n",
    " > **PCA Findings ?**\n",
    " \n",
    "         Above plot shows two differnet plots. Red one is the cumulative sum of explained variance ratio and green one is the explained variance ratio by each principal component.\n",
    "         \n",
    "         From the above plot it is very clear that highest variance explaine by the First PC is approx 0.09.Then it started reducing.\n",
    "         Almost 50% variance has explained by first 25 Principal Components. Other Prinicipal Components are doing minor contribution that makes the Cumulative sum close to 1.\n",
    "         \n",
    "         In the current implementation, going with first 25 Principal Components, this also covers the good 50% variance of the data for the next step of analysis.\n",
    "         "
   ]
  },
  {
   "cell_type": "markdown",
   "metadata": {},
   "source": [
    "### Step 2.3: Interpret Principal Components\n",
    "\n",
    "Now that we have our transformed principal components, it's a nice idea to check out the weight of each variable on the first few components to see if they can be interpreted in some fashion.\n",
    "\n",
    "As a reminder, each principal component is a unit vector that points in the direction of highest variance (after accounting for the variance captured by earlier principal components). The further a weight is from zero, the more the principal component is in the direction of the corresponding feature. If two features have large weights of the same sign (both positive or both negative), then increases in one tend expect to be associated with increases in the other. To contrast, features with different signs can be expected to show a negative correlation: increases in one variable should result in a decrease in the other.\n",
    "\n",
    "- To investigate the features, you should map each weight to their corresponding feature name, then sort the features according to weight. The most interesting features for each principal component, then, will be those at the beginning and end of the sorted list. Use the data dictionary document to help you understand these most prominent features, their relationships, and what a positive or negative value on the principal component might indicate.\n",
    "- You should investigate and interpret feature associations from the first three principal components in this substep. To help facilitate this, you should write a function that you can call at any time to print the sorted list of feature weights, for the *i*-th principal component. This might come in handy in the next step of the project, when you interpret the tendencies of the discovered clusters."
   ]
  },
  {
   "cell_type": "code",
   "execution_count": 97,
   "metadata": {},
   "outputs": [
    {
     "data": {
      "text/plain": [
       "(797077, 197)"
      ]
     },
     "execution_count": 97,
     "metadata": {},
     "output_type": "execute_result"
    }
   ],
   "source": [
    "df_scaled.shape"
   ]
  },
  {
   "cell_type": "code",
   "execution_count": 98,
   "metadata": {},
   "outputs": [
    {
     "name": "stdout",
     "output_type": "stream",
     "text": [
      "(25, 197)\n",
      "(797077, 25)\n"
     ]
    }
   ],
   "source": [
    "print(pca.components_.shape)\n",
    "print(X_pca.shape)"
   ]
  },
  {
   "cell_type": "code",
   "execution_count": 99,
   "metadata": {},
   "outputs": [
    {
     "data": {
      "text/plain": [
       "Index(['ALTERSKATEGORIE_GROB', 'ANREDE_KZ', 'FINANZ_MINIMALIST',\n",
       "       'FINANZ_SPARER', 'FINANZ_VORSORGER', 'FINANZ_ANLEGER',\n",
       "       'FINANZ_UNAUFFAELLIGER', 'FINANZ_HAUSBAUER', 'GREEN_AVANTGARDE',\n",
       "       'HEALTH_TYP',\n",
       "       ...\n",
       "       'CAMEO_DEU_2015_8D', 'CAMEO_DEU_2015_9A', 'CAMEO_DEU_2015_9B',\n",
       "       'CAMEO_DEU_2015_9C', 'CAMEO_DEU_2015_9D', 'CAMEO_DEU_2015_9E',\n",
       "       'PRAEGENDE_JUGENDJAHRE_DECADE', 'PRAEGENDE_JUGENDJAHRE_MOVEMENT',\n",
       "       'CAMEO_INTL_2015_ONES', 'CAMEO_INTL_2015_TENS'],\n",
       "      dtype='object', length=197)"
      ]
     },
     "execution_count": 99,
     "metadata": {},
     "output_type": "execute_result"
    }
   ],
   "source": [
    "df_transformed.columns"
   ]
  },
  {
   "cell_type": "code",
   "execution_count": 100,
   "metadata": {},
   "outputs": [],
   "source": [
    "#cols = [ 'f_'+str(i) for i in range(1,df_scaled.shape[1]+1)]\n",
    "cols = list(df_transformed.columns)"
   ]
  },
  {
   "cell_type": "code",
   "execution_count": 101,
   "metadata": {},
   "outputs": [
    {
     "data": {
      "text/plain": [
       "(197,)"
      ]
     },
     "execution_count": 101,
     "metadata": {},
     "output_type": "execute_result"
    }
   ],
   "source": [
    "pca.components_[0].shape"
   ]
  },
  {
   "cell_type": "code",
   "execution_count": 102,
   "metadata": {},
   "outputs": [],
   "source": [
    "def pos_foo(data):\n",
    "    #print(\"foo\",data.values[0])\n",
    "    if data.values[0] < 0:\n",
    "        #print(\"if\")\n",
    "        return 0\n",
    "    else:\n",
    "        #print(\"else\")\n",
    "        return data.values[0]\n",
    "    \n",
    "def neg_foo(data):\n",
    "    #print(\"foo\",data.values[0])\n",
    "    if data.values[0] > 0:\n",
    "        #print(\"if\")\n",
    "        return 0\n",
    "    else:\n",
    "        #print(\"else\")\n",
    "        return data.values[0]\n"
   ]
  },
  {
   "cell_type": "code",
   "execution_count": 103,
   "metadata": {},
   "outputs": [],
   "source": [
    "def pca_results(pca, features, selected_components, top_features = 20):\n",
    "    '''\n",
    "        Visualizes the PCA results\n",
    "        Includes dimension feature weights and explained variance\n",
    "        Input:\n",
    "            pca\n",
    "            features\n",
    "            selected_components : Principal Component which we want to visualize\n",
    "            top_features : selecting top positive and negative weights features to visualize\n",
    "    '''\n",
    "    \n",
    "    #selected_components = 2\n",
    "    #top_features = 20\n",
    "    \n",
    "    # PCA components\n",
    "    components = pd.DataFrame(np.round(pca.components_[selected_components-1].reshape(1,-1), 4), columns = features)\n",
    "    #components.index = dimensions\n",
    "\n",
    "    print(components.shape)\n",
    "\n",
    "    positive_components = components.apply(pos_foo, axis=0)\n",
    "    neg_components = components.apply(neg_foo, axis=0)\n",
    "\n",
    "    pos_labels = positive_components[positive_components.apply(lambda x: x > 0)]\n",
    "    neg_labels = neg_components[neg_components.apply(lambda x: x > 0)]\n",
    "    \n",
    "    # Create a bar plot visualization\n",
    "    fig, ax = plt.subplots(figsize = (20,8))\n",
    "\n",
    "    # Plot the feature weights as a function of the components\n",
    "    tmp_pos = pd.DataFrame(positive_components.values.reshape(1,-1), columns=positive_components.index)\n",
    "    tmp_pos.sort_values(by=0, axis=1, inplace=True, ascending=False)\n",
    "\n",
    "    tmp_neg = pd.DataFrame(neg_components.values.reshape(1,-1), columns=neg_components.index)\n",
    "    tmp_neg.sort_values(by=0, axis=1, inplace=True, ascending=True)\n",
    "    \n",
    "    top_pos_features = tmp_pos.columns[:top_features]\n",
    "    top_neg_features = tmp_neg.columns[:top_features]\n",
    "    \n",
    "    \n",
    "    \n",
    "    tmp_pos[top_pos_features].plot(ax = ax, kind = 'bar', color = 'green');\n",
    "    tmp_neg[top_neg_features].plot(ax = ax, kind = 'bar', color='red');\n",
    "    \n",
    "    ax.set_ylabel(\"Feature Weights\")\n",
    "    ax.set_xticklabels([\"Principal Component : \"+str(selected_components)], rotation=0)\n",
    "\n",
    "    # Display the explained variance ratios\n",
    "    for i, ev in enumerate(pca.explained_variance_ratio_[selected_components-1].reshape(1,-1)):\n",
    "        ax.text(i-0.40, ax.get_ylim()[1] + 0.05, \"Explained Variance\\n          %.4f\"%(ev))\n"
   ]
  },
  {
   "cell_type": "code",
   "execution_count": 104,
   "metadata": {},
   "outputs": [],
   "source": [
    "def analyse_principal_component(pca, component, features):\n",
    "    '''\n",
    "        analyse_principal_component function maps the weight for the principal component to corresponding feature names.\n",
    "        Input: pca object, component , features \n",
    "        Output: list of feature names and weights \n",
    "    '''\n",
    "    weights = pca.components_[component]\n",
    "    return [ (features[i], weights[i] ) for i in np.argsort(weights)[::-1] ]\n"
   ]
  },
  {
   "cell_type": "code",
   "execution_count": 105,
   "metadata": {},
   "outputs": [
    {
     "data": {
      "text/plain": [
       "[('LP_STATUS_GROB_1.0', 0.18887109934454302),\n",
       " ('HH_EINKOMMEN_SCORE', 0.17999197862095631),\n",
       " ('CAMEO_INTL_2015_TENS', 0.17856713358937495),\n",
       " ('PLZ8_ANTG3', 0.17815411438969919),\n",
       " ('PLZ8_ANTG4', 0.17282696020612018),\n",
       " ('PLZ8_BAUMAX', 0.16985164155556629),\n",
       " ('ORTSGR_KLS9', 0.15246012146806046),\n",
       " ('EWDICHTE', 0.15033885784835405),\n",
       " ('FINANZ_HAUSBAUER', 0.14722107574157633),\n",
       " ('KBA05_ANTG4', 0.12651061477660852),\n",
       " ('LP_STATUS_FEIN_1.0', 0.1252129963032651),\n",
       " ('PLZ8_ANTG2', 0.12182642552933941),\n",
       " ('KBA05_ANTG3', 0.11369699288839806),\n",
       " ('ANZ_HAUSHALTE_AKTIV', 0.11352041834655033),\n",
       " ('ARBEIT', 0.11196691901686956),\n",
       " ('CAMEO_DEUG_2015_9', 0.11020006480747746),\n",
       " ('LP_STATUS_FEIN_2.0', 0.10808119949919558),\n",
       " ('RELAT_AB', 0.10476520434975052),\n",
       " ('LP_FAMILIE_GROB_1.0', 0.10389133930576935),\n",
       " ('LP_FAMILIE_FEIN_1.0', 0.10389133930576935),\n",
       " ('FINANZTYP_1', 0.10332618429932473),\n",
       " ('FINANZ_SPARER', 0.10182919624343453),\n",
       " ('CAMEO_DEUG_2015_8', 0.087841121845965028),\n",
       " ('SEMIO_PFLICHT', 0.072137360949892218),\n",
       " ('ZABEOTYP_5', 0.071868398083143131),\n",
       " ('SEMIO_REL', 0.068633456745095259),\n",
       " ('GEBAEUDETYP_3.0', 0.066441285081895868),\n",
       " ('PRAEGENDE_JUGENDJAHRE_DECADE', 0.065710416883155501),\n",
       " ('CAMEO_DEU_2015_8A', 0.060977111462192486),\n",
       " ('W_KEIT_KIND_HH', 0.060492791475988586),\n",
       " ('SEMIO_RAT', 0.05945474194720847),\n",
       " ('GFK_URLAUBERTYP_12.0', 0.05764796902805594),\n",
       " ('CAMEO_DEU_2015_9C', 0.056888389289395665),\n",
       " ('CAMEO_DEU_2015_9D', 0.055902294783240783),\n",
       " ('CAMEO_DEU_2015_9B', 0.055857163079740577),\n",
       " ('SEMIO_TRADV', 0.049412515147702972),\n",
       " ('SEMIO_MAT', 0.048789662918868763),\n",
       " ('REGIOTYP', 0.047113758154068271),\n",
       " ('SEMIO_FAM', 0.046634248858596676),\n",
       " ('FINANZ_ANLEGER', 0.044447396509060565),\n",
       " ('OST_WEST_KZ_O', 0.044297779358511098),\n",
       " ('GEBAEUDETYP_8.0', 0.042560076732187223),\n",
       " ('NATIONALITAET_KZ_2.0', 0.042545571174555458),\n",
       " ('CAMEO_DEU_2015_8B', 0.0421811945699593),\n",
       " ('FINANZ_UNAUFFAELLIGER', 0.0420306869309807),\n",
       " ('ZABEOTYP_6', 0.039503572679337809),\n",
       " ('SEMIO_KAEM', 0.037935008062107221),\n",
       " ('SEMIO_KULT', 0.037876710030190774),\n",
       " ('CAMEO_DEU_2015_9A', 0.035396244247604174),\n",
       " ('PLZ8_HHZ', 0.034716853170749878),\n",
       " ('CAMEO_DEUG_2015_7', 0.033536567678269562),\n",
       " ('CAMEO_DEU_2015_8C', 0.032409938262328818),\n",
       " ('KKK', 0.03201223474781846),\n",
       " ('SHOPPER_TYP_2.0', 0.031867486695841621),\n",
       " ('HEALTH_TYP', 0.02931551988748074),\n",
       " ('VERS_TYP', 0.029305617627579456),\n",
       " ('ZABEOTYP_4', 0.02915160702617179),\n",
       " ('ANZ_HH_TITEL', 0.027190852858027765),\n",
       " ('CAMEO_DEU_2015_7B', 0.026650158823814957),\n",
       " ('CAMEO_DEU_2015_8D', 0.025942336087381963),\n",
       " ('SEMIO_DOM', 0.023775749264584256),\n",
       " ('GFK_URLAUBERTYP_11.0', 0.023453858848937394),\n",
       " ('NATIONALITAET_KZ_3.0', 0.022744701380500141),\n",
       " ('SEMIO_SOZ', 0.022065467199267774),\n",
       " ('SEMIO_KRIT', 0.018201747588845466),\n",
       " ('CAMEO_DEU_2015_9E', 0.017936882054993383),\n",
       " ('KBA05_ANTG2', 0.016436827999347522),\n",
       " ('CJT_GESAMTTYP_4.0', 0.016430454029156605),\n",
       " ('CAMEO_DEU_2015_7C', 0.015962405895350123),\n",
       " ('GFK_URLAUBERTYP_4.0', 0.015553434629907572),\n",
       " ('LP_STATUS_FEIN_3.0', 0.014884620759874442),\n",
       " ('SHOPPER_TYP_1.0', 0.014337672236519397),\n",
       " ('CJT_GESAMTTYP_3.0', 0.014292617293479431),\n",
       " ('ANREDE_KZ', 0.013810873619586364),\n",
       " ('CAMEO_DEU_2015_7A', 0.012467569983550973),\n",
       " ('CAMEO_DEU_2015_7D', 0.01159965774031621),\n",
       " ('CAMEO_DEU_2015_6E', 0.011427969770559704),\n",
       " ('CJT_GESAMTTYP_6.0', 0.010140027470125592),\n",
       " ('FINANZTYP_5', 0.0094598844940427442),\n",
       " ('CAMEO_DEU_2015_5D', 0.0073920210430988243),\n",
       " ('CAMEO_DEU_2015_6A', 0.0056940098868436349),\n",
       " ('CJT_GESAMTTYP_5.0', 0.0056314074905788004),\n",
       " ('GFK_URLAUBERTYP_8.0', 0.0043990895378490267),\n",
       " ('FINANZTYP_4', 0.0038716864812132121),\n",
       " ('LP_FAMILIE_FEIN_3.0', 0.0038334805840789287),\n",
       " ('LP_FAMILIE_FEIN_4.0', 0.0027346995532309226),\n",
       " ('CAMEO_DEU_2015_6F', 0.0026575895814642046),\n",
       " ('CAMEO_DEU_2015_7E', 0.0024854137593554033),\n",
       " ('CAMEO_DEUG_2015_6', 0.0022700448598141302),\n",
       " ('CAMEO_DEU_2015_5A', 0.0020394395735568714),\n",
       " ('CAMEO_DEU_2015_6C', 0.0017331222370104129),\n",
       " ('LP_FAMILIE_GROB_3.0', 0.0012085073254513082),\n",
       " ('CAMEO_DEU_2015_6D', 0.00091279085745620599),\n",
       " ('GEBAEUDETYP_5.0', 0.00035665981199028626),\n",
       " ('CAMEO_DEU_2015_5E', -0.0014738225774825471),\n",
       " ('RETOURTYP_BK_S', -0.001957209509232791),\n",
       " ('SOHO_KZ', -0.0024419384652109499),\n",
       " ('ZABEOTYP_3', -0.0024974572515988175),\n",
       " ('GEBAEUDETYP_6.0', -0.0025042554768000525),\n",
       " ('GFK_URLAUBERTYP_10.0', -0.0028620404884199158),\n",
       " ('LP_FAMILIE_FEIN_5.0', -0.0034021437466425861),\n",
       " ('GEBAEUDETYP_4.0', -0.0041356836203106963),\n",
       " ('ANZ_TITEL', -0.0047297924840502608),\n",
       " ('CAMEO_DEU_2015_5F', -0.0059233797387303897),\n",
       " ('GFK_URLAUBERTYP_9.0', -0.0075658511394026771),\n",
       " ('CAMEO_DEU_2015_6B', -0.007757694315604963),\n",
       " ('LP_FAMILIE_FEIN_9.0', -0.0077838058478713586),\n",
       " ('LP_FAMILIE_FEIN_6.0', -0.0077899918426258246),\n",
       " ('CAMEO_DEUG_2015_5', -0.0093457727171127845),\n",
       " ('CAMEO_DEU_2015_4E', -0.011268927523577337),\n",
       " ('GFK_URLAUBERTYP_3.0', -0.011603039585475289),\n",
       " ('CAMEO_DEU_2015_1C', -0.011750721038017818),\n",
       " ('CJT_GESAMTTYP_1.0', -0.011805767400921922),\n",
       " ('CAMEO_DEU_2015_1B', -0.012248222331929888),\n",
       " ('LP_STATUS_FEIN_7.0', -0.012820078160378643),\n",
       " ('LP_STATUS_GROB_2.0', -0.013294643684858649),\n",
       " ('CAMEO_DEU_2015_5C', -0.013314125538502978),\n",
       " ('GEBAEUDETYP_2.0', -0.013491968787516405),\n",
       " ('CAMEO_DEU_2015_4D', -0.014106901360598714),\n",
       " ('CAMEO_DEU_2015_5B', -0.014289549810871594),\n",
       " ('CAMEO_DEU_2015_1E', -0.01611293101219697),\n",
       " ('GFK_URLAUBERTYP_1.0', -0.016741860911118414),\n",
       " ('LP_STATUS_FEIN_8.0', -0.016943575641203051),\n",
       " ('CAMEO_DEU_2015_1A', -0.017039090303700325),\n",
       " ('LP_STATUS_FEIN_4.0', -0.018755507491000564),\n",
       " ('LP_FAMILIE_FEIN_7.0', -0.019055650839146929),\n",
       " ('GFK_URLAUBERTYP_2.0', -0.020089990093899213),\n",
       " ('CAMEO_DEU_2015_4B', -0.020464516017668639),\n",
       " ('SHOPPER_TYP_0.0', -0.021777238389795516),\n",
       " ('LP_STATUS_FEIN_5.0', -0.022974067169107354),\n",
       " ('GFK_URLAUBERTYP_5.0', -0.024169600272284989),\n",
       " ('LP_STATUS_FEIN_6.0', -0.024795117753093756),\n",
       " ('CAMEO_DEU_2015_3A', -0.025147591404513912),\n",
       " ('FINANZTYP_6', -0.025637596653807083),\n",
       " ('GFK_URLAUBERTYP_6.0', -0.026558491942360162),\n",
       " ('CAMEO_DEU_2015_3B', -0.026587550168191997),\n",
       " ('LP_STATUS_GROB_3.0', -0.028143693242222226),\n",
       " ('LP_FAMILIE_GROB_2.0', -0.028249132022978581),\n",
       " ('LP_FAMILIE_FEIN_2.0', -0.028249132022978581),\n",
       " ('LP_FAMILIE_FEIN_8.0', -0.029119674468106663),\n",
       " ('SHOPPER_TYP_3.0', -0.030669453728559462),\n",
       " ('CAMEO_DEU_2015_3C', -0.032919793065509066),\n",
       " ('LP_FAMILIE_GROB_4.0', -0.03508771674500543),\n",
       " ('GFK_URLAUBERTYP_7.0', -0.035895285599202777),\n",
       " ('CAMEO_DEU_2015_2B', -0.036150445929393989),\n",
       " ('CAMEO_DEU_2015_2A', -0.036423245084950179),\n",
       " ('CAMEO_DEU_2015_1D', -0.037074582347385913),\n",
       " ('CJT_GESAMTTYP_2.0', -0.0373054774463423),\n",
       " ('CAMEO_DEU_2015_3D', -0.038071161740333322),\n",
       " ('SEMIO_ERL', -0.039854350497070916),\n",
       " ('SEMIO_VERT', -0.040629973560298092),\n",
       " ('SEMIO_LUST', -0.042048485162438365),\n",
       " ('CAMEO_DEU_2015_4A', -0.043969447551486525),\n",
       " ('OST_WEST_KZ_W', -0.044297779358511098),\n",
       " ('CAMEO_DEU_2015_2C', -0.044605467728677788),\n",
       " ('MIN_GEBAEUDEJAHR', -0.04486615217597472),\n",
       " ('CAMEO_DEU_2015_4C', -0.045238354729028082),\n",
       " ('CAMEO_DEUG_2015_1', -0.045564287580615509),\n",
       " ('CAMEO_DEU_2015_2D', -0.047210374859012777),\n",
       " ('NATIONALITAET_KZ_1.0', -0.049218804601774177),\n",
       " ('ZABEOTYP_2', -0.050409233761752728),\n",
       " ('WOHNDAUER_2008', -0.051092692346017682),\n",
       " ('FINANZTYP_3', -0.053451361326398453),\n",
       " ('LP_FAMILIE_FEIN_11.0', -0.053638962438874387),\n",
       " ('LP_FAMILIE_FEIN_10.0', -0.055514462084872693),\n",
       " ('KBA13_ANZAHL_PKW', -0.058362533495475405),\n",
       " ('WOHNLAGE', -0.061097061698895581),\n",
       " ('CAMEO_DEUG_2015_3', -0.063656649666844936),\n",
       " ('ONLINE_AFFINITAET', -0.063821259683974785),\n",
       " ('CAMEO_DEUG_2015_4', -0.071460459601603632),\n",
       " ('FINANZTYP_2', -0.071528471152426124),\n",
       " ('ALTERSKATEGORIE_GROB', -0.071547300245181328),\n",
       " ('FINANZ_VORSORGER', -0.073529812197185476),\n",
       " ('LP_FAMILIE_GROB_5.0', -0.080489767169137444),\n",
       " ('CAMEO_DEUG_2015_2', -0.085693315736107584),\n",
       " ('GEBAEUDETYP_1.0', -0.087415533314882651),\n",
       " ('BALLRAUM', -0.094611010851806357),\n",
       " ('ZABEOTYP_1', -0.095426174958456331),\n",
       " ('GEBAEUDETYP_RASTER', -0.096216081868023759),\n",
       " ('ANZ_PERSONEN', -0.097276431044970746),\n",
       " ('PRAEGENDE_JUGENDJAHRE_MOVEMENT', -0.10109137927347579),\n",
       " ('GREEN_AVANTGARDE', -0.10109137927347579),\n",
       " ('CAMEO_INTL_2015_ONES', -0.10487424120311564),\n",
       " ('LP_STATUS_FEIN_9.0', -0.10662794989462729),\n",
       " ('LP_STATUS_GROB_4.0', -0.10792899555190387),\n",
       " ('LP_STATUS_GROB_5.0', -0.11113491125755827),\n",
       " ('LP_STATUS_FEIN_10.0', -0.11113491125755827),\n",
       " ('INNENSTADT', -0.12537497149675958),\n",
       " ('PLZ8_GBZ', -0.13124774956765958),\n",
       " ('LP_LEBENSPHASE_GROB', -0.13264236446986397),\n",
       " ('KONSUMNAEHE', -0.13418046403806472),\n",
       " ('LP_LEBENSPHASE_FEIN', -0.14532544739005962),\n",
       " ('KBA05_ANTG1', -0.17504198397344078),\n",
       " ('KBA05_GBZ', -0.17581664397388228),\n",
       " ('PLZ8_ANTG1', -0.17969530460023578),\n",
       " ('FINANZ_MINIMALIST', -0.18066389175117623),\n",
       " ('MOBI_REGIO', -0.18253320875060219)]"
      ]
     },
     "execution_count": 105,
     "metadata": {},
     "output_type": "execute_result"
    }
   ],
   "source": [
    "# Map weights for the first principal component to corresponding feature names\n",
    "# and then print the linked values, sorted by weight.\n",
    "# HINT: Try defining a function here or in a new cell that you can reuse in the\n",
    "# other cells.\n",
    "\n",
    "component_1_mapping = analyse_principal_component(pca,0, cols)\n",
    "component_1_mapping"
   ]
  },
  {
   "cell_type": "code",
   "execution_count": 106,
   "metadata": {},
   "outputs": [
    {
     "name": "stdout",
     "output_type": "stream",
     "text": [
      "(1, 197)\n"
     ]
    },
    {
     "data": {
      "image/png": "[encoded data removed]",
      "text/plain": [
       "<matplotlib.figure.Figure at 0x7ff239e3c828>"
      ]
     },
     "metadata": {
      "needs_background": "light"
     },
     "output_type": "display_data"
    }
   ],
   "source": [
    "pca_results(pca, cols, 1)"
   ]
  },
  {
   "cell_type": "code",
   "execution_count": 107,
   "metadata": {},
   "outputs": [
    {
     "data": {
      "text/plain": [
       "[('ALTERSKATEGORIE_GROB', 0.23694180926440844),\n",
       " ('FINANZ_VORSORGER', 0.22227848118938615),\n",
       " ('ZABEOTYP_3', 0.19953703139205581),\n",
       " ('SEMIO_ERL', 0.18139803314017497),\n",
       " ('SEMIO_LUST', 0.16578955671859252),\n",
       " ('RETOURTYP_BK_S', 0.15485702233087068),\n",
       " ('W_KEIT_KIND_HH', 0.12424276401741471),\n",
       " ('CJT_GESAMTTYP_2.0', 0.11122756120810998),\n",
       " ('FINANZ_MINIMALIST', 0.10035505158317749),\n",
       " ('FINANZTYP_5', 0.097330807979239917),\n",
       " ('FINANZTYP_2', 0.096360639619233968),\n",
       " ('LP_STATUS_FEIN_1.0', 0.086597696577858208),\n",
       " ('FINANZ_HAUSBAUER', 0.076147938527876102),\n",
       " ('SHOPPER_TYP_3.0', 0.075868319964062722),\n",
       " ('CJT_GESAMTTYP_1.0', 0.07168434247110235),\n",
       " ('SEMIO_KRIT', 0.071480844028298407),\n",
       " ('NATIONALITAET_KZ_1.0', 0.070847942709928752),\n",
       " ('FINANZTYP_6', 0.069182890761660176),\n",
       " ('LP_FAMILIE_FEIN_1.0', 0.068443205909797439),\n",
       " ('LP_FAMILIE_GROB_1.0', 0.068443205909797439),\n",
       " ('GFK_URLAUBERTYP_4.0', 0.057792793470304714),\n",
       " ('WOHNDAUER_2008', 0.05579771368702257),\n",
       " ('SEMIO_KAEM', 0.053657801116464045),\n",
       " ('EWDICHTE', 0.053387262956380827),\n",
       " ('ORTSGR_KLS9', 0.052573080585928134),\n",
       " ('PLZ8_ANTG3', 0.051585025996797929),\n",
       " ('PLZ8_ANTG4', 0.050773975897858349),\n",
       " ('LP_STATUS_FEIN_3.0', 0.050488846909890389),\n",
       " ('PLZ8_BAUMAX', 0.047350224106494893),\n",
       " ('GFK_URLAUBERTYP_7.0', 0.044783015159582336),\n",
       " ('CAMEO_INTL_2015_TENS', 0.043926206431643883),\n",
       " ('KBA05_ANTG4', 0.0422176599864948),\n",
       " ('ARBEIT', 0.041926559583432221),\n",
       " ('RELAT_AB', 0.038714868744487312),\n",
       " ('ANZ_HAUSHALTE_AKTIV', 0.038357787786110306),\n",
       " ('ANREDE_KZ', 0.037263832627813957),\n",
       " ('CAMEO_DEU_2015_9E', 0.037147373480243974),\n",
       " ('LP_FAMILIE_FEIN_2.0', 0.036871886329373695),\n",
       " ('LP_FAMILIE_GROB_2.0', 0.036871886329373695),\n",
       " ('PLZ8_ANTG2', 0.036581752441766133),\n",
       " ('CAMEO_DEU_2015_8D', 0.033101837634151907),\n",
       " ('GFK_URLAUBERTYP_3.0', 0.031440965006189502),\n",
       " ('CAMEO_DEUG_2015_8', 0.029829804322313327),\n",
       " ('GFK_URLAUBERTYP_5.0', 0.026683297227700787),\n",
       " ('HH_EINKOMMEN_SCORE', 0.026451591246364196),\n",
       " ('SEMIO_DOM', 0.025664817247615698),\n",
       " ('KBA05_ANTG3', 0.024222448143066264),\n",
       " ('CAMEO_DEU_2015_6E', 0.023516880299917869),\n",
       " ('ANZ_HH_TITEL', 0.023343560450270154),\n",
       " ('ZABEOTYP_6', 0.021580520645752846),\n",
       " ('GFK_URLAUBERTYP_8.0', 0.021363484501891357),\n",
       " ('GFK_URLAUBERTYP_6.0', 0.020879715526504299),\n",
       " ('CAMEO_INTL_2015_ONES', 0.019367117697140154),\n",
       " ('OST_WEST_KZ_O', 0.019175430943407037),\n",
       " ('VERS_TYP', 0.017917913255655608),\n",
       " ('GEBAEUDETYP_3.0', 0.017215697050755568),\n",
       " ('LP_STATUS_FEIN_10.0', 0.014793784292810468),\n",
       " ('LP_STATUS_GROB_5.0', 0.014793784292810468),\n",
       " ('CAMEO_DEUG_2015_6', 0.013781950559093491),\n",
       " ('CAMEO_DEU_2015_8C', 0.013362521150041712),\n",
       " ('CAMEO_DEU_2015_7E', 0.012173462545849558),\n",
       " ('CAMEO_DEU_2015_6F', 0.011440139629738827),\n",
       " ('CAMEO_DEU_2015_7C', 0.011358821008264831),\n",
       " ('CAMEO_DEUG_2015_9', 0.010995723306004174),\n",
       " ('CAMEO_DEU_2015_8A', 0.010778008976124213),\n",
       " ('CAMEO_DEU_2015_5D', 0.010493299062599678),\n",
       " ('LP_STATUS_FEIN_7.0', 0.010303483225970368),\n",
       " ('CAMEO_DEU_2015_7D', 0.0099603548549892056),\n",
       " ('GEBAEUDETYP_2.0', 0.009731114097253326),\n",
       " ('CAMEO_DEUG_2015_7', 0.0087702914650416089),\n",
       " ('CAMEO_DEU_2015_9D', 0.0084563518588967358),\n",
       " ('GFK_URLAUBERTYP_10.0', 0.0077120928515118682),\n",
       " ('PLZ8_HHZ', 0.0075812731325364119),\n",
       " ('CAMEO_DEU_2015_8B', 0.0074018920565056779),\n",
       " ('LP_STATUS_GROB_1.0', 0.007186129872276144),\n",
       " ('ANZ_TITEL', 0.0068183664525522068),\n",
       " ('CAMEO_DEU_2015_6D', 0.0067595816125649872),\n",
       " ('CAMEO_DEU_2015_6C', 0.0061762321233138229),\n",
       " ('CAMEO_DEU_2015_7B', 0.0055220214013978579),\n",
       " ('CAMEO_DEU_2015_5E', 0.0033143053426349248),\n",
       " ('CAMEO_DEU_2015_5F', 0.0032302457533505908),\n",
       " ('CAMEO_DEU_2015_9C', 0.0031371902152825702),\n",
       " ('GEBAEUDETYP_4.0', 0.0029596185340420101),\n",
       " ('CAMEO_DEUG_2015_1', 0.0024741857121921371),\n",
       " ('CAMEO_DEU_2015_1E', 0.0024158314252105077),\n",
       " ('GEBAEUDETYP_8.0', 0.0023188349606038361),\n",
       " ('GEBAEUDETYP_6.0', 0.0022805108001145748),\n",
       " ('CAMEO_DEU_2015_1C', 0.0021510044983486065),\n",
       " ('CAMEO_DEU_2015_3D', 0.0018429296249686145),\n",
       " ('CAMEO_DEU_2015_1D', 0.0016367859591168742),\n",
       " ('CAMEO_DEU_2015_4E', 0.0014814348104976451),\n",
       " ('SHOPPER_TYP_2.0', 0.0010565273218861475),\n",
       " ('GREEN_AVANTGARDE', 0.00032460456479409353),\n",
       " ('PRAEGENDE_JUGENDJAHRE_MOVEMENT', 0.00032460456479409348),\n",
       " ('GEBAEUDETYP_5.0', 0.00024592284436271325),\n",
       " ('CAMEO_DEU_2015_1B', 0.00016586350874717455),\n",
       " ('KBA05_ANTG2', -0.00024085414456901776),\n",
       " ('CAMEO_DEU_2015_1A', -0.00038781506952070919),\n",
       " ('CAMEO_DEU_2015_9B', -0.00083726909948135368),\n",
       " ('LP_STATUS_FEIN_9.0', -0.0011150880887326815),\n",
       " ('LP_STATUS_GROB_3.0', -0.0013658045396082912),\n",
       " ('CAMEO_DEU_2015_4D', -0.0015840524028552841),\n",
       " ('CAMEO_DEU_2015_6A', -0.0016905811101305605),\n",
       " ('SOHO_KZ', -0.0017138797796567595),\n",
       " ('REGIOTYP', -0.0019400252682086232),\n",
       " ('CAMEO_DEU_2015_6B', -0.0039972475254256012),\n",
       " ('CAMEO_DEUG_2015_5', -0.0046805775603211098),\n",
       " ('CAMEO_DEU_2015_2D', -0.0047252765691083633),\n",
       " ('CAMEO_DEU_2015_5A', -0.005024850911786307),\n",
       " ('CAMEO_DEU_2015_7A', -0.0063459192697949288),\n",
       " ('LP_STATUS_FEIN_6.0', -0.0074487060442438059),\n",
       " ('LP_STATUS_GROB_4.0', -0.0080658207895208008),\n",
       " ('CAMEO_DEU_2015_2B', -0.0094376366512499092),\n",
       " ('CAMEO_DEU_2015_9A', -0.009508166210213739),\n",
       " ('KKK', -0.0097876722335679747),\n",
       " ('CAMEO_DEU_2015_5B', -0.010086823692821727),\n",
       " ('CAMEO_DEU_2015_2C', -0.010138132139756006),\n",
       " ('CAMEO_DEU_2015_3C', -0.010597690968125281),\n",
       " ('CAMEO_DEU_2015_4B', -0.010832856147321919),\n",
       " ('CAMEO_DEU_2015_5C', -0.011826750118734916),\n",
       " ('LP_FAMILIE_FEIN_9.0', -0.012200259233396526),\n",
       " ('LP_STATUS_GROB_2.0', -0.012631396653906855),\n",
       " ('CAMEO_DEU_2015_3B', -0.015913708353318196),\n",
       " ('LP_STATUS_FEIN_4.0', -0.016718853759651753),\n",
       " ('GFK_URLAUBERTYP_11.0', -0.016738513166898519),\n",
       " ('CAMEO_DEU_2015_4C', -0.016763277679123306),\n",
       " ('CAMEO_DEUG_2015_3', -0.017694039991456058),\n",
       " ('CAMEO_DEU_2015_2A', -0.017702300620963004),\n",
       " ('GEBAEUDETYP_1.0', -0.018222963891909728),\n",
       " ('LP_STATUS_FEIN_8.0', -0.018389055007574207),\n",
       " ('SEMIO_VERT', -0.018730997847811848),\n",
       " ('OST_WEST_KZ_W', -0.019175430943407037),\n",
       " ('GFK_URLAUBERTYP_1.0', -0.019471433907226433),\n",
       " ('CAMEO_DEU_2015_3A', -0.019487543692467867),\n",
       " ('CAMEO_DEUG_2015_2', -0.01993838977410016),\n",
       " ('KBA13_ANZAHL_PKW', -0.022299561215697501),\n",
       " ('CAMEO_DEU_2015_4A', -0.02486046437579156),\n",
       " ('LP_FAMILIE_FEIN_3.0', -0.025774741640029075),\n",
       " ('GEBAEUDETYP_RASTER', -0.026395409302644009),\n",
       " ('LP_FAMILIE_FEIN_5.0', -0.026681340192868129),\n",
       " ('LP_FAMILIE_FEIN_10.0', -0.028931321429457233),\n",
       " ('CAMEO_DEUG_2015_4', -0.030098307449646523),\n",
       " ('SHOPPER_TYP_1.0', -0.030590796948380544),\n",
       " ('ZABEOTYP_2', -0.031541963635658588),\n",
       " ('LP_FAMILIE_FEIN_4.0', -0.031670844278470001),\n",
       " ('KBA05_ANTG1', -0.033065165339782814),\n",
       " ('BALLRAUM', -0.034080568761706315),\n",
       " ('WOHNLAGE', -0.0341754791515071),\n",
       " ('LP_FAMILIE_FEIN_11.0', -0.035511219780191471),\n",
       " ('CJT_GESAMTTYP_5.0', -0.035885427165081626),\n",
       " ('MOBI_REGIO', -0.036622919135475968),\n",
       " ('CJT_GESAMTTYP_3.0', -0.037232743769418257),\n",
       " ('LP_FAMILIE_FEIN_8.0', -0.037520863195171943),\n",
       " ('LP_FAMILIE_FEIN_6.0', -0.037667497811515835),\n",
       " ('GFK_URLAUBERTYP_12.0', -0.039309034492829707),\n",
       " ('PLZ8_GBZ', -0.040178997337804875),\n",
       " ('MIN_GEBAEUDEJAHR', -0.040356984862933529),\n",
       " ('KONSUMNAEHE', -0.041413435224039639),\n",
       " ('INNENSTADT', -0.041815638810907933),\n",
       " ('LP_LEBENSPHASE_FEIN', -0.042749233647870276),\n",
       " ('GFK_URLAUBERTYP_2.0', -0.043718382938078892),\n",
       " ('LP_FAMILIE_FEIN_7.0', -0.043918601981858596),\n",
       " ('CJT_GESAMTTYP_6.0', -0.04485191128229752),\n",
       " ('KBA05_GBZ', -0.047240444564076334),\n",
       " ('SHOPPER_TYP_0.0', -0.048013177538201564),\n",
       " ('LP_FAMILIE_GROB_5.0', -0.048393031844287684),\n",
       " ('NATIONALITAET_KZ_2.0', -0.0484152994313954),\n",
       " ('LP_FAMILIE_GROB_3.0', -0.048797587664513198),\n",
       " ('NATIONALITAET_KZ_3.0', -0.050307442976720268),\n",
       " ('PLZ8_ANTG1', -0.050780529987997987),\n",
       " ('LP_LEBENSPHASE_GROB', -0.050935443823330706),\n",
       " ('ZABEOTYP_1', -0.053060609978705188),\n",
       " ('CJT_GESAMTTYP_4.0', -0.054309507600410936),\n",
       " ('HEALTH_TYP', -0.055847917542485651),\n",
       " ('SEMIO_SOZ', -0.062939078604613452),\n",
       " ('ANZ_PERSONEN', -0.068218281147767651),\n",
       " ('LP_FAMILIE_GROB_4.0', -0.069314348594413544),\n",
       " ('FINANZTYP_3', -0.072052574753354692),\n",
       " ('GFK_URLAUBERTYP_9.0', -0.073899008927269749),\n",
       " ('LP_STATUS_FEIN_5.0', -0.07956677974294768),\n",
       " ('FINANZTYP_4', -0.087346297154101846),\n",
       " ('ZABEOTYP_5', -0.093008987264395396),\n",
       " ('LP_STATUS_FEIN_2.0', -0.10022463137657539),\n",
       " ('ZABEOTYP_4', -0.10936201493356472),\n",
       " ('SEMIO_MAT', -0.13271790528080832),\n",
       " ('SEMIO_FAM', -0.1359328420875755),\n",
       " ('FINANZTYP_1', -0.13916773313119996),\n",
       " ('ONLINE_AFFINITAET', -0.15985334327800024),\n",
       " ('SEMIO_KULT', -0.16628188885861553),\n",
       " ('SEMIO_RAT', -0.17220810742586629),\n",
       " ('FINANZ_ANLEGER', -0.20655940786901825),\n",
       " ('SEMIO_PFLICHT', -0.2096915793098659),\n",
       " ('SEMIO_TRADV', -0.2103765798216746),\n",
       " ('FINANZ_UNAUFFAELLIGER', -0.21700832664889036),\n",
       " ('SEMIO_REL', -0.21777725427495975),\n",
       " ('FINANZ_SPARER', -0.23325042524539441),\n",
       " ('PRAEGENDE_JUGENDJAHRE_DECADE', -0.23442842469574976)]"
      ]
     },
     "execution_count": 107,
     "metadata": {},
     "output_type": "execute_result"
    }
   ],
   "source": [
    "# Map weights for the second principal component to corresponding feature names\n",
    "# and then print the linked values, sorted by weight.\n",
    "\n",
    "component_2_mapping = analyse_principal_component(pca,1, cols)\n",
    "component_2_mapping"
   ]
  },
  {
   "cell_type": "code",
   "execution_count": 108,
   "metadata": {},
   "outputs": [
    {
     "name": "stdout",
     "output_type": "stream",
     "text": [
      "(1, 197)\n"
     ]
    },
    {
     "data": {
      "image/png": "[encoded data removed]",
      "text/plain": [
       "<matplotlib.figure.Figure at 0x7ff23a1abd68>"
      ]
     },
     "metadata": {
      "needs_background": "light"
     },
     "output_type": "display_data"
    }
   ],
   "source": [
    "pca_results(pca, cols, 2)"
   ]
  },
  {
   "cell_type": "code",
   "execution_count": 109,
   "metadata": {},
   "outputs": [
    {
     "data": {
      "text/plain": [
       "[('SEMIO_VERT', 0.31270876012383869),\n",
       " ('SEMIO_FAM', 0.25356221235501741),\n",
       " ('SEMIO_SOZ', 0.25301038668806414),\n",
       " ('SEMIO_KULT', 0.24502161091511629),\n",
       " ('FINANZTYP_5', 0.13899361968376503),\n",
       " ('FINANZ_MINIMALIST', 0.1305777700751628),\n",
       " ('ZABEOTYP_1', 0.12176898318486276),\n",
       " ('SHOPPER_TYP_0.0', 0.12054574485288758),\n",
       " ('SEMIO_REL', 0.10995721803436947),\n",
       " ('PRAEGENDE_JUGENDJAHRE_MOVEMENT', 0.094537903722125324),\n",
       " ('GREEN_AVANTGARDE', 0.094537903722125324),\n",
       " ('SEMIO_MAT', 0.086076672355303571),\n",
       " ('ORTSGR_KLS9', 0.079096425416227384),\n",
       " ('EWDICHTE', 0.078337429622656871),\n",
       " ('RETOURTYP_BK_S', 0.073615371837940716),\n",
       " ('LP_STATUS_GROB_5.0', 0.069535463216326421),\n",
       " ('LP_STATUS_FEIN_10.0', 0.069535463216326421),\n",
       " ('PLZ8_BAUMAX', 0.058989471312637334),\n",
       " ('PLZ8_ANTG4', 0.057273952451700583),\n",
       " ('PLZ8_ANTG3', 0.056827961878569692),\n",
       " ('LP_STATUS_FEIN_3.0', 0.047690028418898509),\n",
       " ('FINANZ_VORSORGER', 0.046712939385014536),\n",
       " ('ZABEOTYP_6', 0.045384959502157797),\n",
       " ('W_KEIT_KIND_HH', 0.044898725786104002),\n",
       " ('RELAT_AB', 0.04193953302628297),\n",
       " ('PLZ8_ANTG2', 0.041362688132697403),\n",
       " ('LP_STATUS_FEIN_1.0', 0.041270670660606863),\n",
       " ('ARBEIT', 0.039366954025558794),\n",
       " ('LP_STATUS_GROB_3.0', 0.037612469945272092),\n",
       " ('NATIONALITAET_KZ_2.0', 0.032363838774971287),\n",
       " ('GEBAEUDETYP_3.0', 0.03231317913554127),\n",
       " ('SHOPPER_TYP_1.0', 0.031187638218157947),\n",
       " ('LP_LEBENSPHASE_FEIN', 0.030107362779957503),\n",
       " ('LP_LEBENSPHASE_GROB', 0.027797824466776675),\n",
       " ('LP_STATUS_FEIN_7.0', 0.027700410308099645),\n",
       " ('GFK_URLAUBERTYP_4.0', 0.027356972359040402),\n",
       " ('LP_STATUS_FEIN_6.0', 0.027096833391197766),\n",
       " ('LP_FAMILIE_FEIN_2.0', 0.026201567456172754),\n",
       " ('LP_FAMILIE_GROB_2.0', 0.026201567456172754),\n",
       " ('CAMEO_DEU_2015_9C', 0.025556873951391734),\n",
       " ('ANZ_PERSONEN', 0.025329953242533326),\n",
       " ('KBA05_ANTG4', 0.025230000266770219),\n",
       " ('LP_FAMILIE_GROB_5.0', 0.024401949898325063),\n",
       " ('SEMIO_LUST', 0.023774233983626727),\n",
       " ('CAMEO_DEUG_2015_9', 0.02363637412600833),\n",
       " ('CAMEO_DEUG_2015_1', 0.023629189940481733),\n",
       " ('WOHNDAUER_2008', 0.02315264897122702),\n",
       " ('ANZ_HAUSHALTE_AKTIV', 0.021796079441013021),\n",
       " ('FINANZTYP_3', 0.020781233092258034),\n",
       " ('CAMEO_DEU_2015_8B', 0.019963978483502353),\n",
       " ('CAMEO_DEU_2015_5D', 0.019029773962755833),\n",
       " ('LP_FAMILIE_FEIN_10.0', 0.018360026080713389),\n",
       " ('PLZ8_HHZ', 0.017702572153667922),\n",
       " ('CAMEO_DEU_2015_1D', 0.016916854286022333),\n",
       " ('ANZ_TITEL', 0.016165482645678471),\n",
       " ('CJT_GESAMTTYP_4.0', 0.015828816912218092),\n",
       " ('ANZ_HH_TITEL', 0.015819660973216843),\n",
       " ('ALTERSKATEGORIE_GROB', 0.014528813712649139),\n",
       " ('CAMEO_INTL_2015_TENS', 0.014279697130469841),\n",
       " ('CJT_GESAMTTYP_1.0', 0.014031032475025426),\n",
       " ('CAMEO_DEU_2015_1E', 0.013799639474492585),\n",
       " ('CJT_GESAMTTYP_3.0', 0.013490897972594456),\n",
       " ('LP_FAMILIE_FEIN_11.0', 0.013433285946585502),\n",
       " ('GFK_URLAUBERTYP_8.0', 0.012472585770558858),\n",
       " ('CAMEO_DEU_2015_9B', 0.012375797665441311),\n",
       " ('CAMEO_DEUG_2015_8', 0.01202485501362802),\n",
       " ('FINANZTYP_4', 0.011593971539277043),\n",
       " ('CAMEO_DEU_2015_9D', 0.011344065643775837),\n",
       " ('CAMEO_DEU_2015_2D', 0.01065613499918484),\n",
       " ('GFK_URLAUBERTYP_5.0', 0.0094941216620805062),\n",
       " ('CJT_GESAMTTYP_5.0', 0.0094515815337662037),\n",
       " ('CAMEO_DEU_2015_1C', 0.008562723824247255),\n",
       " ('CAMEO_DEU_2015_8A', 0.0078390012915253889),\n",
       " ('CAMEO_DEU_2015_1A', 0.0077741114284075735),\n",
       " ('GFK_URLAUBERTYP_10.0', 0.0068759880634480753),\n",
       " ('GFK_URLAUBERTYP_6.0', 0.0060463465961376204),\n",
       " ('CAMEO_DEUG_2015_2', 0.0048037020072302138),\n",
       " ('GEBAEUDETYP_8.0', 0.0036434223360845364),\n",
       " ('CAMEO_DEU_2015_7B', 0.0034365531861092848),\n",
       " ('CAMEO_DEU_2015_1B', 0.0034036131529382573),\n",
       " ('LP_FAMILIE_FEIN_9.0', 0.0033649193827736618),\n",
       " ('GFK_URLAUBERTYP_3.0', 0.003158528729446082),\n",
       " ('GEBAEUDETYP_4.0', 0.0027942701794699655),\n",
       " ('VERS_TYP', 0.0025343536224351057),\n",
       " ('CAMEO_DEU_2015_7C', 0.0025198908251098449),\n",
       " ('CAMEO_DEU_2015_6E', 0.0024778668273917324),\n",
       " ('GEBAEUDETYP_6.0', 0.0023422141980403389),\n",
       " ('GFK_URLAUBERTYP_7.0', 0.002016761455139343),\n",
       " ('CAMEO_DEU_2015_7D', 0.0016970552503632668),\n",
       " ('LP_FAMILIE_FEIN_8.0', 0.0016164556022782914),\n",
       " ('CAMEO_DEU_2015_5F', 0.0015792360281248357),\n",
       " ('CAMEO_DEUG_2015_5', 0.0015058458482667468),\n",
       " ('GEBAEUDETYP_2.0', 0.0014773120000735171),\n",
       " ('KBA05_ANTG3', 0.0013743288987032275),\n",
       " ('CAMEO_DEU_2015_5E', 0.001363611227979321),\n",
       " ('CAMEO_DEU_2015_7E', 0.0012823881919171738),\n",
       " ('GFK_URLAUBERTYP_1.0', 0.00098372253814879747),\n",
       " ('OST_WEST_KZ_W', 0.00077533156105974411),\n",
       " ('SOHO_KZ', 0.00062245033144890259),\n",
       " ('GEBAEUDETYP_5.0', 0.00053681739184345827),\n",
       " ('CAMEO_DEU_2015_6F', 0.00013111445568584701),\n",
       " ('CAMEO_DEU_2015_6D', 8.1238668795833462e-05),\n",
       " ('CAMEO_DEU_2015_2A', -0.00014343935558988789),\n",
       " ('CAMEO_DEU_2015_4D', -0.00014785044954092707),\n",
       " ('CAMEO_DEU_2015_8D', -0.00041922494207449605),\n",
       " ('CAMEO_DEU_2015_2C', -0.00060042268202370474),\n",
       " ('OST_WEST_KZ_O', -0.00077533156105974411),\n",
       " ('CAMEO_DEU_2015_5A', -0.00082339439862017926),\n",
       " ('CAMEO_DEU_2015_4E', -0.00091419030535909429),\n",
       " ('CAMEO_DEU_2015_6A', -0.0013668755204141823),\n",
       " ('CAMEO_DEU_2015_6C', -0.0015003422729779874),\n",
       " ('CAMEO_DEU_2015_9E', -0.0024018330811268074),\n",
       " ('CAMEO_DEUG_2015_7', -0.0025647956926352321),\n",
       " ('CAMEO_DEU_2015_9A', -0.0032846791469371044),\n",
       " ('GFK_URLAUBERTYP_11.0', -0.0036697538665431103),\n",
       " ('CAMEO_DEU_2015_2B', -0.0043899045454040631),\n",
       " ('FINANZTYP_6', -0.0050637601713462762),\n",
       " ('ONLINE_AFFINITAET', -0.0053505908428578336),\n",
       " ('CAMEO_DEU_2015_8C', -0.006045035702934856),\n",
       " ('CAMEO_DEU_2015_3A', -0.0061440756976521389),\n",
       " ('LP_STATUS_FEIN_8.0', -0.0072086349072307638),\n",
       " ('CAMEO_DEU_2015_5B', -0.0079355220235856946),\n",
       " ('KBA05_ANTG2', -0.0083442029682046469),\n",
       " ('CAMEO_DEU_2015_3C', -0.0085971797532070574),\n",
       " ('CAMEO_DEUG_2015_6', -0.0089444103246781419),\n",
       " ('CAMEO_DEU_2015_7A', -0.00914241145771315),\n",
       " ('CAMEO_DEU_2015_4B', -0.0092169898642402819),\n",
       " ('CAMEO_DEU_2015_3B', -0.0093793015801093785),\n",
       " ('LP_FAMILIE_FEIN_6.0', -0.009416552434235146),\n",
       " ('LP_FAMILIE_GROB_4.0', -0.0095764373593769051),\n",
       " ('ZABEOTYP_2', -0.0099895243998269646),\n",
       " ('CAMEO_DEU_2015_3D', -0.010000329714848231),\n",
       " ('KBA05_ANTG1', -0.010031669642934135),\n",
       " ('NATIONALITAET_KZ_1.0', -0.01003822360824471),\n",
       " ('LP_FAMILIE_FEIN_7.0', -0.01043351428327584),\n",
       " ('CAMEO_DEU_2015_6B', -0.011936228996264659),\n",
       " ('CAMEO_DEU_2015_5C', -0.012673306537095671),\n",
       " ('CAMEO_INTL_2015_ONES', -0.013163869361050537),\n",
       " ('GFK_URLAUBERTYP_2.0', -0.013878856919914563),\n",
       " ('LP_FAMILIE_GROB_1.0', -0.014330147928751921),\n",
       " ('LP_FAMILIE_FEIN_1.0', -0.014330147928751921),\n",
       " ('SEMIO_TRADV', -0.016068609667428888),\n",
       " ('MIN_GEBAEUDEJAHR', -0.016710312080778469),\n",
       " ('CAMEO_DEUG_2015_3', -0.01724481456483766),\n",
       " ('HEALTH_TYP', -0.017658559029128225),\n",
       " ('LP_STATUS_GROB_1.0', -0.018383439670914346),\n",
       " ('MOBI_REGIO', -0.018737512483204464),\n",
       " ('LP_STATUS_FEIN_9.0', -0.018903389561284286),\n",
       " ('CAMEO_DEU_2015_4C', -0.020102319592600358),\n",
       " ('KBA05_GBZ', -0.020286736764363635),\n",
       " ('LP_STATUS_GROB_4.0', -0.020735710839138846),\n",
       " ('GFK_URLAUBERTYP_12.0', -0.020899282810794576),\n",
       " ('KBA13_ANZAHL_PKW', -0.021392120637197937),\n",
       " ('CAMEO_DEU_2015_4A', -0.022256739775911884),\n",
       " ('LP_STATUS_FEIN_5.0', -0.022313404693347732),\n",
       " ('SEMIO_PFLICHT', -0.024083378193181577),\n",
       " ('CJT_GESAMTTYP_6.0', -0.024283962855617659),\n",
       " ('GFK_URLAUBERTYP_9.0', -0.025330744325600542),\n",
       " ('LP_FAMILIE_FEIN_3.0', -0.025866633318738414),\n",
       " ('LP_FAMILIE_FEIN_5.0', -0.02612556989561279),\n",
       " ('NATIONALITAET_KZ_3.0', -0.027802284311189824),\n",
       " ('ZABEOTYP_5', -0.027853782848309191),\n",
       " ('FINANZTYP_2', -0.027995341950516336),\n",
       " ('REGIOTYP', -0.0305075844812976),\n",
       " ('CAMEO_DEUG_2015_4', -0.03054015215376539),\n",
       " ('GEBAEUDETYP_1.0', -0.030718913985290332),\n",
       " ('CJT_GESAMTTYP_2.0', -0.030906503461759244),\n",
       " ('LP_STATUS_GROB_2.0', -0.036399670104474938),\n",
       " ('LP_FAMILIE_FEIN_4.0', -0.037452062246412204),\n",
       " ('PLZ8_GBZ', -0.038142268849450919),\n",
       " ('ZABEOTYP_3', -0.040328659337676258),\n",
       " ('GEBAEUDETYP_RASTER', -0.044239625548021085),\n",
       " ('FINANZ_UNAUFFAELLIGER', -0.044538021448333534),\n",
       " ('SHOPPER_TYP_3.0', -0.046571910821029142),\n",
       " ('KKK', -0.047043075981654782),\n",
       " ('HH_EINKOMMEN_SCORE', -0.048423894772118836),\n",
       " ('PLZ8_ANTG1', -0.052164324348028146),\n",
       " ('LP_FAMILIE_GROB_3.0', -0.052272146856937186),\n",
       " ('PRAEGENDE_JUGENDJAHRE_DECADE', -0.054022040452127829),\n",
       " ('WOHNLAGE', -0.05522439216128882),\n",
       " ('KONSUMNAEHE', -0.055412568730633653),\n",
       " ('FINANZ_SPARER', -0.055832173622313318),\n",
       " ('BALLRAUM', -0.061647036234775639),\n",
       " ('ZABEOTYP_4', -0.062139167953673427),\n",
       " ('FINANZ_HAUSBAUER', -0.06373907762451976),\n",
       " ('INNENSTADT', -0.068382359872325105),\n",
       " ('LP_STATUS_FEIN_2.0', -0.078678281948728362),\n",
       " ('LP_STATUS_FEIN_4.0', -0.08359353298631414),\n",
       " ('SHOPPER_TYP_2.0', -0.090399892783200028),\n",
       " ('FINANZTYP_1', -0.099922897235464395),\n",
       " ('SEMIO_RAT', -0.1503473460751957),\n",
       " ('FINANZ_ANLEGER', -0.15673044536477659),\n",
       " ('SEMIO_ERL', -0.2039685628410032),\n",
       " ('SEMIO_KRIT', -0.26423297907047488),\n",
       " ('SEMIO_DOM', -0.27220639222521942),\n",
       " ('SEMIO_KAEM', -0.30434226803576375),\n",
       " ('ANREDE_KZ', -0.33657508206308256)]"
      ]
     },
     "execution_count": 109,
     "metadata": {},
     "output_type": "execute_result"
    }
   ],
   "source": [
    "# Map weights for the third principal component to corresponding feature names\n",
    "# and then print the linked values, sorted by weight.\n",
    "\n",
    "component_3_mapping = analyse_principal_component(pca,2, cols)\n",
    "component_3_mapping"
   ]
  },
  {
   "cell_type": "code",
   "execution_count": 110,
   "metadata": {},
   "outputs": [
    {
     "name": "stdout",
     "output_type": "stream",
     "text": [
      "(1, 197)\n"
     ]
    },
    {
     "data": {
      "image/png": "[encoded data removed]",
      "text/plain": [
       "<matplotlib.figure.Figure at 0x7ff23a385e10>"
      ]
     },
     "metadata": {
      "needs_background": "light"
     },
     "output_type": "display_data"
    }
   ],
   "source": [
    "pca_results(pca, cols, 3)"
   ]
  },
  {
   "cell_type": "markdown",
   "metadata": {},
   "source": [
    "### Discussion 2.3: Interpret Principal Components\n",
    "\n",
    " > Can we interpret positive and negative values from them in a meaningful way ?\n",
    " \n",
    "### Principal Component : 1\n",
    "\n",
    "   * PC_1 explained **8.62%** (0.0862) variance of the data\n",
    "   * PC_1 explains LP_STATUS_GROB_1.0 , HH_EINKOMMEN_SCORE , CAMEO_INTL_2015_TENS, PLZ8_ANTG3, PLZ8_ANTG4 etc are strongly connected.\n",
    "   * PC_1 correlates most strongly with **LP_STATUS_GROB_1.0**\n",
    "   * Strongly connected features denotes that if one increases, remaining will also increase.\n",
    "   \n",
    "   * -ve weight of MOBIE_REGIO, KBA05_ANTG1, FINANZ_MINIMALIST, PLZ8_ANTG1, KBA05_GBZ etc explains there is a inverse relation. \n",
    "\n",
    "\n",
    "### Principal Component : 2\n",
    "\n",
    "   * PC_2 explained **5.9%** (0.0590) variance of the data\n",
    "   * PC_2 explains ALTERSKATEGORIE_GROB, FINANZ_VORSORGER, ZABEOTYP_3, SEMIO_ERL, SEMIO_LUST etc are strongly connected.\n",
    "   * PC_2 correlates most strongly with **ALTERSKATEGORIE_GROB**\n",
    "   * Strongly connected features denotes that if one increases, remaining will also increase.\n",
    "   \n",
    "   * -ve weight of PRAEGENDE_JUGENDJAHRE_DECADE, FINANZ_SPARER, SEMIO_REL, SEMIO_PFLICHT, FINANZ_UNAUFFAELLIGER etc explains there is a inverse relation. \n",
    "\n",
    "\n",
    "\n",
    "### Principal Component : 3\n",
    "\n",
    "   * PC_3 explained **3.63%** (0.0363) variance of the data\n",
    "   * PC_3 explains SEMIO_VERT, SEMIO_FAM, SEMIO_SOZ, FINANZTYP_5, FINANZ_MINIMALIST etc are strongly connected.\n",
    "   * PC_3 correlates most strongly with **SEMIO_VERT**\n",
    "   * Strongly connected features denotes that if one increases, remaining will also increase.\n",
    "   \n",
    "   * -ve weight of ANREDE_KZ, SEMIO_KAEM, SEMIO_DOM, SEMIO_KRIT, SEMIO_ERL etc explains there is a inverse relation. \n",
    "\n",
    "\n",
    " \n",
    " "
   ]
  },
  {
   "cell_type": "markdown",
   "metadata": {},
   "source": [
    "## Step 3: Clustering\n",
    "\n",
    "### Step 3.1: Apply Clustering to General Population\n",
    "\n",
    "You've assessed and cleaned the demographics data, then scaled and transformed them. Now, it's time to see how the data clusters in the principal components space. In this substep, you will apply k-means clustering to the dataset and use the average within-cluster distances from each point to their assigned cluster's centroid to decide on a number of clusters to keep.\n",
    "\n",
    "- Use sklearn's [KMeans](http://scikit-learn.org/stable/modules/generated/sklearn.cluster.KMeans.html#sklearn.cluster.KMeans) class to perform k-means clustering on the PCA-transformed data.\n",
    "- Then, compute the average difference from each point to its assigned cluster's center. **Hint**: The KMeans object's `.score()` method might be useful here, but note that in sklearn, scores tend to be defined so that larger is better. Try applying it to a small, toy dataset, or use an internet search to help your understanding.\n",
    "- Perform the above two steps for a number of different cluster counts. You can then see how the average distance decreases with an increasing number of clusters. However, each additional cluster provides a smaller net benefit. Use this fact to select a final number of clusters in which to group the data. **Warning**: because of the large size of the dataset, it can take a long time for the algorithm to resolve. The more clusters to fit, the longer the algorithm will take. You should test for cluster counts through at least 10 clusters to get the full picture, but you shouldn't need to test for a number of clusters above about 30.\n",
    "- Once you've selected a final number of clusters to use, re-fit a KMeans instance to perform the clustering operation. Make sure that you also obtain the cluster assignments for the general demographics data, since you'll be using them in the final Step 3.3."
   ]
  },
  {
   "cell_type": "code",
   "execution_count": 155,
   "metadata": {},
   "outputs": [],
   "source": [
    "scores = []"
   ]
  },
  {
   "cell_type": "code",
   "execution_count": 156,
   "metadata": {},
   "outputs": [],
   "source": [
    "centers = list(range(1,11))"
   ]
  },
  {
   "cell_type": "code",
   "execution_count": 157,
   "metadata": {
    "scrolled": true
   },
   "outputs": [
    {
     "name": "stdout",
     "output_type": "stream",
     "text": [
      "1 71491963.7667\n",
      "2 61728950.1305\n",
      "3 57338788.3435\n",
      "4 54394139.286\n",
      "5 52043559.7765\n",
      "6 50594865.6593\n",
      "7 49355812.3705\n",
      "8 48167207.8903\n",
      "9 47288446.503\n",
      "10 46135366.9012\n"
     ]
    }
   ],
   "source": [
    "# Over a number of different cluster counts...\n",
    "for center in centers:\n",
    "\n",
    "    # run k-means clustering on the data and...\n",
    "    kmeans = KMeans(n_clusters=center)\n",
    "    model = kmeans.fit(X_pca)\n",
    "    \n",
    "    # compute the average within-cluster distances.\n",
    "    score = np.abs(model.score(X_pca))\n",
    "\n",
    "    scores.append(score)\n",
    "    print(center, score)\n",
    "    "
   ]
  },
  {
   "cell_type": "code",
   "execution_count": 158,
   "metadata": {},
   "outputs": [
    {
     "data": {
      "image/png": "[encoded data removed]",
      "text/plain": [
       "<matplotlib.figure.Figure at 0x7ff239f4d9e8>"
      ]
     },
     "metadata": {
      "needs_background": "light"
     },
     "output_type": "display_data"
    }
   ],
   "source": [
    "# Investigate the change in within-cluster distance across number of clusters.\n",
    "# HINT: Use matplotlib's plot function to visualize this relationship.\n",
    "plt.figure(figsize=(15,7))\n",
    "plt.plot(centers, scores, linestyle='--', marker='o', color='b');\n",
    "plt.xlabel('K');\n",
    "plt.ylabel('Average distance to cluster center');\n",
    "plt.title('Averager distance vs. K');"
   ]
  },
  {
   "cell_type": "code",
   "execution_count": 115,
   "metadata": {},
   "outputs": [],
   "source": [
    "# Re-fit the k-means model with the selected number of clusters and obtain\n",
    "# cluster predictions for the general population demographics data.\n",
    "\n",
    "kmeans = KMeans(n_clusters=4)\n",
    "model = kmeans.fit(X_pca)\n",
    "y_clusters = model.predict(X_pca)"
   ]
  },
  {
   "cell_type": "markdown",
   "metadata": {},
   "source": [
    "### Discussion 3.1: Apply Clustering to General Population\n",
    "\n",
    " > ### How many cluster segments ?\n",
    " \n",
    "        After analysing the above sceer plot, choosing 4 cluster for further analysis and segmenting population data. \n",
    "  \n",
    "        Eventhough we can not see a clear visible elbo point but we can see after K=4 that there is a slow decrease. \n",
    "  \n",
    "        It's a kind of debatable to choose 4 or 3 cluster for segmenting the data."
   ]
  },
  {
   "cell_type": "markdown",
   "metadata": {},
   "source": [
    "### Step 3.2: Apply All Steps to the Customer Data\n",
    "\n",
    "Now that you have clusters and cluster centers for the general population, it's time to see how the customer data maps on to those clusters. Take care to not confuse this for re-fitting all of the models to the customer data. Instead, you're going to use the fits from the general population to clean, transform, and cluster the customer data. In the last step of the project, you will interpret how the general population fits apply to the customer data.\n",
    "\n",
    "- Don't forget when loading in the customers data, that it is semicolon (`;`) delimited.\n",
    "- Apply the same feature wrangling, selection, and engineering steps to the customer demographics using the `clean_data()` function you created earlier. (You can assume that the customer demographics data has similar meaning behind missing data patterns as the general demographics data.)\n",
    "- Use the sklearn objects from the general demographics data, and apply their transformations to the customers data. That is, you should not be using a `.fit()` or `.fit_transform()` method to re-fit the old objects, nor should you be creating new sklearn objects! Carry the data through the feature scaling, PCA, and clustering steps, obtaining cluster assignments for all of the data in the customer demographics data."
   ]
  },
  {
   "cell_type": "code",
   "execution_count": 116,
   "metadata": {},
   "outputs": [],
   "source": [
    "# Load in the customer demographics data.\n",
    "customers = pd.read_csv(\"Udacity_CUSTOMERS_Subset.csv\", sep=';')"
   ]
  },
  {
   "cell_type": "code",
   "execution_count": null,
   "metadata": {},
   "outputs": [],
   "source": []
  },
  {
   "cell_type": "code",
   "execution_count": 117,
   "metadata": {},
   "outputs": [
    {
     "name": "stdout",
     "output_type": "stream",
     "text": [
      "(191652, 85)\n",
      "Index(['TITEL_KZ'], dtype='object')\n",
      "50\n"
     ]
    },
    {
     "name": "stderr",
     "output_type": "stream",
     "text": [
      "/opt/conda/lib/python3.6/site-packages/ipykernel_launcher.py:30: SettingWithCopyWarning: \n",
      "A value is trying to be set on a copy of a slice from a DataFrame.\n",
      "Try using .loc[row_indexer,col_indexer] = value instead\n",
      "\n",
      "See the caveats in the documentation: http://pandas.pydata.org/pandas-docs/stable/indexing.html#indexing-view-versus-copy\n"
     ]
    },
    {
     "name": "stdout",
     "output_type": "stream",
     "text": [
      "(141176, 208)\n"
     ]
    }
   ],
   "source": [
    "# Apply preprocessing, feature transformation, and clustering from the general\n",
    "# demographics onto the customer data, obtaining cluster predictions for the\n",
    "# customer demographics data.\n",
    "\n",
    "print(customers.shape)\n",
    "customers_clean_data = clean_data(customers)\n",
    "print(customers_clean_data.shape)\n"
   ]
  },
  {
   "cell_type": "code",
   "execution_count": 118,
   "metadata": {},
   "outputs": [
    {
     "name": "stdout",
     "output_type": "stream",
     "text": [
      "{'AGER_TYP_2.0', 'KBA05_BAUMAX', 'KK_KUNDENTYP_5.0', 'KK_KUNDENTYP_4.0', 'AGER_TYP_1.0', 'ALTER_HH', 'KK_KUNDENTYP_6.0', 'KK_KUNDENTYP_1.0', 'GEBURTSJAHR', 'AGER_TYP_3.0', 'KK_KUNDENTYP_3.0', 'KK_KUNDENTYP_2.0'}\n"
     ]
    }
   ],
   "source": [
    "extra_features_of_customers_data = set(customers_clean_data.columns) - set(df_transformed.columns)\n",
    "\n",
    "print(extra_features_of_customers_data)"
   ]
  },
  {
   "cell_type": "code",
   "execution_count": 119,
   "metadata": {},
   "outputs": [
    {
     "name": "stdout",
     "output_type": "stream",
     "text": [
      "{'GEBAEUDETYP_5.0'}\n"
     ]
    }
   ],
   "source": [
    "features_of_population_not_in_customers = set(df_transformed.columns) - set(customers_clean_data.columns)\n",
    "print(features_of_population_not_in_customers)"
   ]
  },
  {
   "cell_type": "code",
   "execution_count": 120,
   "metadata": {},
   "outputs": [],
   "source": [
    "customers_clean_data.drop(extra_features_of_customers_data, axis=1, inplace=True)"
   ]
  },
  {
   "cell_type": "code",
   "execution_count": 121,
   "metadata": {},
   "outputs": [],
   "source": [
    "for feature in features_of_population_not_in_customers:\n",
    "    customers_clean_data[feature] = 0"
   ]
  },
  {
   "cell_type": "code",
   "execution_count": 122,
   "metadata": {},
   "outputs": [
    {
     "name": "stdout",
     "output_type": "stream",
     "text": [
      "(797077, 197)\n",
      "(141176, 197)\n"
     ]
    }
   ],
   "source": [
    "print(df_transformed.shape)\n",
    "print(customers_clean_data.shape)"
   ]
  },
  {
   "cell_type": "code",
   "execution_count": 123,
   "metadata": {},
   "outputs": [
    {
     "data": {
      "text/plain": [
       "Index(['ALTERSKATEGORIE_GROB', 'ANREDE_KZ', 'FINANZ_MINIMALIST',\n",
       "       'FINANZ_SPARER', 'FINANZ_VORSORGER', 'FINANZ_ANLEGER',\n",
       "       'FINANZ_UNAUFFAELLIGER', 'FINANZ_HAUSBAUER', 'GREEN_AVANTGARDE',\n",
       "       'HEALTH_TYP',\n",
       "       ...\n",
       "       'CAMEO_DEU_2015_8D', 'CAMEO_DEU_2015_9A', 'CAMEO_DEU_2015_9B',\n",
       "       'CAMEO_DEU_2015_9C', 'CAMEO_DEU_2015_9D', 'CAMEO_DEU_2015_9E',\n",
       "       'PRAEGENDE_JUGENDJAHRE_DECADE', 'PRAEGENDE_JUGENDJAHRE_MOVEMENT',\n",
       "       'CAMEO_INTL_2015_ONES', 'CAMEO_INTL_2015_TENS'],\n",
       "      dtype='object', length=197)"
      ]
     },
     "execution_count": 123,
     "metadata": {},
     "output_type": "execute_result"
    }
   ],
   "source": [
    "df_transformed.columns"
   ]
  },
  {
   "cell_type": "code",
   "execution_count": 124,
   "metadata": {},
   "outputs": [],
   "source": [
    "customers_clean_data = customers_clean_data[df_transformed.columns]"
   ]
  },
  {
   "cell_type": "code",
   "execution_count": null,
   "metadata": {},
   "outputs": [],
   "source": []
  },
  {
   "cell_type": "code",
   "execution_count": 125,
   "metadata": {},
   "outputs": [],
   "source": [
    "customer_scale = st.transform(customers_clean_data)\n",
    "\n",
    "customer_pca = pca.transform(customer_scale)\n",
    "\n",
    "y_customer_clusters = kmeans.predict(customer_pca)"
   ]
  },
  {
   "cell_type": "markdown",
   "metadata": {},
   "source": [
    "### Step 3.3: Compare Customer Data to Demographics Data\n",
    "\n",
    "At this point, you have clustered data based on demographics of the general population of Germany, and seen how the customer data for a mail-order sales company maps onto those demographic clusters. In this final substep, you will compare the two cluster distributions to see where the strongest customer base for the company is.\n",
    "\n",
    "Consider the proportion of persons in each cluster for the general population, and the proportions for the customers. If we think the company's customer base to be universal, then the cluster assignment proportions should be fairly similar between the two. If there are only particular segments of the population that are interested in the company's products, then we should see a mismatch from one to the other. If there is a higher proportion of persons in a cluster for the customer data compared to the general population (e.g. 5% of persons are assigned to a cluster for the general population, but 15% of the customer data is closest to that cluster's centroid) then that suggests the people in that cluster to be a target audience for the company. On the other hand, the proportion of the data in a cluster being larger in the general population than the customer data (e.g. only 2% of customers closest to a population centroid that captures 6% of the data) suggests that group of persons to be outside of the target demographics.\n",
    "\n",
    "Take a look at the following points in this step:\n",
    "\n",
    "- Compute the proportion of data points in each cluster for the general population and the customer data. Visualizations will be useful here: both for the individual dataset proportions, but also to visualize the ratios in cluster representation between groups. Seaborn's [`countplot()`](https://seaborn.pydata.org/generated/seaborn.countplot.html) or [`barplot()`](https://seaborn.pydata.org/generated/seaborn.barplot.html) function could be handy.\n",
    "  - Recall the analysis you performed in step 1.1.3 of the project, where you separated out certain data points from the dataset if they had more than a specified threshold of missing values. If you found that this group was qualitatively different from the main bulk of the data, you should treat this as an additional data cluster in this analysis. Make sure that you account for the number of data points in this subset, for both the general population and customer datasets, when making your computations!\n",
    "- Which cluster or clusters are overrepresented in the customer dataset compared to the general population? Select at least one such cluster and infer what kind of people might be represented by that cluster. Use the principal component interpretations from step 2.3 or look at additional components to help you make this inference. Alternatively, you can use the `.inverse_transform()` method of the PCA and StandardScaler objects to transform centroids back to the original data space and interpret the retrieved values directly.\n",
    "- Perform a similar investigation for the underrepresented clusters. Which cluster or clusters are underrepresented in the customer dataset compared to the general population, and what kinds of people are typified by these clusters?"
   ]
  },
  {
   "cell_type": "markdown",
   "metadata": {},
   "source": [
    "# Also represnting -1 cluster for missing_data from the analysis"
   ]
  },
  {
   "cell_type": "code",
   "execution_count": 183,
   "metadata": {},
   "outputs": [
    {
     "name": "stdout",
     "output_type": "stream",
     "text": [
      "(797077,)\n",
      "(891221, 85)\n"
     ]
    }
   ],
   "source": [
    "print(y_clusters.shape)\n",
    "print(azdias.shape)\n"
   ]
  },
  {
   "cell_type": "code",
   "execution_count": 171,
   "metadata": {},
   "outputs": [],
   "source": [
    "from numpy import array"
   ]
  },
  {
   "cell_type": "code",
   "execution_count": 180,
   "metadata": {},
   "outputs": [],
   "source": [
    "missing_data = azdias.shape[0] - y_clusters.shape[0]\n",
    "y_general_population_cluster = np.append(y_clusters , array([-1]*missing_data))"
   ]
  },
  {
   "cell_type": "code",
   "execution_count": 181,
   "metadata": {},
   "outputs": [
    {
     "data": {
      "text/plain": [
       "<matplotlib.axes._subplots.AxesSubplot at 0x7ff23a379780>"
      ]
     },
     "execution_count": 181,
     "metadata": {},
     "output_type": "execute_result"
    },
    {
     "data": {
      "image/png": "[encoded data removed]",
      "text/plain": [
       "<matplotlib.figure.Figure at 0x7ff1a14c1860>"
      ]
     },
     "metadata": {
      "needs_background": "light"
     },
     "output_type": "display_data"
    }
   ],
   "source": [
    "# Compare the proportion of data in each cluster for the customer data to the\n",
    "# proportion of data in each cluster for the general population.\n",
    "\n",
    "plt.title(\"General Popultion \")\n",
    "sns.countplot(y_general_population_cluster)"
   ]
  },
  {
   "cell_type": "code",
   "execution_count": 182,
   "metadata": {},
   "outputs": [
    {
     "name": "stdout",
     "output_type": "stream",
     "text": [
      "(141176,)\n",
      "(191652, 85)\n"
     ]
    }
   ],
   "source": [
    "print(y_customer_clusters.shape)\n",
    "print(customers.shape)"
   ]
  },
  {
   "cell_type": "code",
   "execution_count": 184,
   "metadata": {},
   "outputs": [],
   "source": [
    "missing_data = customers.shape[0] - y_customer_clusters.shape[0]\n",
    "\n",
    "y_customer_clusters = np.append(y_customer_clusters , array([-1]*missing_data))"
   ]
  },
  {
   "cell_type": "code",
   "execution_count": 185,
   "metadata": {},
   "outputs": [
    {
     "data": {
      "text/plain": [
       "<matplotlib.axes._subplots.AxesSubplot at 0x7ff239fe9da0>"
      ]
     },
     "execution_count": 185,
     "metadata": {},
     "output_type": "execute_result"
    },
    {
     "data": {
      "image/png": "[encoded data removed]",
      "text/plain": [
       "<matplotlib.figure.Figure at 0x7ff239fe8710>"
      ]
     },
     "metadata": {
      "needs_background": "light"
     },
     "output_type": "display_data"
    }
   ],
   "source": [
    "plt.title(\"Customer Data\")\n",
    "sns.countplot(y_customer_clusters)"
   ]
  },
  {
   "cell_type": "markdown",
   "metadata": {},
   "source": [
    "### Cluster data distribution"
   ]
  },
  {
   "cell_type": "code",
   "execution_count": 131,
   "metadata": {},
   "outputs": [],
   "source": [
    "def cluster_data_distribution(cluster_output):\n",
    "    for i in range(4):\n",
    "        print(\"Cluster: {0} has {1} % of data points \".\n",
    "              format(i, round(sum(cluster_output == i)/len(cluster_output) , 2) * 100 ))"
   ]
  },
  {
   "cell_type": "code",
   "execution_count": 132,
   "metadata": {},
   "outputs": [
    {
     "name": "stdout",
     "output_type": "stream",
     "text": [
      "Cluster: 0 has 28.000000000000004 % of data points \n",
      "Cluster: 1 has 17.0 % of data points \n",
      "Cluster: 2 has 30.0 % of data points \n",
      "Cluster: 3 has 25.0 % of data points \n"
     ]
    }
   ],
   "source": [
    "cluster_data_distribution(y_clusters)"
   ]
  },
  {
   "cell_type": "code",
   "execution_count": 133,
   "metadata": {},
   "outputs": [
    {
     "name": "stdout",
     "output_type": "stream",
     "text": [
      "Cluster: 0 has 23.0 % of data points \n",
      "Cluster: 1 has 47.0 % of data points \n",
      "Cluster: 2 has 27.0 % of data points \n",
      "Cluster: 3 has 2.0 % of data points \n"
     ]
    }
   ],
   "source": [
    "cluster_data_distribution(y_customer_clusters)"
   ]
  },
  {
   "cell_type": "code",
   "execution_count": 152,
   "metadata": {},
   "outputs": [],
   "source": [
    "# What kinds of people are part of a cluster that is overrepresented in the\n",
    "# customer data compared to the general population?\n"
   ]
  },
  {
   "cell_type": "code",
   "execution_count": 147,
   "metadata": {},
   "outputs": [],
   "source": [
    "combine_df = pd.DataFrame(df_transformed[y_clusters==1].mode(axis=0).values.reshape(-1,1), \n",
    "                          columns=[\"general_population\"],\n",
    "                         index=df_transformed.columns)\n",
    "\n",
    "combine_df['customer_data'] = customers_clean_data[y_customer_clusters==1].mode(axis=0).values.reshape(-1,1)"
   ]
  },
  {
   "cell_type": "code",
   "execution_count": 148,
   "metadata": {},
   "outputs": [
    {
     "data": {
      "text/html": [
       "<div>\n",
       "<style>\n",
       "    .dataframe thead tr:only-child th {\n",
       "        text-align: right;\n",
       "    }\n",
       "\n",
       "    .dataframe thead th {\n",
       "        text-align: left;\n",
       "    }\n",
       "\n",
       "    .dataframe tbody tr th {\n",
       "        vertical-align: top;\n",
       "    }\n",
       "</style>\n",
       "<table border=\"1\" class=\"dataframe\">\n",
       "  <thead>\n",
       "    <tr style=\"text-align: right;\">\n",
       "      <th></th>\n",
       "      <th>general_population</th>\n",
       "      <th>customer_data</th>\n",
       "    </tr>\n",
       "  </thead>\n",
       "  <tbody>\n",
       "    <tr>\n",
       "      <th>ALTERSKATEGORIE_GROB</th>\n",
       "      <td>3.0</td>\n",
       "      <td>4.0</td>\n",
       "    </tr>\n",
       "    <tr>\n",
       "      <th>ANREDE_KZ</th>\n",
       "      <td>1.0</td>\n",
       "      <td>1.0</td>\n",
       "    </tr>\n",
       "    <tr>\n",
       "      <th>FINANZ_MINIMALIST</th>\n",
       "      <td>5.0</td>\n",
       "      <td>5.0</td>\n",
       "    </tr>\n",
       "    <tr>\n",
       "      <th>FINANZ_SPARER</th>\n",
       "      <td>1.0</td>\n",
       "      <td>1.0</td>\n",
       "    </tr>\n",
       "    <tr>\n",
       "      <th>FINANZ_VORSORGER</th>\n",
       "      <td>5.0</td>\n",
       "      <td>5.0</td>\n",
       "    </tr>\n",
       "  </tbody>\n",
       "</table>\n",
       "</div>"
      ],
      "text/plain": [
       "                      general_population  customer_data\n",
       "ALTERSKATEGORIE_GROB                 3.0            4.0\n",
       "ANREDE_KZ                            1.0            1.0\n",
       "FINANZ_MINIMALIST                    5.0            5.0\n",
       "FINANZ_SPARER                        1.0            1.0\n",
       "FINANZ_VORSORGER                     5.0            5.0"
      ]
     },
     "execution_count": 148,
     "metadata": {},
     "output_type": "execute_result"
    }
   ],
   "source": [
    "combine_df.head()"
   ]
  },
  {
   "cell_type": "code",
   "execution_count": 151,
   "metadata": {},
   "outputs": [
    {
     "data": {
      "text/html": [
       "<div>\n",
       "<style>\n",
       "    .dataframe thead tr:only-child th {\n",
       "        text-align: right;\n",
       "    }\n",
       "\n",
       "    .dataframe thead th {\n",
       "        text-align: left;\n",
       "    }\n",
       "\n",
       "    .dataframe tbody tr th {\n",
       "        vertical-align: top;\n",
       "    }\n",
       "</style>\n",
       "<table border=\"1\" class=\"dataframe\">\n",
       "  <thead>\n",
       "    <tr style=\"text-align: right;\">\n",
       "      <th></th>\n",
       "      <th>general_population</th>\n",
       "      <th>customer_data</th>\n",
       "    </tr>\n",
       "  </thead>\n",
       "  <tbody>\n",
       "    <tr>\n",
       "      <th>ALTERSKATEGORIE_GROB</th>\n",
       "      <td>3.0</td>\n",
       "      <td>4.0</td>\n",
       "    </tr>\n",
       "    <tr>\n",
       "      <th>FINANZ_HAUSBAUER</th>\n",
       "      <td>1.0</td>\n",
       "      <td>2.0</td>\n",
       "    </tr>\n",
       "    <tr>\n",
       "      <th>HEALTH_TYP</th>\n",
       "      <td>2.0</td>\n",
       "      <td>1.0</td>\n",
       "    </tr>\n",
       "    <tr>\n",
       "      <th>LP_LEBENSPHASE_FEIN</th>\n",
       "      <td>13.0</td>\n",
       "      <td>40.0</td>\n",
       "    </tr>\n",
       "    <tr>\n",
       "      <th>SEMIO_FAM</th>\n",
       "      <td>3.0</td>\n",
       "      <td>4.0</td>\n",
       "    </tr>\n",
       "    <tr>\n",
       "      <th>SEMIO_MAT</th>\n",
       "      <td>1.0</td>\n",
       "      <td>6.0</td>\n",
       "    </tr>\n",
       "    <tr>\n",
       "      <th>SEMIO_ERL</th>\n",
       "      <td>4.0</td>\n",
       "      <td>3.0</td>\n",
       "    </tr>\n",
       "    <tr>\n",
       "      <th>SEMIO_KULT</th>\n",
       "      <td>3.0</td>\n",
       "      <td>4.0</td>\n",
       "    </tr>\n",
       "    <tr>\n",
       "      <th>SEMIO_RAT</th>\n",
       "      <td>4.0</td>\n",
       "      <td>3.0</td>\n",
       "    </tr>\n",
       "    <tr>\n",
       "      <th>SEMIO_DOM</th>\n",
       "      <td>5.0</td>\n",
       "      <td>3.0</td>\n",
       "    </tr>\n",
       "    <tr>\n",
       "      <th>SEMIO_PFLICHT</th>\n",
       "      <td>3.0</td>\n",
       "      <td>4.0</td>\n",
       "    </tr>\n",
       "    <tr>\n",
       "      <th>VERS_TYP</th>\n",
       "      <td>2.0</td>\n",
       "      <td>1.0</td>\n",
       "    </tr>\n",
       "    <tr>\n",
       "      <th>LP_FAMILIE_GROB_5.0</th>\n",
       "      <td>0.0</td>\n",
       "      <td>1.0</td>\n",
       "    </tr>\n",
       "    <tr>\n",
       "      <th>ZABEOTYP_1</th>\n",
       "      <td>0.0</td>\n",
       "      <td>1.0</td>\n",
       "    </tr>\n",
       "    <tr>\n",
       "      <th>PRAEGENDE_JUGENDJAHRE_DECADE</th>\n",
       "      <td>80.0</td>\n",
       "      <td>50.0</td>\n",
       "    </tr>\n",
       "  </tbody>\n",
       "</table>\n",
       "</div>"
      ],
      "text/plain": [
       "                              general_population  customer_data\n",
       "ALTERSKATEGORIE_GROB                         3.0            4.0\n",
       "FINANZ_HAUSBAUER                             1.0            2.0\n",
       "HEALTH_TYP                                   2.0            1.0\n",
       "LP_LEBENSPHASE_FEIN                         13.0           40.0\n",
       "SEMIO_FAM                                    3.0            4.0\n",
       "SEMIO_MAT                                    1.0            6.0\n",
       "SEMIO_ERL                                    4.0            3.0\n",
       "SEMIO_KULT                                   3.0            4.0\n",
       "SEMIO_RAT                                    4.0            3.0\n",
       "SEMIO_DOM                                    5.0            3.0\n",
       "SEMIO_PFLICHT                                3.0            4.0\n",
       "VERS_TYP                                     2.0            1.0\n",
       "LP_FAMILIE_GROB_5.0                          0.0            1.0\n",
       "ZABEOTYP_1                                   0.0            1.0\n",
       "PRAEGENDE_JUGENDJAHRE_DECADE                80.0           50.0"
      ]
     },
     "execution_count": 151,
     "metadata": {},
     "output_type": "execute_result"
    }
   ],
   "source": [
    "combine_df[combine_df['general_population'] != combine_df['customer_data']]"
   ]
  },
  {
   "cell_type": "markdown",
   "metadata": {},
   "source": [
    " ### Overrepresented data ?\n",
    " As we can see from the above output difference between the customer and general population data, cluster 1 is overrepresented in customer data as compare to general population.\n",
    " \n",
    " * In General Population Estimated age based on given name analysis is 3: 46 - 60 years old but in Customer data is 4: > 60 years old\n",
    " \n",
    " * In General Population most frequent population are from 80s but in Customer data most frequent population are from 50s\n",
    " \n",
    " * In General Population most frequent life stage, final scale of population is 13: single top earners of higher age but in Customer data most frequent life state, final scale of population is - 40: top earners at retirement age from multiperson households\n"
   ]
  },
  {
   "cell_type": "code",
   "execution_count": 153,
   "metadata": {},
   "outputs": [],
   "source": [
    "# What kinds of people are part of a cluster that is underrepresented in the\n",
    "# customer data compared to the general population?\n",
    "\n",
    "combine_df = pd.DataFrame(df_transformed[y_clusters==3].mode(axis=0).values.reshape(-1,1), \n",
    "                          columns=[\"general_population\"],\n",
    "                         index=df_transformed.columns)\n",
    "\n",
    "combine_df['customer_data'] = customers_clean_data[y_customer_clusters==3].mode(axis=0).values.reshape(-1,1)"
   ]
  },
  {
   "cell_type": "code",
   "execution_count": 154,
   "metadata": {},
   "outputs": [
    {
     "data": {
      "text/html": [
       "<div>\n",
       "<style>\n",
       "    .dataframe thead tr:only-child th {\n",
       "        text-align: right;\n",
       "    }\n",
       "\n",
       "    .dataframe thead th {\n",
       "        text-align: left;\n",
       "    }\n",
       "\n",
       "    .dataframe tbody tr th {\n",
       "        vertical-align: top;\n",
       "    }\n",
       "</style>\n",
       "<table border=\"1\" class=\"dataframe\">\n",
       "  <thead>\n",
       "    <tr style=\"text-align: right;\">\n",
       "      <th></th>\n",
       "      <th>general_population</th>\n",
       "      <th>customer_data</th>\n",
       "    </tr>\n",
       "  </thead>\n",
       "  <tbody>\n",
       "    <tr>\n",
       "      <th>ALTERSKATEGORIE_GROB</th>\n",
       "      <td>1.0</td>\n",
       "      <td>2.0</td>\n",
       "    </tr>\n",
       "    <tr>\n",
       "      <th>FINANZ_SPARER</th>\n",
       "      <td>5.0</td>\n",
       "      <td>4.0</td>\n",
       "    </tr>\n",
       "    <tr>\n",
       "      <th>FINANZ_UNAUFFAELLIGER</th>\n",
       "      <td>4.0</td>\n",
       "      <td>5.0</td>\n",
       "    </tr>\n",
       "    <tr>\n",
       "      <th>FINANZ_HAUSBAUER</th>\n",
       "      <td>5.0</td>\n",
       "      <td>4.0</td>\n",
       "    </tr>\n",
       "    <tr>\n",
       "      <th>HEALTH_TYP</th>\n",
       "      <td>3.0</td>\n",
       "      <td>2.0</td>\n",
       "    </tr>\n",
       "    <tr>\n",
       "      <th>RETOURTYP_BK_S</th>\n",
       "      <td>1.0</td>\n",
       "      <td>4.0</td>\n",
       "    </tr>\n",
       "    <tr>\n",
       "      <th>SEMIO_KAEM</th>\n",
       "      <td>6.0</td>\n",
       "      <td>7.0</td>\n",
       "    </tr>\n",
       "    <tr>\n",
       "      <th>VERS_TYP</th>\n",
       "      <td>2.0</td>\n",
       "      <td>1.0</td>\n",
       "    </tr>\n",
       "    <tr>\n",
       "      <th>ANZ_HAUSHALTE_AKTIV</th>\n",
       "      <td>3.0</td>\n",
       "      <td>8.0</td>\n",
       "    </tr>\n",
       "    <tr>\n",
       "      <th>KBA05_GBZ</th>\n",
       "      <td>3.0</td>\n",
       "      <td>2.0</td>\n",
       "    </tr>\n",
       "    <tr>\n",
       "      <th>GEBAEUDETYP_RASTER</th>\n",
       "      <td>4.0</td>\n",
       "      <td>3.0</td>\n",
       "    </tr>\n",
       "    <tr>\n",
       "      <th>ONLINE_AFFINITAET</th>\n",
       "      <td>3.0</td>\n",
       "      <td>4.0</td>\n",
       "    </tr>\n",
       "    <tr>\n",
       "      <th>PLZ8_ANTG2</th>\n",
       "      <td>3.0</td>\n",
       "      <td>4.0</td>\n",
       "    </tr>\n",
       "    <tr>\n",
       "      <th>PLZ8_ANTG3</th>\n",
       "      <td>2.0</td>\n",
       "      <td>3.0</td>\n",
       "    </tr>\n",
       "    <tr>\n",
       "      <th>PLZ8_BAUMAX</th>\n",
       "      <td>1.0</td>\n",
       "      <td>5.0</td>\n",
       "    </tr>\n",
       "    <tr>\n",
       "      <th>ORTSGR_KLS9</th>\n",
       "      <td>5.0</td>\n",
       "      <td>9.0</td>\n",
       "    </tr>\n",
       "    <tr>\n",
       "      <th>LP_FAMILIE_GROB_1.0</th>\n",
       "      <td>1.0</td>\n",
       "      <td>0.0</td>\n",
       "    </tr>\n",
       "    <tr>\n",
       "      <th>CAMEO_INTL_2015_TENS</th>\n",
       "      <td>50.0</td>\n",
       "      <td>40.0</td>\n",
       "    </tr>\n",
       "  </tbody>\n",
       "</table>\n",
       "</div>"
      ],
      "text/plain": [
       "                       general_population  customer_data\n",
       "ALTERSKATEGORIE_GROB                  1.0            2.0\n",
       "FINANZ_SPARER                         5.0            4.0\n",
       "FINANZ_UNAUFFAELLIGER                 4.0            5.0\n",
       "FINANZ_HAUSBAUER                      5.0            4.0\n",
       "HEALTH_TYP                            3.0            2.0\n",
       "RETOURTYP_BK_S                        1.0            4.0\n",
       "SEMIO_KAEM                            6.0            7.0\n",
       "VERS_TYP                              2.0            1.0\n",
       "ANZ_HAUSHALTE_AKTIV                   3.0            8.0\n",
       "KBA05_GBZ                             3.0            2.0\n",
       "GEBAEUDETYP_RASTER                    4.0            3.0\n",
       "ONLINE_AFFINITAET                     3.0            4.0\n",
       "PLZ8_ANTG2                            3.0            4.0\n",
       "PLZ8_ANTG3                            2.0            3.0\n",
       "PLZ8_BAUMAX                           1.0            5.0\n",
       "ORTSGR_KLS9                           5.0            9.0\n",
       "LP_FAMILIE_GROB_1.0                   1.0            0.0\n",
       "CAMEO_INTL_2015_TENS                 50.0           40.0"
      ]
     },
     "execution_count": 154,
     "metadata": {},
     "output_type": "execute_result"
    }
   ],
   "source": [
    "combine_df[combine_df['general_population'] != combine_df['customer_data']]"
   ]
  },
  {
   "cell_type": "markdown",
   "metadata": {},
   "source": [
    "### Underepresented data ?\n",
    " As we can see from the above output difference between the customer and general population data, cluster 3 is underrepresented in customer data as compare to general population.\n",
    " \n",
    " * In General Population most frequent age group is 1: < 30 years old but in Customer data is 2: 30 - 45 years old\n",
    " \n",
    " * In General Population most frequent population belogs to 50: Poorer Households but in Customer data is 40: Less Affluent Households\n",
    " \n",
    " * In General Population most frequent health type of population is 3: jaunty hedonists but in Customer data is 2: sanitary affine"
   ]
  },
  {
   "cell_type": "markdown",
   "metadata": {},
   "source": [
    "### Discussion 3.3: Compare Customer Data to Demographics Data\n",
    "\n",
    "> ### Can we describe segments of the population that are relatively popular with the mail-order company, or relatively unpopular with the company?\n",
    "\n",
    "    From the above countplots of general population and customer data and the figures of data distribution of cluster is very clear that Segment 1 is very popular with mail-order comanpy and Segment 3 is unpopular.\n",
    "    \n",
    "    Segment 1 , there is a higher proportion of persons in a cluster for the customer data compared to the general population, that is 47%.\n",
    "    \n",
    "    Segment 1, lower proportion of persons in a cluster for the customer data compared to the general population, that is 2%.\n",
    "    \n",
    "    "
   ]
  },
  {
   "cell_type": "code",
   "execution_count": null,
   "metadata": {},
   "outputs": [],
   "source": []
  },
  {
   "cell_type": "markdown",
   "metadata": {},
   "source": [
    "> Congratulations on making it this far in the project! Before you finish, make sure to check through the entire notebook from top to bottom to make sure that your analysis follows a logical flow and all of your findings are documented in **Discussion** cells. Once you've checked over all of your work, you should export the notebook as an HTML document to submit for evaluation. You can do this from the menu, navigating to **File -> Download as -> HTML (.html)**. You will submit both that document and this notebook for your project submission."
   ]
  },
  {
   "cell_type": "code",
   "execution_count": null,
   "metadata": {},
   "outputs": [],
   "source": []
  },
  {
   "cell_type": "code",
   "execution_count": null,
   "metadata": {},
   "outputs": [],
   "source": []
  }
 ],
 "metadata": {
  "kernelspec": {
   "display_name": "Python 3",
   "language": "python",
   "name": "python3"
  },
  "language_info": {
   "codemirror_mode": {
    "name": "ipython",
    "version": 3
   },
   "file_extension": ".py",
   "mimetype": "text/x-python",
   "name": "python",
   "nbconvert_exporter": "python",
   "pygments_lexer": "ipython3",
   "version": "3.6.3"
  }
 },
 "nbformat": 4,
 "nbformat_minor": 2
}
